{
 "cells": [
  {
   "cell_type": "code",
   "execution_count": 2,
   "metadata": {},
   "outputs": [],
   "source": [
    "import uproot\n",
    "import matplotlib.pyplot as plt\n",
    "import matplotlib.patches as patches\n",
    "import numpy as np\n",
    "import glob\n",
    "from IPython.display import display, clear_output"
   ]
  },
  {
   "cell_type": "code",
   "execution_count": 3,
   "metadata": {},
   "outputs": [],
   "source": [
    "%matplotlib inline"
   ]
  },
  {
   "cell_type": "code",
   "execution_count": 4,
   "metadata": {},
   "outputs": [],
   "source": [
    "def binom_err(bins_nom, bins_denom):\n",
    "    p = bins_nom/bins_denom\n",
    "    q = 1-p\n",
    "    return np.sqrt(q*(1-p)/bins_denom)"
   ]
  },
  {
   "cell_type": "code",
   "execution_count": 5,
   "metadata": {},
   "outputs": [],
   "source": [
    "muon_mass = 0.105658\n",
    "\n",
    "det_x = np.array([-1.55, 254.8])\n",
    "det_y = np.array([-115.53, 117.47])\n",
    "det_z = np.array([0.1, 1036.9])\n",
    "eps= np.array([-0.001, 0.001])\n",
    "\n",
    "\n",
    "main_tree_name = 'cosmicstudies'\n",
    "flash_name = b'SimpleCosmicFlashes'\n",
    "\n",
    "outdir = './Output/SimpleCosmicFlash/'\n",
    "# Input file lists\n",
    "file_name_mc = './input/CosmicStudies_mc_100k_mcc9_nu.root'\n",
    "file_name_data = './input/CosmicStudies_data_162k.root'"
   ]
  },
  {
   "cell_type": "code",
   "execution_count": 6,
   "metadata": {},
   "outputs": [],
   "source": [
    "file_mc = uproot.open(file_name_mc)[main_tree_name]\n",
    "file_data = uproot.open(file_name_data)[main_tree_name]"
   ]
  },
  {
   "cell_type": "code",
   "execution_count": 7,
   "metadata": {},
   "outputs": [
    {
     "data": {
      "text/plain": [
       "[b'pot;1',\n",
       " b'Event;1',\n",
       " b'OpBeamFlashes;1',\n",
       " b'SimpleBeamFlashes;1',\n",
       " b'OpCosmicFlashes;1',\n",
       " b'SimpleCosmicFlashes;1',\n",
       " b'PFParticles;1',\n",
       " b'Clusters;1']"
      ]
     },
     "execution_count": 7,
     "metadata": {},
     "output_type": "execute_result"
    }
   ],
   "source": [
    "file_data.keys()"
   ]
  },
  {
   "cell_type": "code",
   "execution_count": 8,
   "metadata": {},
   "outputs": [
    {
     "data": {
      "text/plain": [
       "[b'event',\n",
       " b'run',\n",
       " b'subrun',\n",
       " b'pot',\n",
       " b'dataset_prescale_factor',\n",
       " b'num_simplebeamflashes',\n",
       " b'num_opbeamflashes',\n",
       " b'num_simplecosmicflashes',\n",
       " b'num_opcosmicflashes',\n",
       " b'num_pfp',\n",
       " b'num_pfp_saved',\n",
       " b'num_mcp',\n",
       " b'num_mcp_saved',\n",
       " b'num_nu',\n",
       " b'nu_vtx_x',\n",
       " b'nu_vtx_y',\n",
       " b'nu_vtx_z',\n",
       " b'nu_E',\n",
       " b'nu_time',\n",
       " b'nu_pdg_code',\n",
       " b'nu_ccnc']"
      ]
     },
     "execution_count": 8,
     "metadata": {},
     "output_type": "execute_result"
    }
   ],
   "source": [
    "file_mc[b'Event'].keys()"
   ]
  },
  {
   "cell_type": "code",
   "execution_count": 9,
   "metadata": {},
   "outputs": [],
   "source": [
    "df_flash_mc = file_mc[flash_name].pandas.df()\n",
    "df_flash_data = file_data[flash_name].pandas.df()"
   ]
  },
  {
   "cell_type": "code",
   "execution_count": 27,
   "metadata": {},
   "outputs": [
    {
     "data": {
      "text/html": [
       "<div>\n",
       "<style scoped>\n",
       "    .dataframe tbody tr th:only-of-type {\n",
       "        vertical-align: middle;\n",
       "    }\n",
       "\n",
       "    .dataframe tbody tr th {\n",
       "        vertical-align: top;\n",
       "    }\n",
       "\n",
       "    .dataframe thead th {\n",
       "        text-align: right;\n",
       "    }\n",
       "</style>\n",
       "<table border=\"1\" class=\"dataframe\">\n",
       "  <thead>\n",
       "    <tr style=\"text-align: right;\">\n",
       "      <th></th>\n",
       "      <th>event</th>\n",
       "      <th>run</th>\n",
       "      <th>subrun</th>\n",
       "      <th>dataset_prescale_factor</th>\n",
       "      <th>num_flashes</th>\n",
       "      <th>flash_time</th>\n",
       "      <th>flash_difftime</th>\n",
       "      <th>flash_totalPE</th>\n",
       "      <th>flash_z</th>\n",
       "      <th>flash_sz</th>\n",
       "      <th>flash_y</th>\n",
       "      <th>flash_sy</th>\n",
       "      <th>flash_width</th>\n",
       "      <th>flash_abstime</th>\n",
       "      <th>flash_num_PMT10percent</th>\n",
       "    </tr>\n",
       "  </thead>\n",
       "  <tbody>\n",
       "    <tr>\n",
       "      <th>0</th>\n",
       "      <td>12521</td>\n",
       "      <td>1</td>\n",
       "      <td>627</td>\n",
       "      <td>1.0</td>\n",
       "      <td>23</td>\n",
       "      <td>-135.453125</td>\n",
       "      <td>-135.453125</td>\n",
       "      <td>2292</td>\n",
       "      <td>502.915894</td>\n",
       "      <td>36.403194</td>\n",
       "      <td>-46.914692</td>\n",
       "      <td>26.895014</td>\n",
       "      <td>0.28125</td>\n",
       "      <td>3914.515625</td>\n",
       "      <td>0</td>\n",
       "    </tr>\n",
       "    <tr>\n",
       "      <th>1</th>\n",
       "      <td>12521</td>\n",
       "      <td>1</td>\n",
       "      <td>627</td>\n",
       "      <td>1.0</td>\n",
       "      <td>23</td>\n",
       "      <td>-467.703125</td>\n",
       "      <td>-332.250000</td>\n",
       "      <td>2267</td>\n",
       "      <td>326.558838</td>\n",
       "      <td>75.783302</td>\n",
       "      <td>-25.517715</td>\n",
       "      <td>39.064465</td>\n",
       "      <td>0.28125</td>\n",
       "      <td>3582.265625</td>\n",
       "      <td>0</td>\n",
       "    </tr>\n",
       "    <tr>\n",
       "      <th>2</th>\n",
       "      <td>12521</td>\n",
       "      <td>1</td>\n",
       "      <td>627</td>\n",
       "      <td>1.0</td>\n",
       "      <td>23</td>\n",
       "      <td>-2095.953125</td>\n",
       "      <td>-1628.250000</td>\n",
       "      <td>2120</td>\n",
       "      <td>536.905701</td>\n",
       "      <td>50.679386</td>\n",
       "      <td>-23.825260</td>\n",
       "      <td>45.116112</td>\n",
       "      <td>0.28125</td>\n",
       "      <td>1954.015625</td>\n",
       "      <td>0</td>\n",
       "    </tr>\n",
       "    <tr>\n",
       "      <th>3</th>\n",
       "      <td>12521</td>\n",
       "      <td>1</td>\n",
       "      <td>627</td>\n",
       "      <td>1.0</td>\n",
       "      <td>23</td>\n",
       "      <td>-1377.265625</td>\n",
       "      <td>718.687500</td>\n",
       "      <td>1793</td>\n",
       "      <td>729.699341</td>\n",
       "      <td>66.953842</td>\n",
       "      <td>3.274195</td>\n",
       "      <td>47.395329</td>\n",
       "      <td>0.28125</td>\n",
       "      <td>2672.703125</td>\n",
       "      <td>0</td>\n",
       "    </tr>\n",
       "    <tr>\n",
       "      <th>4</th>\n",
       "      <td>12521</td>\n",
       "      <td>1</td>\n",
       "      <td>627</td>\n",
       "      <td>1.0</td>\n",
       "      <td>23</td>\n",
       "      <td>957.203125</td>\n",
       "      <td>2334.468750</td>\n",
       "      <td>1569</td>\n",
       "      <td>577.790283</td>\n",
       "      <td>106.613594</td>\n",
       "      <td>6.183241</td>\n",
       "      <td>44.259678</td>\n",
       "      <td>0.28125</td>\n",
       "      <td>5007.171875</td>\n",
       "      <td>0</td>\n",
       "    </tr>\n",
       "  </tbody>\n",
       "</table>\n",
       "</div>"
      ],
      "text/plain": [
       "   event  run  subrun  dataset_prescale_factor  num_flashes   flash_time  \\\n",
       "0  12521    1     627                      1.0           23  -135.453125   \n",
       "1  12521    1     627                      1.0           23  -467.703125   \n",
       "2  12521    1     627                      1.0           23 -2095.953125   \n",
       "3  12521    1     627                      1.0           23 -1377.265625   \n",
       "4  12521    1     627                      1.0           23   957.203125   \n",
       "\n",
       "   flash_difftime  flash_totalPE     flash_z    flash_sz    flash_y  \\\n",
       "0     -135.453125           2292  502.915894   36.403194 -46.914692   \n",
       "1     -332.250000           2267  326.558838   75.783302 -25.517715   \n",
       "2    -1628.250000           2120  536.905701   50.679386 -23.825260   \n",
       "3      718.687500           1793  729.699341   66.953842   3.274195   \n",
       "4     2334.468750           1569  577.790283  106.613594   6.183241   \n",
       "\n",
       "    flash_sy  flash_width  flash_abstime  flash_num_PMT10percent  \n",
       "0  26.895014      0.28125    3914.515625                       0  \n",
       "1  39.064465      0.28125    3582.265625                       0  \n",
       "2  45.116112      0.28125    1954.015625                       0  \n",
       "3  47.395329      0.28125    2672.703125                       0  \n",
       "4  44.259678      0.28125    5007.171875                       0  "
      ]
     },
     "execution_count": 27,
     "metadata": {},
     "output_type": "execute_result"
    }
   ],
   "source": [
    "df_flash_mc.head()"
   ]
  },
  {
   "cell_type": "code",
   "execution_count": 10,
   "metadata": {},
   "outputs": [
    {
     "name": "stdout",
     "output_type": "stream",
     "text": [
      "99800\n"
     ]
    }
   ],
   "source": [
    "cols = [b'event', b'run', b'subrun', \n",
    "        b'num_simplebeamflashes', b'num_opbeamflashes', b'num_simplecosmicflashes', b'num_opcosmicflashes']\n",
    "df_event_mc = file_mc[b'Event'].pandas.df(cols)\n",
    "df_event_data = file_data[b'Event'].pandas.df()\n",
    "print(len(df_event_mc))"
   ]
  },
  {
   "cell_type": "code",
   "execution_count": 11,
   "metadata": {},
   "outputs": [],
   "source": [
    "df_mcp = file_mc[b'MCParticles'].pandas.df()\n",
    "df_mcp[\"mc_neutrino_origin\"] = df_mcp[\"mc_time\"].between(3.15e3,4.8e3)\n",
    "nu_ori_mc = \"(mc_neutrino_origin==0)\"\n",
    "df_mcp = df_mcp.query(nu_ori_mc)"
   ]
  },
  {
   "cell_type": "code",
   "execution_count": 12,
   "metadata": {},
   "outputs": [
    {
     "name": "stdout",
     "output_type": "stream",
     "text": [
      "5578898\n",
      "723.54987525\n"
     ]
    },
    {
     "data": {
      "image/png": "[encoded data removed]",
      "text/plain": [
       "<Figure size 720x288 with 2 Axes>"
      ]
     },
     "metadata": {
      "needs_background": "light"
     },
     "output_type": "display_data"
    }
   ],
   "source": [
    "# Make a plot of the muon density at the generation!\n",
    "df_mcp_gen = df_mcp.query('(mc_process==23) & (mc_pdg_code==13 | mc_pdg_code==-13)')\n",
    "print(len(df_mcp_gen))\n",
    "# Time in seconds of the sample\n",
    "total_time = (max(df_mcp_gen['mc_time'])-min(df_mcp_gen['mc_time']))*1e-9*len(df_event_mc) \n",
    "print(total_time)\n",
    "# Area in m*m\n",
    "total_area = (40)*(25)\n",
    "weights = np.full((len(df_mcp_gen)), (25*40)/total_area/total_time)\n",
    "\n",
    "fig, ax = plt.subplots(1, 1, figsize=(10, 4))\n",
    "c = ax.hist2d(df_mcp_gen[\"mc_startz\"],df_mcp_gen[\"mc_startx\"], range=((-1500,2500),(-1250,1250)), \n",
    "              cmap='coolwarm', bins=(40,25), weights=weights)\n",
    "clb = fig.colorbar(c[3], ax=ax)\n",
    "clb.set_label(r'Integrated muon flux [m$^{-2}$ s$^{-1}$]')\n",
    "rect = patches.Rectangle((det_z[0],det_x[0]),det_z[1]-det_z[0],det_x[1]-det_x[0],\n",
    "                         linewidth=3,edgecolor='C2',facecolor='none', label='TPC')\n",
    "ax.add_patch(rect)\n",
    "ax.legend()\n",
    "ax.set_ylabel(r'Muon $x$ at generation [cm]')\n",
    "ax.set_xlabel(r'Muon $z$ at generation [cm]')\n",
    "ax.set_title('Generation position of muons crossing the cryostat')\n",
    "\n",
    "fig.tight_layout()\n",
    "plt.savefig(\"./Output/SimpleCosmicFlash/startxz_generation.pdf\", bbox_inches=\"tight\")"
   ]
  },
  {
   "cell_type": "code",
   "execution_count": 13,
   "metadata": {},
   "outputs": [
    {
     "data": {
      "text/plain": [
       "True     3939043\n",
       "False    1639855\n",
       "Name: mc_part_inside, dtype: int64"
      ]
     },
     "execution_count": 13,
     "metadata": {},
     "output_type": "execute_result"
    }
   ],
   "source": [
    "df_mcp_gen.columns\n",
    "df_mcp_gen['mc_part_inside'].value_counts()"
   ]
  },
  {
   "cell_type": "code",
   "execution_count": 14,
   "metadata": {},
   "outputs": [
    {
     "name": "stdout",
     "output_type": "stream",
     "text": [
      "-13      5.251418e-01\n",
      " 13      4.401723e-01\n",
      " 2112    3.206659e-02\n",
      " 2212    1.573417e-03\n",
      " 22      4.544426e-04\n",
      "-11      2.693641e-04\n",
      " 11      2.601102e-04\n",
      " 211     4.376855e-05\n",
      "-211     1.700721e-05\n",
      "-2212    7.503179e-07\n",
      "-2112    5.002120e-07\n",
      "Name: mc_pdg_code, dtype: float64\n",
      "Fraction of crossing primaries that is an (anti-)muon: 96.53%\n",
      "-13      1904186\n",
      " 13      1593666\n",
      " 2112      34382\n",
      " 2212       1906\n",
      "-11         1023\n",
      " 11          989\n",
      " 22          307\n",
      " 211          48\n",
      "-211          20\n",
      "-2112          2\n",
      "Name: mc_pdg_code, dtype: int64\n",
      "Fraction of exiting crossing primaries that is an (anti-)muon: 98.91%\n"
     ]
    }
   ],
   "source": [
    "primary_query = '(mc_process==23)'\n",
    "muon_query = '(mc_pdg_code==13 | mc_pdg_code==-13)'\n",
    "cross_query = '(mc_length_tpc>10)' \n",
    "exit_tpc = '(mc_end_inside==0)'\n",
    "\n",
    "# Fix the bug that some particles actually did not cross the tpc but seem to do\n",
    "df_mc_prim_cross = df_mcp.query(primary_query +' & '+ cross_query) #+' & '+ ybug_query)\n",
    "\n",
    "cross_primary_fraction = len(df_mc_prim_cross.query(muon_query))/len(df_mc_prim_cross)\n",
    "print(df_mc_prim_cross['mc_pdg_code'].value_counts()/len(df_mc_prim_cross))\n",
    "print('Fraction of crossing primaries that is an (anti-)muon: {0:.2f}%'.format(cross_primary_fraction*100))\n",
    "df_mc_prim_exit = df_mc_prim_cross.query(exit_tpc)\n",
    "exit_primary_fraction = len(df_mc_prim_exit.query(muon_query))/len(df_mc_prim_exit)\n",
    "print(df_mc_prim_exit['mc_pdg_code'].value_counts())\n",
    "print('Fraction of exiting crossing primaries that is an (anti-)muon: {0:.2f}%'.format(exit_primary_fraction*100))\n",
    "\n",
    "df_mc_muon_cross = df_mc_prim_cross.query(muon_query).copy()\n",
    "df_mc_primary = df_mcp.query(primary_query).copy()\n",
    "del df_mcp # free the memory of the original frame!\n",
    "df_mc_muon_cross['Kinetic Energy'] = df_mc_muon_cross['mc_energy']-muon_mass\n",
    "\n",
    "# Conclusion: the primaries inside the TPC are mainly muons, 3% are neutrons."
   ]
  },
  {
   "cell_type": "markdown",
   "metadata": {},
   "source": [
    "## Plots done for MCP muons"
   ]
  },
  {
   "cell_type": "code",
   "execution_count": 15,
   "metadata": {},
   "outputs": [
    {
     "name": "stdout",
     "output_type": "stream",
     "text": [
      "Index(['event', 'run', 'subrun', 'num_mcp', 'num_mcp_saved', 'mc_energy',\n",
      "       'mc_pdg_code', 'mc_status_code', 'mc_process', 'mc_end_process',\n",
      "       'mc_is_matched', 'mc_start_inside', 'mc_end_inside', 'mc_part_inside',\n",
      "       'crt_crossed', 'mc_neutrino_origin', 'mc_time', 'mc_startx',\n",
      "       'mc_starty', 'mc_startz', 'mc_startx_tpc', 'mc_starty_tpc',\n",
      "       'mc_startz_tpc', 'mc_endx', 'mc_endy', 'mc_endz', 'mc_endx_tpc',\n",
      "       'mc_endy_tpc', 'mc_endz_tpc', 'mc_startmomentumx', 'mc_startmomentumy',\n",
      "       'mc_startmomentumz', 'mc_length', 'mc_length_tpc', 'Kinetic Energy'],\n",
      "      dtype='object')\n"
     ]
    }
   ],
   "source": [
    "# You created a frame with only primary muons! This is okay up to 1/1000\n",
    "print(df_mc_muon_cross.columns)"
   ]
  },
  {
   "cell_type": "code",
   "execution_count": 16,
   "metadata": {},
   "outputs": [
    {
     "data": {
      "text/plain": [
       "23    3859620\n",
       "Name: mc_process, dtype: int64"
      ]
     },
     "execution_count": 16,
     "metadata": {},
     "output_type": "execute_result"
    }
   ],
   "source": [
    "# Are all muons primary? \n",
    "df_mc_muon_cross['mc_process'].value_counts()\n",
    "# up to 1/1000, yes!"
   ]
  },
  {
   "cell_type": "code",
   "execution_count": 17,
   "metadata": {},
   "outputs": [
    {
     "data": {
      "text/plain": [
       "False    3497852\n",
       "True      361768\n",
       "Name: mc_end_inside, dtype: int64"
      ]
     },
     "execution_count": 17,
     "metadata": {},
     "output_type": "execute_result"
    }
   ],
   "source": [
    "# Do all muons start outside the TPC?\n",
    "df_mc_muon_cross['mc_end_inside'].value_counts()\n",
    "# Yes!"
   ]
  },
  {
   "cell_type": "code",
   "execution_count": 18,
   "metadata": {},
   "outputs": [
    {
     "name": "stdout",
     "output_type": "stream",
     "text": [
      "Fraction of stopping muons: 9.37%\n"
     ]
    }
   ],
   "source": [
    "# What fraction of muons stop inside the TPC?\n",
    "stopping_fraction = df_mc_muon_cross['mc_end_inside'].value_counts().values[1]/len(df_mc_muon_cross)\n",
    "print('Fraction of stopping muons: {0:.2f}%'.format(stopping_fraction*100))"
   ]
  },
  {
   "cell_type": "code",
   "execution_count": 19,
   "metadata": {},
   "outputs": [
    {
     "name": "stdout",
     "output_type": "stream",
     "text": [
      "0.9985534054026074\n"
     ]
    }
   ],
   "source": [
    "# Do all primary particles start at +18m above the detector?\n",
    "print(df_mc_primary['mc_starty'].value_counts().values[0]/len(df_mc_primary))\n",
    "# Yes!"
   ]
  },
  {
   "cell_type": "code",
   "execution_count": 20,
   "metadata": {},
   "outputs": [
    {
     "name": "stdout",
     "output_type": "stream",
     "text": [
      "[0.1        0.1244898  0.14897959 0.17346939 0.19795918 0.22244898\n",
      " 0.24693878 0.27142857 0.29591837 0.32040816 0.34489796 0.36938776\n",
      " 0.39387755 0.41836735 0.44285714 0.46734694 0.49183673 0.51632653\n",
      " 0.54081633 0.56530612 0.58979592 0.61428571 0.63877551 0.66326531\n",
      " 0.6877551  0.7122449  0.73673469 0.76122449 0.78571429 0.81020408\n",
      " 0.83469388 0.85918367 0.88367347 0.90816327 0.93265306 0.95714286\n",
      " 0.98163265 1.00612245 1.03061224 1.05510204 1.07959184 1.10408163\n",
      " 1.12857143 1.15306122 1.17755102 1.20204082 1.22653061 1.25102041\n",
      " 1.2755102  1.3        1.3244898  1.34897959 1.37346939 1.39795918\n",
      " 1.42244898 1.44693878 1.47142857 1.49591837 1.52040816 1.54489796\n",
      " 1.56938776 1.59387755 1.61836735 1.64285714 1.66734694 1.69183673\n",
      " 1.71632653 1.74081633 1.76530612 1.78979592 1.81428571 1.83877551\n",
      " 1.86326531 1.8877551  1.9122449  1.93673469 1.96122449 1.98571429\n",
      " 2.01020408 2.03469388 2.05918367 2.08367347 2.10816327 2.13265306\n",
      " 2.15714286 2.18163265 2.20612245 2.23061224 2.25510204 2.27959184\n",
      " 2.30408163 2.32857143 2.35306122 2.37755102 2.40204082 2.42653061\n",
      " 2.45102041 2.4755102  2.5       ]\n",
      "[   15    16    47   452  1733  2694  3233  3953  4256  4509  5179  5291\n",
      "  5685  5675  5971  6424  7568  8387  9033  9887 10795 11476 11809 11897\n",
      " 11814 10512 10500  9659  9369  9250  8866  8409  8448  7656  7468  7326\n",
      "  6950  6522  6053  6003  5217  4879  4557  3835  3277  3189  2567  2340\n",
      "  2056  1880  1834  1602  1581  1525  1434  1431  1176  1145  1258  1101\n",
      "  1248  1183  1134  1035  1027   997   883   985   944   907   861   854\n",
      "   707   770   641   634   617   561   690   540   588   543   502   539\n",
      "   477   435   484   521   497   487   392   421   431   436   389   418\n",
      "   435   444]\n",
      "[  424   748  1206  1920  3051  3995  4681  5619  5934  6398  7335  7852\n",
      "  8738  9176  9883 10559 11723 12537 13070 13872 14890 15764 16037 16429\n",
      " 17037 16628 17589 17137 17728 18269 18516 17955 18966 18341 18190 18784\n",
      " 18424 18224 17839 18735 17795 18392 18932 17588 17302 18566 17580 18484\n",
      " 17249 18177 17925 17358 17777 17863 17165 17327 16570 16615 18065 16423\n",
      " 17302 16644 17250 16456 16535 16413 14998 16373 15761 16236 16386 15341\n",
      " 14925 15957 14342 14828 15572 14528 14021 14469 14403 14383 14315 14902\n",
      " 13905 13776 13677 13928 13481 14213 13823 13226 13285 13617 13687 13118\n",
      " 13169 13033]\n"
     ]
    },
    {
     "data": {
      "image/png": "[encoded data removed]",
      "text/plain": [
       "<Figure size 432x216 with 2 Axes>"
      ]
     },
     "metadata": {
      "needs_background": "light"
     },
     "output_type": "display_data"
    }
   ],
   "source": [
    "# make a plot of the muon kinetic energy and the fraction of stopping muons in function of that!\n",
    "fig, ax = plt.subplots(1, 2, figsize=(6, 3))\n",
    "N=100\n",
    "edges = np.linspace(0,20,N+1)\n",
    "edges_mid = [ edges[i]+(edges[i+1]-edges[i])/2 for i in range(N)]\n",
    "\n",
    "bins,_,_ = ax[0].hist(df_mc_muon_cross['Kinetic Energy'], bins=edges, density=1)\n",
    "ax[0].set_xlim(0,20)\n",
    "ax[0].set_xlabel(r'True muon $E_{kin}$ [GeV]')\n",
    "ax[0].set_ylabel('Area normalised')\n",
    "ax[0].set_title('Muon Kinetic Energy')\n",
    "\n",
    "N=98\n",
    "edges = np.linspace(0.1,2.5,N+1)\n",
    "edges_mid = [ edges[i]+(edges[i+1]-edges[i])/2 for i in range(N)]\n",
    "denom,_ = np.histogram(df_mc_muon_cross['Kinetic Energy'], bins=edges)\n",
    "nom,_ = np.histogram(df_mc_muon_cross.query('mc_end_inside')['Kinetic Energy'], bins=edges)\n",
    "fraq = nom/denom\n",
    "print(edges)\n",
    "print(nom)\n",
    "print(denom)\n",
    "err = np.sqrt( fraq*(1-fraq)/denom )\n",
    "ax[1].step(edges_mid, fraq, where='mid', label = r'Total fraction: {0:.2f}%'.format(stopping_fraction*100))\n",
    "ax[1].fill_between(edges_mid, fraq - err, fraq + err, alpha=0.3, step='mid', color='C0')\n",
    "ax[1].set_xlim(0.1,2.5)\n",
    "ax[1].set_ylim(0,1)\n",
    "ax[1].set_xlabel(r'True muon $E_{kin}$ [GeV]')\n",
    "ax[1].set_ylabel('Fraction')\n",
    "ax[1].set_title('Stopping Muon Fraction')\n",
    "ax[1].legend(loc='upper center')\n",
    "\n",
    "fig.tight_layout()\n",
    "plt.savefig(\"./Output/SimpleCosmicFlash/mc_muon_E.pdf\", bbox_inches=\"tight\")"
   ]
  },
  {
   "cell_type": "code",
   "execution_count": 21,
   "metadata": {},
   "outputs": [
    {
     "data": {
      "text/plain": [
       "1036.8990000000001"
      ]
     },
     "execution_count": 21,
     "metadata": {},
     "output_type": "execute_result"
    }
   ],
   "source": [
    "z_safe = det_z-eps\n",
    "z_safe[1]"
   ]
  },
  {
   "cell_type": "code",
   "execution_count": 22,
   "metadata": {},
   "outputs": [
    {
     "name": "stdout",
     "output_type": "stream",
     "text": [
      "Muon flux: 136.28 muons/(m*s)\n"
     ]
    },
    {
     "data": {
      "image/png": "[encoded data removed]",
      "text/plain": [
       "<Figure size 720x230.4 with 2 Axes>"
      ]
     },
     "metadata": {
      "needs_background": "light"
     },
     "output_type": "display_data"
    }
   ],
   "source": [
    "# Make a plot of the muon density at TPC entrance!\n",
    "fig, ax = plt.subplots(1, 1, figsize=(10, 3.2))\n",
    "\n",
    "np.full((2, 2), np.inf)\n",
    "\n",
    "x_bin = 10\n",
    "z_bin = 40\n",
    "z_safe = det_z-eps\n",
    "x_safe = det_x-eps\n",
    "\n",
    "# Time in seconds of the sample\n",
    "total_time = (max(df_mc_muon_cross['mc_time'])-min(df_mc_muon_cross['mc_time']))*1e-9*len(df_event_mc) \n",
    "# Area in m*m\n",
    "total_area = (det_x[1]-det_x[0])*(det_z[1]-det_z[0])/1e4\n",
    "weights = np.full((len(df_mc_muon_cross[\"mc_startz_tpc\"])), (x_bin*z_bin)/total_area/total_time)\n",
    "\n",
    "c = ax.hist2d(df_mc_muon_cross[\"mc_startz_tpc\"],df_mc_muon_cross[\"mc_startx_tpc\"], \n",
    "              range=((z_safe[0], z_safe[1]), (x_safe[0], x_safe[1])), \n",
    "              cmap='coolwarm', bins=(z_bin,x_bin), weights=weights, vmin=50,vmax=200)\n",
    "\n",
    "clb = fig.colorbar(c[3], ax=ax)\n",
    "clb.set_label(r'Integrated muon flux [m$^{-2}$ s$^{-1}$]')\n",
    "\n",
    "ax.set_ylabel(r'Muon $x$ at TPC entrance [cm]')\n",
    "ax.set_xlabel(r'Muon $z$ at TPC entrance [cm]')\n",
    "ax.set_title('TPC entering position of muons from the top')\n",
    "\n",
    "fig.tight_layout()\n",
    "plt.savefig(\"./Output/SimpleCosmicFlash/startxz_crossing.pdf\", bbox_inches=\"tight\")\n",
    "\n",
    "loc_query = '(mc_startz_tpc>@z_safe[0]) & (mc_startz_tpc< @z_safe[1]) & \\\n",
    "             (mc_startx_tpc>@x_safe[0]) & (mc_startx_tpc< @x_safe[1])'\n",
    "rate = len(df_mc_muon_cross.query(loc_query)[\"mc_startz_tpc\"])/total_area/total_time\n",
    "print('Muon flux: {0:.2f} muons/(m*s)'.format(rate))"
   ]
  },
  {
   "cell_type": "code",
   "execution_count": 23,
   "metadata": {},
   "outputs": [
    {
     "data": {
      "text/plain": [
       "723.54982535"
      ]
     },
     "execution_count": 23,
     "metadata": {},
     "output_type": "execute_result"
    }
   ],
   "source": [
    "# What is the total time of the MC sample in seconds?\n",
    "(max(df_mc_muon_cross['mc_time'])-min(df_mc_muon_cross['mc_time']))*1e-9*len(df_event_mc)"
   ]
  },
  {
   "cell_type": "code",
   "execution_count": 24,
   "metadata": {},
   "outputs": [
    {
     "data": {
      "image/png": "[encoded data removed]",
      "text/plain": [
       "<Figure size 648x252 with 3 Axes>"
      ]
     },
     "metadata": {
      "needs_background": "light"
     },
     "output_type": "display_data"
    }
   ],
   "source": [
    "# number of flashes per event, PE of flashes, time of flashes\n",
    "# data vs MC\n",
    "# before and after timing cut\n",
    "\n",
    "fig, ax = plt.subplots(1, 3, figsize=(9, 3.5))\n",
    "\n",
    "mc_scale = len(df_event_data)/len(df_event_mc) \n",
    "\n",
    "\n",
    "N=60\n",
    "#Num flashes\n",
    "edges=np.linspace(0,60,N+1)\n",
    "bins_mc,_,_ = ax[0].hist(df_event_mc['num_simplecosmicflashes'], bins=edges, histtype='step', lw=2,\n",
    "                         label='CORSIKA open', color='C0', weights=[mc_scale]*len(df_event_mc))\n",
    "\n",
    "temp = np.append(bins_mc, bins_mc[-1]) # padding with the same value in the end\n",
    "temp_err = np.sqrt(temp*mc_scale)\n",
    "ax[0].fill_between(edges, temp - temp_err, temp + temp_err, alpha=0.3, step='post', color='C0')\n",
    "        \n",
    "bins_data,_,_ = ax[0].hist(df_event_data['num_simplecosmicflashes'], bins=edges, histtype='step', lw=2,\n",
    "                         label='BNB Off Unbiased', color='C1')\n",
    "temp = np.append(bins_data, bins_data[-1])\n",
    "ax[0].fill_between(edges, temp - np.sqrt(temp), temp + np.sqrt(temp), alpha=0.3, step='post', color='C1')\n",
    "ax[0].legend(bbox_to_anchor=(0., 1.0, 1, 0.2), title='Number of Flashes', loc='lower center', mode='expand')\n",
    "ax[0].set_ylabel('Events per bin')\n",
    "ax[0].set_xlabel('Flashes in event')\n",
    "\n",
    "#Time flashes\n",
    "edges=np.linspace(-4,5,N+1)\n",
    "bins_mc,_,_ = ax[1].hist(df_flash_mc['flash_time']/1000, bins=edges, histtype='step', lw=2,\n",
    "                         label='CORSIKA open', color='C0', weights=[mc_scale]*len(df_flash_mc))\n",
    "\n",
    "temp = np.append(bins_mc, bins_mc[-1]) # padding with the same value in the end\n",
    "temp_err = np.sqrt(temp*mc_scale)\n",
    "ax[1].fill_between(edges, temp - temp_err, temp + temp_err, alpha=0.3, step='post', color='C0')\n",
    "        \n",
    "bins_data,_,_ = ax[1].hist(df_flash_data['flash_time']/1000, bins=edges, histtype='step', lw=2,\n",
    "                         label='BNB Off Unbiased', color='C1')\n",
    "temp = np.append(bins_data, bins_data[-1])\n",
    "ax[1].fill_between(edges, temp - np.sqrt(temp), temp + np.sqrt(temp), alpha=0.3, step='post', color='C1')\n",
    "ax[1].legend(bbox_to_anchor=(0., 1.0, 1, 0.2), title='Time of Flashes', loc='lower center', mode='expand')\n",
    "ax[1].set_ylabel('Flashes per bin')\n",
    "ax[1].set_xlabel(r'Flash time [ms]')\n",
    "\n",
    "#PE flashes\n",
    "edges=np.logspace(np.log10(30),np.log10(10000),N+1)\n",
    "bins_mc,_,_ = ax[2].hist(df_flash_mc['flash_totalPE'], bins=edges, histtype='step', lw=2,\n",
    "                         label='CORSIKA open', color='C0', weights=[mc_scale]*len(df_flash_mc))\n",
    "\n",
    "temp = np.append(bins_mc, bins_mc[-1]) # padding with the same value in the end\n",
    "temp_err = np.sqrt(temp*mc_scale)\n",
    "ax[2].fill_between(edges, temp - temp_err, temp + temp_err, alpha=0.3, step='post', color='C0')\n",
    "        \n",
    "bins_data,_,_ = ax[2].hist(df_flash_data['flash_totalPE'], bins=edges, histtype='step', lw=2,\n",
    "                         label='BNB Off Unbiased', color='C1')\n",
    "temp = np.append(bins_data, bins_data[-1])\n",
    "ax[2].fill_between(edges, temp - np.sqrt(temp), temp + np.sqrt(temp), alpha=0.3, step='post', color='C1')\n",
    "ax[2].legend(bbox_to_anchor=(0., 1.0, 1, 0.2), title='Total PE of Flashes', loc='lower center', mode='expand')\n",
    "ax[2].set_ylabel('Flashes per bin')\n",
    "ax[2].set_xlabel(r'Flash Intensity [PE]')\n",
    "ax[2].set_xscale(\"log\", nonposx='clip')\n",
    "\n",
    "fig.tight_layout()\n",
    "plt.savefig(\"./Output/SimpleCosmicFlash/flash_beforetime.pdf\", bbox_inches=\"tight\")"
   ]
  },
  {
   "cell_type": "code",
   "execution_count": 25,
   "metadata": {},
   "outputs": [
    {
     "data": {
      "text/plain": [
       "count    2.587801e+06\n",
       "mean    -5.057409e+01\n",
       "std      1.390561e+03\n",
       "min     -2.449922e+03\n",
       "25%     -1.258656e+03\n",
       "50%     -6.139062e+01\n",
       "75%      1.158312e+03\n",
       "max      2.350094e+03\n",
       "Name: flash_time, dtype: float64"
      ]
     },
     "execution_count": 25,
     "metadata": {},
     "output_type": "execute_result"
    }
   ],
   "source": [
    "df_flash_mc['flash_time'].describe()"
   ]
  },
  {
   "cell_type": "code",
   "execution_count": 29,
   "metadata": {},
   "outputs": [
    {
     "name": "stdout",
     "output_type": "stream",
     "text": [
      "95577\n",
      "99800\n"
     ]
    }
   ],
   "source": [
    "# Event run and subrun are not unique in MC:\n",
    "print(len(df_flash_mc_time.groupby(['run', 'subrun', 'event', 'num_flashes'])))\n",
    "print(len(df_event_mc))"
   ]
  },
  {
   "cell_type": "code",
   "execution_count": 35,
   "metadata": {},
   "outputs": [
    {
     "data": {
      "image/png": "[encoded data removed]",
      "text/plain": [
       "<Figure size 734.4x288 with 3 Axes>"
      ]
     },
     "metadata": {
      "needs_background": "light"
     },
     "output_type": "display_data"
    }
   ],
   "source": [
    "#mc_bounds = [25,2350,-900,-2450]\n",
    "mc_bounds = [25,2350,-50,-2450]\n",
    "time_query_mc= '((flash_time>@mc_bounds[0]) & (flash_time<@mc_bounds[1])) | \\\n",
    "                ((flash_time<@mc_bounds[2]) & (flash_time>@mc_bounds[3]))' \n",
    "time_mc = (4800-75)*1e-6\n",
    "\n",
    "data_bounds = [25,3200,-50,-1600]\n",
    "time_query_data= '((flash_time>@data_bounds[0]) & (flash_time<@data_bounds[1])) | \\\n",
    "                  ((flash_time<@data_bounds[2]) & (flash_time>@data_bounds[3]))'\n",
    "time_data = (4800-75)*1e-6\n",
    "\n",
    "df_flash_mc_time = df_flash_mc.query(time_query_mc)\n",
    "df_flash_data_time = df_flash_data.query(time_query_data)\n",
    "\n",
    "mc_rate = len(df_flash_mc_time)/(len(df_event_mc)*time_mc)/1000\n",
    "data_rate = len(df_flash_data_time)/(len(df_event_data)*time_data)/1000\n",
    "\n",
    "\n",
    "num_flash_mc = df_flash_mc_time.groupby(['run', 'subrun', 'event', 'num_flashes']).size()\n",
    "num_flash_data = df_flash_data_time.groupby(['run', 'subrun', 'event']).size()\n",
    "\n",
    "fig, ax = plt.subplots(1, 3, figsize=(10.2, 4))\n",
    "mc_scale = len(df_event_data)/len(df_event_mc) \n",
    "\n",
    "\n",
    "N=60\n",
    "#Num flashes\n",
    "edges=np.linspace(0,60,N+1)\n",
    "bins_mc,_,_ = ax[0].hist(num_flash_mc, bins=edges, histtype='step', lw=2,\n",
    "                         label='CORSIKA open ({0:.1f} kHz)'.format(mc_rate), color='C0', \n",
    "                         weights=[mc_scale]*len(num_flash_mc))\n",
    "\n",
    "temp = np.append(bins_mc, bins_mc[-1]) # padding with the same value in the end\n",
    "temp_err = np.sqrt(temp*mc_scale)\n",
    "ax[0].fill_between(edges, temp - temp_err, temp + temp_err, alpha=0.3, step='post', color='C0')\n",
    "        \n",
    "bins_data,_,_ = ax[0].hist(num_flash_data, bins=edges, histtype='step', lw=2,\n",
    "                           label='BNB Off Unbiased ({0:.1f} kHz)'.format(data_rate), color='C1')\n",
    "temp = np.append(bins_data, bins_data[-1])\n",
    "ax[0].fill_between(edges, temp - np.sqrt(temp), temp + np.sqrt(temp), alpha=0.3, step='post', color='C1')\n",
    "ax[0].legend(bbox_to_anchor=(0., 1.0, 1, 0.2), title='Number of Flashes', loc='lower center', mode='expand')\n",
    "ax[0].set_ylabel('Events per bin')\n",
    "ax[0].set_xlabel('Flashes in event')\n",
    "\n",
    "#Time flashes\n",
    "N=60\n",
    "edges=np.linspace(-2,3.5,N+1)\n",
    "bins_mc,_,_ = ax[1].hist(df_flash_mc_time['flash_time']/1000, bins=edges, histtype='step', lw=2,\n",
    "                         label='CORSIKA open ({0:.1f} kHz)'.format(mc_rate), color='C0', weights=[mc_scale]*len(df_flash_mc_time))\n",
    "\n",
    "temp = np.append(bins_mc, bins_mc[-1]) # padding with the same value in the end\n",
    "temp_err = np.sqrt(temp*mc_scale)\n",
    "ax[1].fill_between(edges, temp - temp_err, temp + temp_err, alpha=0.3, step='post', color='C0')\n",
    "        \n",
    "bins_data,_,_ = ax[1].hist(df_flash_data_time['flash_time']/1000, bins=edges, histtype='step', lw=2,\n",
    "                         label='BNB Off Unbiased ({0:.1f} kHz)'.format(data_rate), color='C1')\n",
    "temp = np.append(bins_data, bins_data[-1])\n",
    "ax[1].fill_between(edges, temp - np.sqrt(temp), temp + np.sqrt(temp), alpha=0.3, step='post', color='C1')\n",
    "ax[1].legend(bbox_to_anchor=(0., 1.0, 1, 0.2), title='Time of Flashes', loc='lower center', mode='expand')\n",
    "ax[1].set_ylabel('Flashes per bin')\n",
    "ax[1].set_xlabel(r'Flash time [ms]')\n",
    "\n",
    "#PE flashes\n",
    "edges=np.logspace(np.log10(30),np.log10(10000),N+1)\n",
    "bins_mc,_,_ = ax[2].hist(df_flash_mc_time['flash_totalPE'], bins=edges, histtype='step', lw=2,\n",
    "                         label='CORSIKA open ({0:.1f} kHz)'.format(mc_rate), color='C0', weights=[mc_scale*time_data/time_mc]*len(df_flash_mc_time))\n",
    "\n",
    "temp = np.append(bins_mc, bins_mc[-1]) # padding with the same value in the end\n",
    "temp_err = np.sqrt(temp*mc_scale)\n",
    "ax[2].fill_between(edges, temp - temp_err, temp + temp_err, alpha=0.3, step='post', color='C0')\n",
    "        \n",
    "bins_data,_,_ = ax[2].hist(df_flash_data_time['flash_totalPE'], bins=edges, histtype='step', lw=2,\n",
    "                         label='BNB Off Unbiased ({0:.1f} kHz)'.format(data_rate), color='C1')\n",
    "temp = np.append(bins_data, bins_data[-1])\n",
    "ax[2].fill_between(edges, temp - np.sqrt(temp), temp + np.sqrt(temp), alpha=0.3, step='post', color='C1')\n",
    "ax[2].legend(bbox_to_anchor=(0., 1.0, 1, 0.2), title='Total PE of Flashes', loc='lower center', mode='expand')\n",
    "ax[2].set_ylabel('Flashes per bin')\n",
    "ax[2].set_xlabel(r'Flash Intensity [PE]')\n",
    "ax[2].set_xscale(\"log\", nonposx='clip')\n",
    "\n",
    "fig.tight_layout()\n",
    "plt.savefig(\"./Output/SimpleCosmicFlash/flash_aftertime.pdf\", bbox_inches=\"tight\")"
   ]
  },
  {
   "cell_type": "code",
   "execution_count": 36,
   "metadata": {},
   "outputs": [
    {
     "data": {
      "image/png": "[encoded data removed]",
      "text/plain": [
       "<Figure size 734.4x288 with 2 Axes>"
      ]
     },
     "metadata": {
      "needs_background": "light"
     },
     "output_type": "display_data"
    }
   ],
   "source": [
    "fig, ax = plt.subplots(1, 2, figsize=(10.2, 4))\n",
    "mc_scale = len(df_event_data)/len(df_event_mc) \n",
    "\n",
    "\n",
    "N=60\n",
    "\n",
    "#Time flashes\n",
    "edges=np.linspace(0,1036.8,N+1)\n",
    "bins_mc,_,_ = ax[0].hist(df_flash_mc_time['flash_z'], bins=edges, histtype='step', lw=2,\n",
    "                         label='CORSIKA open ({0:.1f} kHz)'.format(mc_rate), color='C0', weights=[mc_scale*time_data/time_mc]*len(df_flash_mc_time))\n",
    "\n",
    "temp = np.append(bins_mc, bins_mc[-1]) # padding with the same value in the end\n",
    "temp_err = np.sqrt(temp*mc_scale)\n",
    "ax[0].fill_between(edges, temp - temp_err, temp + temp_err, alpha=0.3, step='post', color='C0')\n",
    "        \n",
    "bins_data,_,_ = ax[0].hist(df_flash_data_time['flash_z'], bins=edges, histtype='step', lw=2,\n",
    "                         label='BNB Off Unbiased ({0:.1f} kHz)'.format(data_rate), color='C1')\n",
    "temp = np.append(bins_data, bins_data[-1])\n",
    "ax[0].fill_between(edges, temp - np.sqrt(temp), temp + np.sqrt(temp), alpha=0.3, step='post', color='C1')\n",
    "ax[0].legend(bbox_to_anchor=(0., 1.0, 1, 0.2), title=r'$z$ center of the flash', loc='lower center', mode='expand')\n",
    "ax[0].set_ylabel('Flashes per bin')\n",
    "ax[0].set_xlabel(r'Flash $z$ [cm]')\n",
    "\n",
    "#PE flashes\n",
    "edges=np.linspace(-70,70,N+1)\n",
    "bins_mc,_,_ = ax[1].hist(df_flash_mc_time['flash_y'], bins=edges, histtype='step', lw=2,\n",
    "                         label='CORSIKA open ({0:.1f} kHz)'.format(mc_rate), color='C0', weights=[mc_scale*time_data/time_mc]*len(df_flash_mc_time))\n",
    "\n",
    "temp = np.append(bins_mc, bins_mc[-1]) # padding with the same value in the end\n",
    "temp_err = np.sqrt(temp*mc_scale)\n",
    "ax[1].fill_between(edges, temp - temp_err, temp + temp_err, alpha=0.3, step='post', color='C0')\n",
    "        \n",
    "bins_data,_,_ = ax[1].hist(df_flash_data_time['flash_y'], bins=edges, histtype='step', lw=2,\n",
    "                         label='BNB Off Unbiased ({0:.1f} kHz)'.format(data_rate), color='C1')\n",
    "temp = np.append(bins_data, bins_data[-1])\n",
    "ax[1].fill_between(edges, temp - np.sqrt(temp), temp + np.sqrt(temp), alpha=0.3, step='post', color='C1')\n",
    "ax[1].legend(bbox_to_anchor=(0., 1.0, 1, 0.2), title=r'$y$ center of the flash', loc='lower center', mode='expand')\n",
    "ax[1].set_ylabel('Flashes per bin')\n",
    "ax[1].set_xlabel(r'Flash $y$ [cm]')\n",
    "\n",
    "fig.tight_layout()\n",
    "plt.savefig(\"./Output/SimpleCosmicFlash/flash_aftertime_yz.pdf\", bbox_inches=\"tight\")"
   ]
  },
  {
   "cell_type": "code",
   "execution_count": 37,
   "metadata": {},
   "outputs": [
    {
     "name": "stdout",
     "output_type": "stream",
     "text": [
      "5680.901534104123\n",
      "4534.720571860065\n",
      "0.19198994252873558\n"
     ]
    }
   ],
   "source": [
    "# Correct for 8us dead time after each flash!\n",
    "from scipy.optimize import fsolve\n",
    "func = lambda x : R - x*np.exp(-8e-6*x)\n",
    "a_initial_guess = 5000\n",
    "\n",
    "R= mc_rate*1000\n",
    "print(fsolve(func, a_initial_guess)[0])\n",
    "R= data_rate*1000\n",
    "print(fsolve(func, a_initial_guess)[0])\n",
    "\n",
    "print(1-4499/5568)"
   ]
  },
  {
   "cell_type": "markdown",
   "metadata": {},
   "source": [
    "## Below this: muon flash matching! Only MC"
   ]
  },
  {
   "cell_type": "code",
   "execution_count": 38,
   "metadata": {},
   "outputs": [],
   "source": [
    "# A flash is matched to a particle if it is in this interval\n",
    "fl_diff_start = 0.05 \n",
    "fl_diff_end = 0.3\n",
    "max_events = 500\n",
    "\n",
    "df_mc_primary = df_mc_primary[df_mc_primary['mc_time'].between(-2450000,2350000)].reset_index(drop=True)\n",
    "df_mc_muon_cross = df_mc_muon_cross[df_mc_muon_cross['mc_time'].between(-2450000,2350000)].reset_index(drop=True)\n",
    "df_mc_muon_cross['mc_avgx_tpc'] = (df_mc_muon_cross['mc_startx_tpc']+df_mc_muon_cross['mc_endx_tpc'])/2\n",
    "\n",
    "# choose if we want to match with crossing muons or with all primaries\n",
    "mcp_df = df_mc_muon_cross #df_mc_primary \n",
    "\n",
    "# Make a run, subrun, event frame (df_events has a bug currently)\n",
    "df_event=df_flash_mc[['event','run','subrun']].drop_duplicates().reset_index(drop=True)"
   ]
  },
  {
   "cell_type": "code",
   "execution_count": 39,
   "metadata": {},
   "outputs": [
    {
     "name": "stdout",
     "output_type": "stream",
     "text": [
      "index 499 mc_times 89 simple_times 90\n",
      "Number of muons we tried to match: 33819 , matched:  27155 , failed:  6664 , Efficiency:  80.3 %.\n",
      "Number of simpleflashes we tried to match: 34278 , matched:  27159 , failed:  7177 , Efficiency:  79.2 %.\n"
     ]
    }
   ],
   "source": [
    "simple_diff_times=[]\n",
    "\n",
    "n_muons=0\n",
    "n_simple=0\n",
    "\n",
    "index_mcp_good_simple=[]\n",
    "index_mcp_all=[]\n",
    "index_simple_good=[]\n",
    "index_simple_all=[]\n",
    "\n",
    "time_dif_all = []\n",
    "time_dif_simple_matched = []\n",
    "\n",
    "\n",
    "for index, row in df_event.head(max_events).iterrows():\n",
    "    event,run,subrun = row[['event','run','subrun']]\n",
    "    selection_string = 'event==@event & run==@run & subrun==@subrun'\n",
    "    \n",
    "    t_prevmu = 99999\n",
    "    \n",
    "    df_temp = mcp_df.query(selection_string)\n",
    "    mc_indexes = df_temp.index.values\n",
    "    mc_times = df_temp['mc_time']/1000\n",
    "    \n",
    "    df_temp = df_flash_mc.query(selection_string)\n",
    "    simple_indexes = df_temp.index.values \n",
    "    simple_times = df_temp['flash_time']\n",
    "    \n",
    "    clear_output(wait=True)\n",
    "    print('index',index,'mc_times', len(mc_times), 'simple_times',len(simple_times))\n",
    "\n",
    "    n_muons+=len(mc_times)\n",
    "    n_simple+=len(simple_times)\n",
    "    \n",
    "    # Store the all indices:\n",
    "    index_simple_all.extend(simple_indexes)\n",
    "    index_mcp_all.extend(mc_indexes)\n",
    "    \n",
    "    # Do the matching based on time only\n",
    "    for mc_index, mc_time in zip(mc_indexes, mc_times):\n",
    "        temp_bool_simple = False\n",
    "        if not temp_bool_simple: \n",
    "            temp = simple_times-mc_time\n",
    "            if(len(temp[temp>0])>0):\n",
    "                temp_diff = min(temp[temp>0])\n",
    "                simple_diff_times.append(temp_diff)\n",
    "                if fl_diff_start < temp_diff < fl_diff_end:             \n",
    "                    index = simple_indexes[np.where(temp == temp_diff)]    \n",
    "                    index_simple_good.extend(index)\n",
    "                    index_mcp_good_simple.append(mc_index)\n",
    "                    time_dif_simple_matched.append(mc_time-t_prevmu)\n",
    "                    temp_bool_simple=True \n",
    "        \n",
    "        # Add time diff\n",
    "        time_dif_all.append(mc_time-t_prevmu)\n",
    "        t_prevmu = mc_time\n",
    "                    \n",
    "            \n",
    "index_mcp_bad = np.setdiff1d(index_mcp_all,index_mcp_good_simple)\n",
    "index_simple_bad = np.setdiff1d(index_simple_all,index_simple_good)\n",
    "\n",
    "print('Number of muons we tried to match:',n_muons,', matched: '\n",
    "      ,len(index_mcp_good_simple), ', failed: ', len(index_mcp_bad),', Efficiency: ',\n",
    "      (round(len(index_mcp_good_simple)/n_muons*1000)/10),'%.')\n",
    "print('Number of simpleflashes we tried to match:',n_simple,', matched: '\n",
    "      ,len(index_simple_good), ', failed: ', len(index_simple_bad),', Efficiency: ',\n",
    "      (round(len(index_simple_good)/n_simple*1000))/10,'%.')\n"
   ]
  },
  {
   "cell_type": "code",
   "execution_count": 40,
   "metadata": {},
   "outputs": [
    {
     "name": "stdout",
     "output_type": "stream",
     "text": [
      "-13    53.030381\n",
      " 13    44.269619\n",
      "Name: mc_pdg_code, dtype: float64\n",
      "True    97.3\n",
      "Name: mc_part_inside, dtype: float64\n"
     ]
    }
   ],
   "source": [
    "# Which primary particles do create flashes \n",
    "print(mcp_df.iloc[index_mcp_good_simple]['mc_pdg_code'].value_counts()/len(index_mcp_good_simple)*97.3)\n",
    "# Which flashes are casued by tpc crossing particles\n",
    "print(mcp_df.iloc[index_mcp_good_simple]['mc_part_inside'].value_counts()/len(index_mcp_good_simple)*97.3)"
   ]
  },
  {
   "cell_type": "code",
   "execution_count": 41,
   "metadata": {},
   "outputs": [
    {
     "data": {
      "image/png": "[encoded data removed]",
      "text/plain": [
       "<Figure size 432x216 with 2 Axes>"
      ]
     },
     "metadata": {
      "needs_background": "light"
     },
     "output_type": "display_data"
    }
   ],
   "source": [
    "# make a plot of flash muon time difference and the flashmatch PE efficiency:\n",
    "\n",
    "fig, ax = plt.subplots(1, 2, figsize=(6, 3))\n",
    "N=35\n",
    "edges = np.linspace(0,0.35,N+1)\n",
    "edges_mid = [ edges[i]+(edges[i+1]-edges[i])/2 for i in range(N)]\n",
    "\n",
    "bins,_,_ = ax[0].hist(np.array(simple_diff_times), bins=edges, density=1)\n",
    "ax[0].set_xlabel(r'$t_{flash}$-$t_{mcmuon}$ [$\\mu$s]')\n",
    "ax[0].set_ylabel('Area normalised')\n",
    "ax[0].set_title('Flash-muon matching')\n",
    "ax[0].axvspan(0,0.05, alpha=0.1, color=\"red\")\n",
    "ax[0].axvspan(0.05,0.35, alpha=0.05, color=\"green\")\n",
    "ax[0].axvspan(0.3,0.35, alpha=0.1, color=\"red\")\n",
    "\n",
    "N=19\n",
    "edges=np.logspace(np.log10(30),np.log10(10000),N+1)\n",
    "edges_mid = [ edges[i]+(edges[i+1]-edges[i])/2 for i in range(N)]\n",
    "denom,_ = np.histogram(df_flash_mc.iloc[index_simple_all]['flash_totalPE'], bins=edges)\n",
    "nom,_ = np.histogram(df_flash_mc.iloc[index_simple_good]['flash_totalPE'], bins=edges)\n",
    "fraq = nom/denom\n",
    "ratio = len(df_flash_mc.iloc[index_simple_good])/len(df_flash_mc.iloc[index_simple_all])\n",
    "err = np.sqrt( fraq*(1-fraq)/denom )\n",
    "ax[1].step(edges_mid, fraq, where='mid', label = r'Total fraction: {0:.2f}%'.format(ratio*100))\n",
    "ax[1].fill_between(edges_mid, fraq - err, fraq + err, alpha=0.3, step='mid', color='C0')\n",
    "ax[1].set_ylim(0.,1.)\n",
    "ax[1].set_xlabel(r'Flash intensity [PE]')\n",
    "ax[1].set_ylabel('Fraction')\n",
    "ax[1].set_title('Matched flash fraction')\n",
    "ax[1].set_xscale(\"log\", nonposx='clip')\n",
    "ax[1].legend()\n",
    "\n",
    "fig.tight_layout()\n",
    "plt.savefig(\"./Output/SimpleCosmicFlash/flash_primary_matching.pdf\", bbox_inches=\"tight\")"
   ]
  },
  {
   "cell_type": "code",
   "execution_count": 103,
   "metadata": {},
   "outputs": [
    {
     "data": {
      "text/html": [
       "<div>\n",
       "<style scoped>\n",
       "    .dataframe tbody tr th:only-of-type {\n",
       "        vertical-align: middle;\n",
       "    }\n",
       "\n",
       "    .dataframe tbody tr th {\n",
       "        vertical-align: top;\n",
       "    }\n",
       "\n",
       "    .dataframe thead th {\n",
       "        text-align: right;\n",
       "    }\n",
       "</style>\n",
       "<table border=\"1\" class=\"dataframe\">\n",
       "  <thead>\n",
       "    <tr style=\"text-align: right;\">\n",
       "      <th></th>\n",
       "      <th>event</th>\n",
       "      <th>run</th>\n",
       "      <th>subrun</th>\n",
       "      <th>dataset_prescale_factor</th>\n",
       "      <th>num_flashes</th>\n",
       "      <th>flash_time</th>\n",
       "      <th>flash_difftime</th>\n",
       "      <th>flash_totalPE</th>\n",
       "      <th>flash_z</th>\n",
       "      <th>flash_sz</th>\n",
       "      <th>flash_y</th>\n",
       "      <th>flash_sy</th>\n",
       "      <th>flash_width</th>\n",
       "      <th>flash_abstime</th>\n",
       "      <th>flash_num_PMT10percent</th>\n",
       "      <th>flash_difftime2</th>\n",
       "    </tr>\n",
       "  </thead>\n",
       "  <tbody>\n",
       "    <tr>\n",
       "      <th>57291</th>\n",
       "      <td>4851</td>\n",
       "      <td>1</td>\n",
       "      <td>98</td>\n",
       "      <td>1.0</td>\n",
       "      <td>27</td>\n",
       "      <td>-2417.609375</td>\n",
       "      <td>-1165.21875</td>\n",
       "      <td>66</td>\n",
       "      <td>304.670349</td>\n",
       "      <td>19.824459</td>\n",
       "      <td>54.665501</td>\n",
       "      <td>0.023157</td>\n",
       "      <td>0.28125</td>\n",
       "      <td>1632.359375</td>\n",
       "      <td>2</td>\n",
       "      <td>-4629.15625</td>\n",
       "    </tr>\n",
       "    <tr>\n",
       "      <th>57287</th>\n",
       "      <td>4851</td>\n",
       "      <td>1</td>\n",
       "      <td>98</td>\n",
       "      <td>1.0</td>\n",
       "      <td>27</td>\n",
       "      <td>-2382.359375</td>\n",
       "      <td>-1941.37500</td>\n",
       "      <td>237</td>\n",
       "      <td>99.519424</td>\n",
       "      <td>47.054287</td>\n",
       "      <td>7.333084</td>\n",
       "      <td>42.902466</td>\n",
       "      <td>0.28125</td>\n",
       "      <td>1667.609375</td>\n",
       "      <td>6</td>\n",
       "      <td>35.25000</td>\n",
       "    </tr>\n",
       "    <tr>\n",
       "      <th>57288</th>\n",
       "      <td>4851</td>\n",
       "      <td>1</td>\n",
       "      <td>98</td>\n",
       "      <td>1.0</td>\n",
       "      <td>27</td>\n",
       "      <td>-2306.328125</td>\n",
       "      <td>76.03125</td>\n",
       "      <td>180</td>\n",
       "      <td>942.797302</td>\n",
       "      <td>40.909248</td>\n",
       "      <td>6.138034</td>\n",
       "      <td>44.687042</td>\n",
       "      <td>0.28125</td>\n",
       "      <td>1743.640625</td>\n",
       "      <td>7</td>\n",
       "      <td>76.03125</td>\n",
       "    </tr>\n",
       "    <tr>\n",
       "      <th>57279</th>\n",
       "      <td>4851</td>\n",
       "      <td>1</td>\n",
       "      <td>98</td>\n",
       "      <td>1.0</td>\n",
       "      <td>27</td>\n",
       "      <td>-2221.296875</td>\n",
       "      <td>-104.81250</td>\n",
       "      <td>573</td>\n",
       "      <td>416.334534</td>\n",
       "      <td>100.077988</td>\n",
       "      <td>-4.396087</td>\n",
       "      <td>43.942112</td>\n",
       "      <td>0.28125</td>\n",
       "      <td>1828.671875</td>\n",
       "      <td>4</td>\n",
       "      <td>85.03125</td>\n",
       "    </tr>\n",
       "    <tr>\n",
       "      <th>57278</th>\n",
       "      <td>4851</td>\n",
       "      <td>1</td>\n",
       "      <td>98</td>\n",
       "      <td>1.0</td>\n",
       "      <td>27</td>\n",
       "      <td>-2116.484375</td>\n",
       "      <td>-357.84375</td>\n",
       "      <td>642</td>\n",
       "      <td>295.138916</td>\n",
       "      <td>79.706566</td>\n",
       "      <td>7.953770</td>\n",
       "      <td>43.525379</td>\n",
       "      <td>0.28125</td>\n",
       "      <td>1933.484375</td>\n",
       "      <td>6</td>\n",
       "      <td>104.81250</td>\n",
       "    </tr>\n",
       "  </tbody>\n",
       "</table>\n",
       "</div>"
      ],
      "text/plain": [
       "       event  run  subrun  dataset_prescale_factor  num_flashes   flash_time  \\\n",
       "57291   4851    1      98                      1.0           27 -2417.609375   \n",
       "57287   4851    1      98                      1.0           27 -2382.359375   \n",
       "57288   4851    1      98                      1.0           27 -2306.328125   \n",
       "57279   4851    1      98                      1.0           27 -2221.296875   \n",
       "57278   4851    1      98                      1.0           27 -2116.484375   \n",
       "\n",
       "       flash_difftime  flash_totalPE     flash_z    flash_sz    flash_y  \\\n",
       "57291     -1165.21875             66  304.670349   19.824459  54.665501   \n",
       "57287     -1941.37500            237   99.519424   47.054287   7.333084   \n",
       "57288        76.03125            180  942.797302   40.909248   6.138034   \n",
       "57279      -104.81250            573  416.334534  100.077988  -4.396087   \n",
       "57278      -357.84375            642  295.138916   79.706566   7.953770   \n",
       "\n",
       "        flash_sy  flash_width  flash_abstime  flash_num_PMT10percent  \\\n",
       "57291   0.023157      0.28125    1632.359375                       2   \n",
       "57287  42.902466      0.28125    1667.609375                       6   \n",
       "57288  44.687042      0.28125    1743.640625                       7   \n",
       "57279  43.942112      0.28125    1828.671875                       4   \n",
       "57278  43.525379      0.28125    1933.484375                       6   \n",
       "\n",
       "       flash_difftime2  \n",
       "57291      -4629.15625  \n",
       "57287         35.25000  \n",
       "57288         76.03125  \n",
       "57279         85.03125  \n",
       "57278        104.81250  "
      ]
     },
     "execution_count": 103,
     "metadata": {},
     "output_type": "execute_result"
    }
   ],
   "source": []
  },
  {
   "cell_type": "code",
   "execution_count": 42,
   "metadata": {
    "scrolled": false
   },
   "outputs": [
    {
     "data": {
      "image/png": "[encoded data removed]",
      "text/plain": [
       "<Figure size 432x216 with 2 Axes>"
      ]
     },
     "metadata": {
      "needs_background": "light"
     },
     "output_type": "display_data"
    }
   ],
   "source": [
    "# The flashes arer sorted using PE, so we need to recalculate the time diff.\n",
    "df_flash_mc_sorted = df_flash_mc.sort_values(by=['event','run','subrun','flash_time'])\n",
    "df_flash_mc_sorted['flash_difftime2'] = df_flash_mc_sorted['flash_time']-np.roll(df_flash_mc_sorted['flash_time'],1) \n",
    "\n",
    "fig, ax = plt.subplots(1, 2, figsize=(6, 3))\n",
    "labs = ['Matched flashes','Not matched']\n",
    "\n",
    "data = [df_flash_mc_sorted[df_flash_mc_sorted.index.isin(index_simple_good)]['flash_difftime2'],\n",
    "        df_flash_mc_sorted[df_flash_mc_sorted.index.isin(index_simple_bad)]['flash_difftime2']]\n",
    "ax[0].hist(data, histtype='step', density=1,bins=30,range=(0,750),lw=2, label=labs)\n",
    "data = [df_flash_mc_sorted[df_flash_mc_sorted.index.isin(index_simple_good)]['flash_totalPE'],\n",
    "        df_flash_mc_sorted[df_flash_mc_sorted.index.isin(index_simple_bad)]['flash_totalPE']]\n",
    "ax[1].hist(data, histtype='step', density=1,bins=30,range=(0,1000),lw=2)\n",
    "ax[0].legend()\n",
    "ax[0].set_xlabel(\"Time after previous flash [$\\mu$s]\")\n",
    "ax[1].set_xlabel(\"Flash intensity [PE]\")\n",
    "ax[0].set_ylabel(\"Area normalised\")\n",
    "\n",
    "fig.tight_layout()\n",
    "plt.savefig(\"./Output/SimpleCosmicFlash/flash_latelightcheck.pdf\", bbox_inches=\"tight\")"
   ]
  },
  {
   "cell_type": "code",
   "execution_count": 87,
   "metadata": {},
   "outputs": [
    {
     "data": {
      "text/plain": [
       "Index(['event', 'run', 'subrun', 'dataset_prescale_factor', 'num_flashes',\n",
       "       'flash_time', 'flash_difftime', 'flash_totalPE', 'flash_z', 'flash_sz',\n",
       "       'flash_y', 'flash_sy', 'flash_width', 'flash_abstime',\n",
       "       'flash_num_PMT10percent'],\n",
       "      dtype='object')"
      ]
     },
     "execution_count": 87,
     "metadata": {},
     "output_type": "execute_result"
    }
   ],
   "source": [
    "df_flash_mc.columns"
   ]
  },
  {
   "cell_type": "code",
   "execution_count": 43,
   "metadata": {},
   "outputs": [
    {
     "ename": "ValueError",
     "evalue": "The dimension of bins must be equal to the dimension of the  sample x.",
     "output_type": "error",
     "traceback": [
      "\u001b[0;31m---------------------------------------------------------------------------\u001b[0m",
      "\u001b[0;31mValueError\u001b[0m                                Traceback (most recent call last)",
      "\u001b[0;32m<ipython-input-43-aad7eb1fbee7>\u001b[0m in \u001b[0;36m<module>\u001b[0;34m()\u001b[0m\n\u001b[1;32m      5\u001b[0m \u001b[0mfig\u001b[0m\u001b[0;34m,\u001b[0m \u001b[0max\u001b[0m \u001b[0;34m=\u001b[0m \u001b[0mplt\u001b[0m\u001b[0;34m.\u001b[0m\u001b[0msubplots\u001b[0m\u001b[0;34m(\u001b[0m\u001b[0;36m1\u001b[0m\u001b[0;34m,\u001b[0m \u001b[0;36m1\u001b[0m\u001b[0;34m,\u001b[0m \u001b[0mfigsize\u001b[0m\u001b[0;34m=\u001b[0m\u001b[0;34m(\u001b[0m\u001b[0;36m4\u001b[0m\u001b[0;34m,\u001b[0m \u001b[0;36m3\u001b[0m\u001b[0;34m)\u001b[0m\u001b[0;34m)\u001b[0m\u001b[0;34m\u001b[0m\u001b[0m\n\u001b[1;32m      6\u001b[0m \u001b[0;34m\u001b[0m\u001b[0m\n\u001b[0;32m----> 7\u001b[0;31m \u001b[0mc\u001b[0m \u001b[0;34m=\u001b[0m \u001b[0max\u001b[0m\u001b[0;34m.\u001b[0m\u001b[0mhist2d\u001b[0m\u001b[0;34m(\u001b[0m\u001b[0mdata_mc_avgx\u001b[0m\u001b[0;34m,\u001b[0m \u001b[0mdata_fl\u001b[0m\u001b[0;34m,\u001b[0m \u001b[0mrange\u001b[0m\u001b[0;34m=\u001b[0m\u001b[0;34m(\u001b[0m\u001b[0;34m(\u001b[0m\u001b[0;36m0\u001b[0m\u001b[0;34m,\u001b[0m\u001b[0;36m250\u001b[0m\u001b[0;34m)\u001b[0m\u001b[0;34m,\u001b[0m\u001b[0;34m(\u001b[0m\u001b[0;36m30\u001b[0m\u001b[0;34m,\u001b[0m\u001b[0;36m2500\u001b[0m\u001b[0;34m)\u001b[0m\u001b[0;34m)\u001b[0m\u001b[0;34m,\u001b[0m \u001b[0mcmap\u001b[0m\u001b[0;34m=\u001b[0m\u001b[0;34m'coolwarm'\u001b[0m\u001b[0;34m,\u001b[0m \u001b[0mbins\u001b[0m\u001b[0;34m=\u001b[0m\u001b[0;34m(\u001b[0m\u001b[0;36m50\u001b[0m\u001b[0;34m,\u001b[0m\u001b[0;36m50\u001b[0m\u001b[0;34m)\u001b[0m\u001b[0;34m)\u001b[0m\u001b[0;34m\u001b[0m\u001b[0m\n\u001b[0m\u001b[1;32m      8\u001b[0m \u001b[0mplt\u001b[0m\u001b[0;34m.\u001b[0m\u001b[0mcolorbar\u001b[0m\u001b[0;34m(\u001b[0m\u001b[0mc\u001b[0m\u001b[0;34m[\u001b[0m\u001b[0;36m3\u001b[0m\u001b[0;34m]\u001b[0m\u001b[0;34m,\u001b[0m \u001b[0max\u001b[0m\u001b[0;34m=\u001b[0m\u001b[0max\u001b[0m\u001b[0;34m)\u001b[0m\u001b[0;34m\u001b[0m\u001b[0m\n\u001b[1;32m      9\u001b[0m \u001b[0max\u001b[0m\u001b[0;34m.\u001b[0m\u001b[0mset_xlabel\u001b[0m\u001b[0;34m(\u001b[0m\u001b[0;34m'Muon average $x$ in TPC [cm]'\u001b[0m\u001b[0;34m)\u001b[0m\u001b[0;34m\u001b[0m\u001b[0m\n",
      "\u001b[0;32m~/Binaries/miniconda3/envs/uprootenv/lib/python3.5/site-packages/matplotlib/__init__.py\u001b[0m in \u001b[0;36minner\u001b[0;34m(ax, *args, **kwargs)\u001b[0m\n\u001b[1;32m   1865\u001b[0m                         \u001b[0;34m\"the Matplotlib list!)\"\u001b[0m \u001b[0;34m%\u001b[0m \u001b[0;34m(\u001b[0m\u001b[0mlabel_namer\u001b[0m\u001b[0;34m,\u001b[0m \u001b[0mfunc\u001b[0m\u001b[0;34m.\u001b[0m\u001b[0m__name__\u001b[0m\u001b[0;34m)\u001b[0m\u001b[0;34m,\u001b[0m\u001b[0;34m\u001b[0m\u001b[0m\n\u001b[1;32m   1866\u001b[0m                         RuntimeWarning, stacklevel=2)\n\u001b[0;32m-> 1867\u001b[0;31m             \u001b[0;32mreturn\u001b[0m \u001b[0mfunc\u001b[0m\u001b[0;34m(\u001b[0m\u001b[0max\u001b[0m\u001b[0;34m,\u001b[0m \u001b[0;34m*\u001b[0m\u001b[0margs\u001b[0m\u001b[0;34m,\u001b[0m \u001b[0;34m**\u001b[0m\u001b[0mkwargs\u001b[0m\u001b[0;34m)\u001b[0m\u001b[0;34m\u001b[0m\u001b[0m\n\u001b[0m\u001b[1;32m   1868\u001b[0m \u001b[0;34m\u001b[0m\u001b[0m\n\u001b[1;32m   1869\u001b[0m         inner.__doc__ = _add_data_doc(inner.__doc__,\n",
      "\u001b[0;32m~/Binaries/miniconda3/envs/uprootenv/lib/python3.5/site-packages/matplotlib/axes/_axes.py\u001b[0m in \u001b[0;36mhist2d\u001b[0;34m(self, x, y, bins, range, normed, weights, cmin, cmax, **kwargs)\u001b[0m\n\u001b[1;32m   6933\u001b[0m \u001b[0;34m\u001b[0m\u001b[0m\n\u001b[1;32m   6934\u001b[0m         h, xedges, yedges = np.histogram2d(x, y, bins=bins, range=range,\n\u001b[0;32m-> 6935\u001b[0;31m                                            normed=normed, weights=weights)\n\u001b[0m\u001b[1;32m   6936\u001b[0m \u001b[0;34m\u001b[0m\u001b[0m\n\u001b[1;32m   6937\u001b[0m         \u001b[0;32mif\u001b[0m \u001b[0mcmin\u001b[0m \u001b[0;32mis\u001b[0m \u001b[0;32mnot\u001b[0m \u001b[0;32mNone\u001b[0m\u001b[0;34m:\u001b[0m\u001b[0;34m\u001b[0m\u001b[0m\n",
      "\u001b[0;32m~/Binaries/miniconda3/envs/uprootenv/lib/python3.5/site-packages/numpy/lib/twodim_base.py\u001b[0m in \u001b[0;36mhistogram2d\u001b[0;34m(x, y, bins, range, normed, weights, density)\u001b[0m\n\u001b[1;32m    659\u001b[0m         \u001b[0mxedges\u001b[0m \u001b[0;34m=\u001b[0m \u001b[0myedges\u001b[0m \u001b[0;34m=\u001b[0m \u001b[0masarray\u001b[0m\u001b[0;34m(\u001b[0m\u001b[0mbins\u001b[0m\u001b[0;34m)\u001b[0m\u001b[0;34m\u001b[0m\u001b[0m\n\u001b[1;32m    660\u001b[0m         \u001b[0mbins\u001b[0m \u001b[0;34m=\u001b[0m \u001b[0;34m[\u001b[0m\u001b[0mxedges\u001b[0m\u001b[0;34m,\u001b[0m \u001b[0myedges\u001b[0m\u001b[0;34m]\u001b[0m\u001b[0;34m\u001b[0m\u001b[0m\n\u001b[0;32m--> 661\u001b[0;31m     \u001b[0mhist\u001b[0m\u001b[0;34m,\u001b[0m \u001b[0medges\u001b[0m \u001b[0;34m=\u001b[0m \u001b[0mhistogramdd\u001b[0m\u001b[0;34m(\u001b[0m\u001b[0;34m[\u001b[0m\u001b[0mx\u001b[0m\u001b[0;34m,\u001b[0m \u001b[0my\u001b[0m\u001b[0;34m]\u001b[0m\u001b[0;34m,\u001b[0m \u001b[0mbins\u001b[0m\u001b[0;34m,\u001b[0m \u001b[0mrange\u001b[0m\u001b[0;34m,\u001b[0m \u001b[0mnormed\u001b[0m\u001b[0;34m,\u001b[0m \u001b[0mweights\u001b[0m\u001b[0;34m,\u001b[0m \u001b[0mdensity\u001b[0m\u001b[0;34m)\u001b[0m\u001b[0;34m\u001b[0m\u001b[0m\n\u001b[0m\u001b[1;32m    662\u001b[0m     \u001b[0;32mreturn\u001b[0m \u001b[0mhist\u001b[0m\u001b[0;34m,\u001b[0m \u001b[0medges\u001b[0m\u001b[0;34m[\u001b[0m\u001b[0;36m0\u001b[0m\u001b[0;34m]\u001b[0m\u001b[0;34m,\u001b[0m \u001b[0medges\u001b[0m\u001b[0;34m[\u001b[0m\u001b[0;36m1\u001b[0m\u001b[0;34m]\u001b[0m\u001b[0;34m\u001b[0m\u001b[0m\n\u001b[1;32m    663\u001b[0m \u001b[0;34m\u001b[0m\u001b[0m\n",
      "\u001b[0;32m~/Binaries/miniconda3/envs/uprootenv/lib/python3.5/site-packages/numpy/lib/histograms.py\u001b[0m in \u001b[0;36mhistogramdd\u001b[0;34m(sample, bins, range, normed, weights, density)\u001b[0m\n\u001b[1;32m    926\u001b[0m         \u001b[0;32mif\u001b[0m \u001b[0mM\u001b[0m \u001b[0;34m!=\u001b[0m \u001b[0mD\u001b[0m\u001b[0;34m:\u001b[0m\u001b[0;34m\u001b[0m\u001b[0m\n\u001b[1;32m    927\u001b[0m             raise ValueError(\n\u001b[0;32m--> 928\u001b[0;31m                 \u001b[0;34m'The dimension of bins must be equal to the dimension of the '\u001b[0m\u001b[0;34m\u001b[0m\u001b[0m\n\u001b[0m\u001b[1;32m    929\u001b[0m                 ' sample x.')\n\u001b[1;32m    930\u001b[0m     \u001b[0;32mexcept\u001b[0m \u001b[0mTypeError\u001b[0m\u001b[0;34m:\u001b[0m\u001b[0;34m\u001b[0m\u001b[0m\n",
      "\u001b[0;31mValueError\u001b[0m: The dimension of bins must be equal to the dimension of the  sample x."
     ]
    },
    {
     "data": {
      "image/png": "[encoded data removed]",
      "text/plain": [
       "<Figure size 288x216 with 1 Axes>"
      ]
     },
     "metadata": {
      "needs_background": "light"
     },
     "output_type": "display_data"
    }
   ],
   "source": [
    "#print(index_simple_good)\n",
    "data_fl = df_flash_mc.iloc[index_simple_good]['flash_totalPE']\n",
    "data_mc_avgx = mcp_df.iloc[index_mcp_good_simple]['mc_avgx_tpc']\n",
    "\n",
    "fig, ax = plt.subplots(1, 1, figsize=(4, 3))\n",
    "\n",
    "c = ax.hist2d(data_mc_avgx, data_fl, range=((0,250),(30,2500)), cmap='coolwarm', bins=(50,50))\n",
    "plt.colorbar(c[3], ax=ax)\n",
    "ax.set_xlabel('Muon average $x$ in TPC [cm]')\n",
    "ax.set_ylabel('Matched SimpleFlash PE')\n",
    "fig.tight_layout()\n",
    "plt.savefig(\"./Output/SimpleCosmicFlash/mux_flashPE.pdf\", bbox_inches=\"tight\")"
   ]
  },
  {
   "cell_type": "code",
   "execution_count": 44,
   "metadata": {},
   "outputs": [],
   "source": [
    "mcp_df['mc_avgy_tpc'] = (mcp_df['mc_starty_tpc']+mcp_df['mc_endy_tpc'])/2\n",
    "mcp_df['mc_avgz_tpc'] = (mcp_df['mc_startz_tpc']+mcp_df['mc_endz_tpc'])/2\n",
    "\n",
    "mcp_df['mc_mom_x_yz'] = mcp_df['mc_startmomentumx'] / (mcp_df['mc_startmomentumy']**2+mcp_df['mc_startmomentumz']**2)**0.5\n",
    "mcp_df['mc_mom_z_xy'] = mcp_df['mc_startmomentumz'] / (mcp_df['mc_startmomentumx']**2+mcp_df['mc_startmomentumy']**2)**0.5\n",
    "mcp_df['mc_mom_y_zx'] = mcp_df['mc_startmomentumy'] / (mcp_df['mc_startmomentumz']**2+mcp_df['mc_startmomentumx']**2)**0.5"
   ]
  },
  {
   "cell_type": "code",
   "execution_count": 45,
   "metadata": {},
   "outputs": [
    {
     "data": {
      "image/png": "[encoded data removed]",
      "text/plain": [
       "<Figure size 756x504 with 6 Axes>"
      ]
     },
     "metadata": {
      "needs_background": "light"
     },
     "output_type": "display_data"
    }
   ],
   "source": [
    "fig, ax = plt.subplots(2, 3, figsize=(10.5, 7))\n",
    "\n",
    "field = 'mc_avgx_tpc'\n",
    "data1 = [mcp_df.iloc[index_mcp_good_simple][field], mcp_df.iloc[index_mcp_bad][field], mcp_df.iloc[index_mcp_all][field]]\n",
    "\n",
    "field = 'mc_avgy_tpc'\n",
    "data2 = [mcp_df.iloc[index_mcp_good_simple][field], mcp_df.iloc[index_mcp_bad][field], mcp_df.iloc[index_mcp_all][field]]\n",
    "field = 'mc_avgz_tpc'\n",
    "data3 = [mcp_df.iloc[index_mcp_good_simple][field], mcp_df.iloc[index_mcp_bad][field], mcp_df.iloc[index_mcp_all][field]]\n",
    "\n",
    "field = 'mc_mom_x_yz'\n",
    "data4 = [mcp_df.iloc[index_mcp_good_simple][field], mcp_df.iloc[index_mcp_bad][field], mcp_df.iloc[index_mcp_all][field]]\n",
    "field = 'mc_mom_z_xy'\n",
    "data5 = [mcp_df.iloc[index_mcp_good_simple][field], mcp_df.iloc[index_mcp_bad][field], mcp_df.iloc[index_mcp_all][field]]\n",
    "field = 'mc_mom_y_zx'\n",
    "data6 = [mcp_df.iloc[index_mcp_good_simple][field], mcp_df.iloc[index_mcp_bad][field], mcp_df.iloc[index_mcp_all][field]]\n",
    "\n",
    "labs = ['Muons with SimpleFlash', 'Muons without SimpleFlash', 'All muons']\n",
    "\n",
    "ax[0][0].hist(data1,label=labs,histtype='step',lw=2,bins=50,range=(0,256))\n",
    "ax[0][0].set_ylim(0,6280)\n",
    "ax[0][1].hist(data2,label=labs,histtype='step',lw=2,bins=50,range=(-125,125))\n",
    "ax[0][1].set_ylim(5,50000)\n",
    "ax[0][2].hist(data3,label=labs,histtype='step',lw=2,bins=50,range=(0,1040))\n",
    "\n",
    "ax[1][0].hist(data4,label=labs,histtype='step',lw=2,bins=50,density=0,range=(-3,3))\n",
    "ax[1][1].hist(data5,label=labs,histtype='step',lw=2,bins=50,density=0,range=(-3,3))\n",
    "ax[1][2].hist(data6,label=labs,histtype='step',lw=2,bins=50,density=0,range=(-8,2))\n",
    "\n",
    "ax[0][0].set_xlabel(r'Average $x$ in TPC [cm]')\n",
    "ax[0][1].set_xlabel(r'Average $y$ in TPC [cm]')\n",
    "ax[0][2].set_xlabel(r'Average $z$ in TPC [cm]')\n",
    "ax[0][1].set_yscale('log')\n",
    "\n",
    "ax[1][0].set_xlabel(r'$p_x \\:/ \\sqrt{p_y^2+p_z^2}$')\n",
    "ax[1][1].set_xlabel(r'$p_y \\:/ \\sqrt{p_x^2+p_z^2}$')\n",
    "ax[1][2].set_xlabel(r'$p_z \\:/ \\sqrt{p_x^2+p_y^2}$')\n",
    "\n",
    "ax[0][0].set_ylabel('Entries per bin')\n",
    "ax[1][0].set_ylabel('Entries per bin')\n",
    "ax[0][0].legend(loc='upper left')\n",
    "\n",
    "fig.tight_layout()\n",
    "plt.savefig(\"./Output/SimpleCosmicFlash/mc_muons2.pdf\", bbox_inches=\"tight\")"
   ]
  },
  {
   "cell_type": "code",
   "execution_count": 46,
   "metadata": {},
   "outputs": [
    {
     "data": {
      "image/png": "[encoded data removed]",
      "text/plain": [
       "<Figure size 547.2x252 with 2 Axes>"
      ]
     },
     "metadata": {
      "needs_background": "light"
     },
     "output_type": "display_data"
    }
   ],
   "source": [
    "fig, ax = plt.subplots(1, 2, figsize=(7.6, 3.5))\n",
    "\n",
    "field = 'mc_length_tpc'\n",
    "data1 = [mcp_df.iloc[index_mcp_good_simple][field], mcp_df.iloc[index_mcp_bad][field]]\n",
    "field = 'Kinetic Energy'\n",
    "data2 = [mcp_df.iloc[index_mcp_good_simple][field], mcp_df.iloc[index_mcp_bad][field]]\n",
    "\n",
    "\n",
    "labs = ['Muons with flash', 'Muons without flash']\n",
    "ax[0].hist(data1,label=labs,histtype='step',lw=2,bins=50,density=0,range=(0,400))\n",
    "ax[1].hist(data2,label=labs,histtype='step',lw=2,bins=50,density=0,range=(0,10))\n",
    "\n",
    "ax[0].set_xlabel('Length inside the TPC [cm]')\n",
    "ax[1].set_xlabel('Muon start kinetic energy [GeV]')\n",
    "\n",
    "ax[0].set_ylabel('Entries per bin')\n",
    "ax[1].legend(loc='upper right')\n",
    "\n",
    "fig.tight_layout()\n",
    "plt.savefig(\"./Output/SimpleCosmicFlash/mc_muons1.pdf\", bbox_inches=\"tight\")"
   ]
  },
  {
   "cell_type": "code",
   "execution_count": 47,
   "metadata": {},
   "outputs": [
    {
     "data": {
      "text/plain": [
       "0.9462034593960715"
      ]
     },
     "execution_count": 47,
     "metadata": {},
     "output_type": "execute_result"
    }
   ],
   "source": [
    "# We match 94% of all muons if they are x<200 and z inside [50,990] and energy of 1GeV. Good!\n",
    "query_easy_muons = '(mc_avgx_tpc < 200) & (mc_avgz_tpc > 50) & (mc_avgz_tpc < 990)  \\\n",
    "                  & (mc_energy>1)' \n",
    "len(mcp_df.iloc[index_mcp_good_simple].query(query_easy_muons))/len(mcp_df.iloc[index_mcp_all].query(query_easy_muons))"
   ]
  },
  {
   "cell_type": "code",
   "execution_count": 48,
   "metadata": {},
   "outputs": [
    {
     "data": {
      "image/png": "[encoded data removed]",
      "text/plain": [
       "<Figure size 432x216 with 2 Axes>"
      ]
     },
     "metadata": {
      "needs_background": "light"
     },
     "output_type": "display_data"
    }
   ],
   "source": [
    "df_easy_muons = mcp_df.query(query_easy_muons)\n",
    "\n",
    "# The flashes arer sorted using PE, so we need to recalculate the time diff.\n",
    "df_muons_sorted = mcp_df.sort_values(by=['event','run','subrun','mc_time'])\n",
    "df_muons_sorted['mc_difftime'] = df_muons_sorted['mc_time']-np.roll(df_muons_sorted['mc_time'],1) \n",
    "df_easy_muons_sorted = df_muons_sorted.query(query_easy_muons)\n",
    "\n",
    "fig, ax = plt.subplots(1, 2, figsize=(6, 3))\n",
    "labs = ['Matched flashes','Not matched']\n",
    "\n",
    "data = [df_easy_muons_sorted[df_easy_muons_sorted.index.isin(index_mcp_good_simple)]['mc_difftime']/1000,\n",
    "        df_easy_muons_sorted[df_easy_muons_sorted.index.isin(index_mcp_bad)]['mc_difftime']/1000]\n",
    "ax[0].hist(data, histtype='step', density=1,bins=30,range=(0,20),lw=2, label=labs)\n",
    "data = [df_easy_muons_sorted[df_easy_muons_sorted.index.isin(index_mcp_good_simple)]['mc_length_tpc'],\n",
    "        df_easy_muons_sorted[df_easy_muons_sorted.index.isin(index_mcp_bad)]['mc_length_tpc']]\n",
    "ax[1].hist(data, histtype='step', density=1,bins=30,range=(0,400),lw=2)\n",
    "ax[0].legend()\n",
    "ax[0].set_xlabel(\"Time after previous muon [$\\mu$s]\")\n",
    "ax[1].set_xlabel(\"Flash intensity [PE]\")\n",
    "ax[0].set_ylabel(\"Area normalised\")\n",
    "\n",
    "fig.tight_layout()\n",
    "plt.savefig(\"./Output/SimpleCosmicFlash/sequentialmuoncheck.pdf\", bbox_inches=\"tight\")\n"
   ]
  },
  {
   "cell_type": "code",
   "execution_count": 49,
   "metadata": {},
   "outputs": [
    {
     "name": "stdout",
     "output_type": "stream",
     "text": [
      "1101\n",
      "398\n"
     ]
    }
   ],
   "source": [
    "# Find the easy muons that did not trigger a flash because of another flash:\n",
    "diff_time = []\n",
    "\n",
    "muon_df = mcp_df.iloc[index_mcp_bad].query(query_easy_muons)\n",
    "print(len(muon_df))\n",
    "for index, row in muon_df.iterrows():\n",
    "    event,run,subrun = row[['event','run','subrun']]\n",
    "    selection_string = 'event==@event & run==@run & subrun==@subrun'\n",
    "    flash_times = df_flash_mc.query(selection_string)['flash_time'].values\n",
    "    mc_time = row['mc_time']/1000\n",
    "    temp = flash_times-mc_time\n",
    "    if(len(temp[temp<0.05])>0):\n",
    "        temp_diff = max(temp[temp<0.05])\n",
    "        diff_time.append(temp_diff)\n",
    "        \n",
    "print(sum(np.array(diff_time)>-8))"
   ]
  },
  {
   "cell_type": "code",
   "execution_count": 50,
   "metadata": {},
   "outputs": [
    {
     "data": {
      "text/plain": [
       "(array([398.,  66.,  73.,  69.,  45.,  56.,  45.,  43.,  30.,  36.,  23.,\n",
       "         22.,  31.,  13.,  15.,  19.,  15.,   7.,   9.,   4.]),\n",
       " array([  0.,   8.,  16.,  24.,  32.,  40.,  48.,  56.,  64.,  72.,  80.,\n",
       "         88.,  96., 104., 112., 120., 128., 136., 144., 152., 160.],\n",
       "       dtype=float32),\n",
       " <a list of 20 Patch objects>)"
      ]
     },
     "execution_count": 50,
     "metadata": {},
     "output_type": "execute_result"
    },
    {
     "data": {
      "image/png": "[encoded data removed]",
      "text/plain": [
       "<Figure size 432x288 with 1 Axes>"
      ]
     },
     "metadata": {
      "needs_background": "light"
     },
     "output_type": "display_data"
    }
   ],
   "source": [
    "plt.hist(abs(np.array(diff_time)), bins=20, range=(0,160))"
   ]
  },
  {
   "cell_type": "code",
   "execution_count": null,
   "metadata": {},
   "outputs": [],
   "source": []
  }
 ],
 "metadata": {
  "anaconda-cloud": {},
  "kernelspec": {
   "display_name": "Uproot Env",
   "language": "python",
   "name": "uprootenv"
  },
  "language_info": {
   "codemirror_mode": {
    "name": "ipython",
    "version": 3
   },
   "file_extension": ".py",
   "mimetype": "text/x-python",
   "name": "python",
   "nbconvert_exporter": "python",
   "pygments_lexer": "ipython3",
   "version": "3.5.6"
  }
 },
 "nbformat": 4,
 "nbformat_minor": 2
}
