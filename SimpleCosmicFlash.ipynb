{
 "cells": [
  {
   "cell_type": "code",
   "execution_count": 1,
   "metadata": {},
   "outputs": [],
   "source": [
    "import uproot\n",
    "import matplotlib.pyplot as plt\n",
    "import matplotlib.patches as patches\n",
    "import numpy as np\n",
    "import glob\n",
    "from IPython.display import display, clear_output\n",
    "import helpfunction as helper"
   ]
  },
  {
   "cell_type": "code",
   "execution_count": 2,
   "metadata": {},
   "outputs": [],
   "source": [
    "%matplotlib inline"
   ]
  },
  {
   "cell_type": "code",
   "execution_count": 3,
   "metadata": {},
   "outputs": [],
   "source": [
    "def binom_err(bins_nom, bins_denom):\n",
    "    p = bins_nom/bins_denom\n",
    "    q = 1-p\n",
    "    return np.sqrt(q*(1-p)/bins_denom)"
   ]
  },
  {
   "cell_type": "code",
   "execution_count": 4,
   "metadata": {},
   "outputs": [],
   "source": [
    "muon_mass = 0.105658\n",
    "\n",
    "det_x = np.array([-1.55, 254.8])\n",
    "det_y = np.array([-115.53, 117.47])\n",
    "det_z = np.array([0.1, 1036.9])\n",
    "eps= np.array([-0.001, 0.001])\n",
    "\n",
    "\n",
    "main_tree_name = 'cosmicstudies'\n",
    "flash_name = b'SimpleCosmicFlashes'\n",
    "\n",
    "outdir = './Output/SimpleCosmicFlash/'\n",
    "# Input file lists\n",
    "file_name_mc = './input/CosmicStudiesCRT_mc_75k_mcc9.root'\n",
    "file_name_data = './input/CosmicStudiesCRT_run3_48k_mcc9.root'\n",
    "#file_name_data = './input/CosmicStudies_run1_162k_mcc83.root'"
   ]
  },
  {
   "cell_type": "code",
   "execution_count": 5,
   "metadata": {},
   "outputs": [],
   "source": [
    "# To Do: update for logspace x axis\n",
    "def histHelper(N,x_min,x_max,data,weights=0):\n",
    "    edges = np.linspace(x_min,x_max,N+1)\n",
    "    edges_mid = [ edges[i]+(edges[i+1]-edges[i])/2 for i in range(N)]\n",
    "    bins = [np.histogram(data_i,bins=edges)[0] for data_i in data]\n",
    "    max_val = max([max(x) for x in bins])\n",
    "    if weights==0:\n",
    "        err = np.sqrt(bins)\n",
    "    else:\n",
    "        err = [helper.hist_bin_uncertainty(d_i, w_i, edges) for d_i, w_i in zip(data,weight)] \n",
    "    return edges, edges_mid, bins, err, max_val"
   ]
  },
  {
   "cell_type": "code",
   "execution_count": 6,
   "metadata": {},
   "outputs": [],
   "source": [
    "file_mc = uproot.open(file_name_mc)[main_tree_name]\n",
    "file_data = uproot.open(file_name_data)[main_tree_name]"
   ]
  },
  {
   "cell_type": "code",
   "execution_count": 7,
   "metadata": {},
   "outputs": [
    {
     "data": {
      "text/plain": [
       "[b'pot;1',\n",
       " b'Event;1',\n",
       " b'OpBeamFlashes;1',\n",
       " b'SimpleBeamFlashes;1',\n",
       " b'OpCosmicFlashes;1',\n",
       " b'SimpleCosmicFlashes;1',\n",
       " b'PFParticles;1',\n",
       " b'Clusters;1']"
      ]
     },
     "execution_count": 7,
     "metadata": {},
     "output_type": "execute_result"
    }
   ],
   "source": [
    "file_data.keys()"
   ]
  },
  {
   "cell_type": "code",
   "execution_count": 8,
   "metadata": {},
   "outputs": [
    {
     "data": {
      "text/plain": [
       "[b'event',\n",
       " b'run',\n",
       " b'subrun',\n",
       " b'pot',\n",
       " b'dataset_prescale_factor',\n",
       " b'num_simplebeamflashes',\n",
       " b'num_opbeamflashes',\n",
       " b'num_simplecosmicflashes',\n",
       " b'num_opcosmicflashes',\n",
       " b'num_pfp',\n",
       " b'num_pfp_saved',\n",
       " b'num_mcp',\n",
       " b'num_mcp_saved',\n",
       " b'num_nu',\n",
       " b'nu_vtx_x',\n",
       " b'nu_vtx_y',\n",
       " b'nu_vtx_z',\n",
       " b'nu_E',\n",
       " b'nu_time',\n",
       " b'nu_pdg_code',\n",
       " b'nu_ccnc']"
      ]
     },
     "execution_count": 8,
     "metadata": {},
     "output_type": "execute_result"
    }
   ],
   "source": [
    "file_mc[b'Event'].keys()"
   ]
  },
  {
   "cell_type": "code",
   "execution_count": 9,
   "metadata": {},
   "outputs": [],
   "source": [
    "df_flash_mc = file_mc[flash_name].pandas.df()\n",
    "df_flash_data = file_data[flash_name].pandas.df()"
   ]
  },
  {
   "cell_type": "code",
   "execution_count": 10,
   "metadata": {},
   "outputs": [
    {
     "data": {
      "text/html": [
       "<div>\n",
       "<style scoped>\n",
       "    .dataframe tbody tr th:only-of-type {\n",
       "        vertical-align: middle;\n",
       "    }\n",
       "\n",
       "    .dataframe tbody tr th {\n",
       "        vertical-align: top;\n",
       "    }\n",
       "\n",
       "    .dataframe thead th {\n",
       "        text-align: right;\n",
       "    }\n",
       "</style>\n",
       "<table border=\"1\" class=\"dataframe\">\n",
       "  <thead>\n",
       "    <tr style=\"text-align: right;\">\n",
       "      <th></th>\n",
       "      <th>event</th>\n",
       "      <th>run</th>\n",
       "      <th>subrun</th>\n",
       "      <th>num_mcp</th>\n",
       "      <th>dataset_prescale_factor</th>\n",
       "      <th>num_flashes</th>\n",
       "      <th>flash_time</th>\n",
       "      <th>flash_difftime</th>\n",
       "      <th>flash_totalPE</th>\n",
       "      <th>flash_z</th>\n",
       "      <th>flash_sz</th>\n",
       "      <th>flash_y</th>\n",
       "      <th>flash_sy</th>\n",
       "      <th>flash_width</th>\n",
       "      <th>flash_abstime</th>\n",
       "      <th>flash_num_PMT10percent</th>\n",
       "    </tr>\n",
       "  </thead>\n",
       "  <tbody>\n",
       "    <tr>\n",
       "      <th>0</th>\n",
       "      <td>20481</td>\n",
       "      <td>1</td>\n",
       "      <td>1025</td>\n",
       "      <td>20892</td>\n",
       "      <td>1.0</td>\n",
       "      <td>32</td>\n",
       "      <td>-23.296875</td>\n",
       "      <td>-23.296875</td>\n",
       "      <td>1994</td>\n",
       "      <td>256.372131</td>\n",
       "      <td>62.721111</td>\n",
       "      <td>4.769326</td>\n",
       "      <td>36.252834</td>\n",
       "      <td>0.28125</td>\n",
       "      <td>4026.671875</td>\n",
       "      <td>0</td>\n",
       "    </tr>\n",
       "    <tr>\n",
       "      <th>1</th>\n",
       "      <td>20481</td>\n",
       "      <td>1</td>\n",
       "      <td>1025</td>\n",
       "      <td>20892</td>\n",
       "      <td>1.0</td>\n",
       "      <td>32</td>\n",
       "      <td>-2117.390625</td>\n",
       "      <td>-2094.093750</td>\n",
       "      <td>1808</td>\n",
       "      <td>165.965088</td>\n",
       "      <td>60.521610</td>\n",
       "      <td>4.740715</td>\n",
       "      <td>34.363579</td>\n",
       "      <td>0.28125</td>\n",
       "      <td>1932.578125</td>\n",
       "      <td>0</td>\n",
       "    </tr>\n",
       "    <tr>\n",
       "      <th>2</th>\n",
       "      <td>20481</td>\n",
       "      <td>1</td>\n",
       "      <td>1025</td>\n",
       "      <td>20892</td>\n",
       "      <td>1.0</td>\n",
       "      <td>32</td>\n",
       "      <td>-1788.140625</td>\n",
       "      <td>329.250000</td>\n",
       "      <td>1703</td>\n",
       "      <td>740.808105</td>\n",
       "      <td>104.509712</td>\n",
       "      <td>8.762930</td>\n",
       "      <td>44.194527</td>\n",
       "      <td>0.28125</td>\n",
       "      <td>2261.828125</td>\n",
       "      <td>0</td>\n",
       "    </tr>\n",
       "    <tr>\n",
       "      <th>3</th>\n",
       "      <td>20481</td>\n",
       "      <td>1</td>\n",
       "      <td>1025</td>\n",
       "      <td>20892</td>\n",
       "      <td>1.0</td>\n",
       "      <td>32</td>\n",
       "      <td>1232.296875</td>\n",
       "      <td>3020.437500</td>\n",
       "      <td>1595</td>\n",
       "      <td>326.400543</td>\n",
       "      <td>81.792152</td>\n",
       "      <td>18.960173</td>\n",
       "      <td>43.675838</td>\n",
       "      <td>0.28125</td>\n",
       "      <td>5282.265625</td>\n",
       "      <td>0</td>\n",
       "    </tr>\n",
       "    <tr>\n",
       "      <th>4</th>\n",
       "      <td>20481</td>\n",
       "      <td>1</td>\n",
       "      <td>1025</td>\n",
       "      <td>20892</td>\n",
       "      <td>1.0</td>\n",
       "      <td>32</td>\n",
       "      <td>827.765625</td>\n",
       "      <td>-404.531250</td>\n",
       "      <td>1589</td>\n",
       "      <td>617.750916</td>\n",
       "      <td>89.708992</td>\n",
       "      <td>-0.868655</td>\n",
       "      <td>39.419865</td>\n",
       "      <td>0.28125</td>\n",
       "      <td>4877.734375</td>\n",
       "      <td>0</td>\n",
       "    </tr>\n",
       "  </tbody>\n",
       "</table>\n",
       "</div>"
      ],
      "text/plain": [
       "   event  run  subrun  num_mcp  dataset_prescale_factor  num_flashes  \\\n",
       "0  20481    1    1025    20892                      1.0           32   \n",
       "1  20481    1    1025    20892                      1.0           32   \n",
       "2  20481    1    1025    20892                      1.0           32   \n",
       "3  20481    1    1025    20892                      1.0           32   \n",
       "4  20481    1    1025    20892                      1.0           32   \n",
       "\n",
       "    flash_time  flash_difftime  flash_totalPE     flash_z    flash_sz  \\\n",
       "0   -23.296875      -23.296875           1994  256.372131   62.721111   \n",
       "1 -2117.390625    -2094.093750           1808  165.965088   60.521610   \n",
       "2 -1788.140625      329.250000           1703  740.808105  104.509712   \n",
       "3  1232.296875     3020.437500           1595  326.400543   81.792152   \n",
       "4   827.765625     -404.531250           1589  617.750916   89.708992   \n",
       "\n",
       "     flash_y   flash_sy  flash_width  flash_abstime  flash_num_PMT10percent  \n",
       "0   4.769326  36.252834      0.28125    4026.671875                       0  \n",
       "1   4.740715  34.363579      0.28125    1932.578125                       0  \n",
       "2   8.762930  44.194527      0.28125    2261.828125                       0  \n",
       "3  18.960173  43.675838      0.28125    5282.265625                       0  \n",
       "4  -0.868655  39.419865      0.28125    4877.734375                       0  "
      ]
     },
     "execution_count": 10,
     "metadata": {},
     "output_type": "execute_result"
    }
   ],
   "source": [
    "df_flash_mc.head()"
   ]
  },
  {
   "cell_type": "code",
   "execution_count": 11,
   "metadata": {},
   "outputs": [
    {
     "name": "stdout",
     "output_type": "stream",
     "text": [
      "80000\n"
     ]
    }
   ],
   "source": [
    "cols = [b'event', b'run', b'subrun', \n",
    "        b'num_simplebeamflashes', b'num_opbeamflashes', b'num_simplecosmicflashes', b'num_opcosmicflashes']\n",
    "df_event_mc = file_mc[b'Event'].pandas.df(cols)\n",
    "df_event_data = file_data[b'Event'].pandas.df()\n",
    "print(len(df_event_mc))"
   ]
  },
  {
   "cell_type": "code",
   "execution_count": 12,
   "metadata": {},
   "outputs": [],
   "source": [
    "df_mcp = file_mc[b'MCParticles'].pandas.df()\n",
    "nu_ori_mc = \"(mc_neutrino_origin==0)\"\n",
    "df_mcp = df_mcp.query(nu_ori_mc)"
   ]
  },
  {
   "cell_type": "code",
   "execution_count": 13,
   "metadata": {},
   "outputs": [
    {
     "name": "stdout",
     "output_type": "stream",
     "text": [
      "4473247\n",
      "579.9999\n"
     ]
    },
    {
     "data": {
      "image/png": "[encoded data removed]",
      "text/plain": [
       "<Figure size 720x288 with 2 Axes>"
      ]
     },
     "metadata": {
      "needs_background": "light"
     },
     "output_type": "display_data"
    }
   ],
   "source": [
    "# Make a plot of the muon density at the generation!\n",
    "df_mcp_gen = df_mcp.query('(mc_process==23) & (mc_pdg_code==13 | mc_pdg_code==-13)')\n",
    "print(len(df_mcp_gen))\n",
    "# Time in seconds of the sample\n",
    "total_time = (max(df_mcp_gen['mc_time'])-min(df_mcp_gen['mc_time']))*1e-9*len(df_event_mc) \n",
    "print(total_time)\n",
    "# Area in m*m\n",
    "total_area = (40)*(25)\n",
    "weights = np.full((len(df_mcp_gen)), (25*40)/total_area/total_time)\n",
    "\n",
    "fig, ax = plt.subplots(1, 1, figsize=(10, 4))\n",
    "c = ax.hist2d(df_mcp_gen[\"mc_startz\"],df_mcp_gen[\"mc_startx\"], range=((-1500,2500),(-1250,1250)), \n",
    "              cmap='coolwarm', bins=(40,25), weights=weights)\n",
    "clb = fig.colorbar(c[3], ax=ax)\n",
    "clb.set_label(r'Integrated muon flux [m$^{-2}$ s$^{-1}$]')\n",
    "rect = patches.Rectangle((det_z[0],det_x[0]),det_z[1]-det_z[0],det_x[1]-det_x[0],\n",
    "                         linewidth=3,edgecolor='C2',facecolor='none', label='TPC')\n",
    "ax.add_patch(rect)\n",
    "ax.legend()\n",
    "ax.set_ylabel(r'Muon $x$ at generation [cm]')\n",
    "ax.set_xlabel(r'Muon $z$ at generation [cm]')\n",
    "ax.set_title('Generation position of muons crossing the cryostat')\n",
    "\n",
    "fig.tight_layout()\n",
    "plt.savefig(\"./Output/SimpleCosmicFlash/startxz_generation.pdf\", bbox_inches=\"tight\")"
   ]
  },
  {
   "cell_type": "code",
   "execution_count": 14,
   "metadata": {},
   "outputs": [
    {
     "data": {
      "text/plain": [
       "True     3206328\n",
       "False    1266919\n",
       "Name: mc_part_inside, dtype: int64"
      ]
     },
     "execution_count": 14,
     "metadata": {},
     "output_type": "execute_result"
    }
   ],
   "source": [
    "df_mcp_gen.columns\n",
    "df_mcp_gen['mc_part_inside'].value_counts()"
   ]
  },
  {
   "cell_type": "code",
   "execution_count": 15,
   "metadata": {},
   "outputs": [
    {
     "name": "stdout",
     "output_type": "stream",
     "text": [
      "-13      5.248184e-01\n",
      " 13      4.398465e-01\n",
      " 2112    3.360330e-02\n",
      " 2212    1.168431e-03\n",
      " 22      5.117796e-04\n",
      " 211     1.341973e-05\n",
      "-211     1.280974e-05\n",
      " 11      1.250475e-05\n",
      "-11      1.158977e-05\n",
      "-2212    9.149814e-07\n",
      "-2112    3.049938e-07\n",
      "Name: mc_pdg_code, dtype: float64\n",
      "Fraction of crossing primaries that is an (anti-)muon: 96.47%\n",
      "-13      1525169\n",
      " 13      1275943\n",
      " 2112      15529\n",
      " 2212        273\n",
      " 22           74\n",
      "-211           6\n",
      " 211           4\n",
      "-11            2\n",
      "-2112          1\n",
      " 11            1\n",
      "Name: mc_pdg_code, dtype: int64\n",
      "Fraction of exiting crossing primaries that is an (anti-)muon: 99.44%\n"
     ]
    }
   ],
   "source": [
    "primary_query = '(mc_process==23)'\n",
    "muon_query = '(mc_pdg_code==13 | mc_pdg_code==-13)'\n",
    "cross_query = '(mc_length_tpc>5)' \n",
    "exit_tpc = '(mc_end_inside==0)'\n",
    "\n",
    "# Fix the bug that some particles actually did not cross the tpc but seem to do\n",
    "df_mc_prim_cross = df_mcp.query(primary_query +' & '+ cross_query)\n",
    "\n",
    "cross_primary_fraction = len(df_mc_prim_cross.query(muon_query))/len(df_mc_prim_cross)\n",
    "print(df_mc_prim_cross['mc_pdg_code'].value_counts()/len(df_mc_prim_cross))\n",
    "print('Fraction of crossing primaries that is an (anti-)muon: {0:.2f}%'.format(cross_primary_fraction*100))\n",
    "df_mc_prim_exit = df_mc_prim_cross.query(exit_tpc)\n",
    "exit_primary_fraction = len(df_mc_prim_exit.query(muon_query))/len(df_mc_prim_exit)\n",
    "print(df_mc_prim_exit['mc_pdg_code'].value_counts())\n",
    "print('Fraction of exiting crossing primaries that is an (anti-)muon: {0:.2f}%'.format(exit_primary_fraction*100))\n",
    "\n",
    "df_mc_muon_cross = df_mc_prim_cross.query(muon_query).copy()\n",
    "df_mc_primary = df_mcp.query(primary_query).copy()\n",
    "del df_mcp # free the memory of the original frame!\n",
    "df_mc_muon_cross['Kinetic Energy'] = df_mc_muon_cross['mc_energy']-muon_mass\n",
    "\n",
    "# Conclusion: the primaries inside the TPC are mainly muons, 3% are neutrons."
   ]
  },
  {
   "cell_type": "markdown",
   "metadata": {},
   "source": [
    "## Plots done for MCP muons"
   ]
  },
  {
   "cell_type": "code",
   "execution_count": 16,
   "metadata": {},
   "outputs": [
    {
     "name": "stdout",
     "output_type": "stream",
     "text": [
      "Index(['event', 'run', 'subrun', 'num_mcp', 'num_mcp_saved', 'mc_energy',\n",
      "       'mc_pdg_code', 'mc_status_code', 'mc_process', 'mc_end_process',\n",
      "       'mc_is_matched', 'mc_start_inside', 'mc_end_inside', 'mc_part_inside',\n",
      "       'crt_crossed', 'mc_neutrino_origin', 'mc_time', 'mc_startx',\n",
      "       'mc_starty', 'mc_startz', 'mc_startx_tpc', 'mc_starty_tpc',\n",
      "       'mc_startz_tpc', 'mc_endx', 'mc_endy', 'mc_endz', 'mc_endx_tpc',\n",
      "       'mc_endy_tpc', 'mc_endz_tpc', 'mc_startmomentumx', 'mc_startmomentumy',\n",
      "       'mc_startmomentumz', 'mc_length', 'mc_length_tpc', 'Kinetic Energy'],\n",
      "      dtype='object')\n",
      "Index(['event', 'run', 'subrun', 'num_mcp', 'dataset_prescale_factor',\n",
      "       'num_flashes', 'flash_time', 'flash_difftime', 'flash_totalPE',\n",
      "       'flash_z', 'flash_sz', 'flash_y', 'flash_sy', 'flash_width',\n",
      "       'flash_abstime', 'flash_num_PMT10percent'],\n",
      "      dtype='object')\n"
     ]
    }
   ],
   "source": [
    "# You created a frame with only primary muons! This is okay up to 1/1000\n",
    "print(df_mc_muon_cross.columns)\n",
    "print(df_flash_mc.columns)"
   ]
  },
  {
   "cell_type": "code",
   "execution_count": 17,
   "metadata": {},
   "outputs": [
    {
     "data": {
      "text/plain": [
       "23    3162900\n",
       "Name: mc_process, dtype: int64"
      ]
     },
     "execution_count": 17,
     "metadata": {},
     "output_type": "execute_result"
    }
   ],
   "source": [
    "# Are all muons primary? \n",
    "df_mc_muon_cross['mc_process'].value_counts()\n",
    "# up to 1/1000, yes!"
   ]
  },
  {
   "cell_type": "code",
   "execution_count": 18,
   "metadata": {},
   "outputs": [
    {
     "data": {
      "text/plain": [
       "False    2801112\n",
       "True      361788\n",
       "Name: mc_end_inside, dtype: int64"
      ]
     },
     "execution_count": 18,
     "metadata": {},
     "output_type": "execute_result"
    }
   ],
   "source": [
    "# Do all muons start outside the TPC?\n",
    "df_mc_muon_cross['mc_end_inside'].value_counts()\n",
    "# Yes!"
   ]
  },
  {
   "cell_type": "code",
   "execution_count": 19,
   "metadata": {},
   "outputs": [
    {
     "name": "stdout",
     "output_type": "stream",
     "text": [
      "Fraction of stopping muons: 11.44%\n"
     ]
    }
   ],
   "source": [
    "# What fraction of muons stop inside the TPC?\n",
    "stopping_fraction = df_mc_muon_cross['mc_end_inside'].value_counts().values[1]/len(df_mc_muon_cross)\n",
    "print('Fraction of stopping muons: {0:.2f}%'.format(stopping_fraction*100))"
   ]
  },
  {
   "cell_type": "code",
   "execution_count": 20,
   "metadata": {},
   "outputs": [
    {
     "name": "stdout",
     "output_type": "stream",
     "text": [
      "0.9999997954448012\n"
     ]
    }
   ],
   "source": [
    "# Do all primary particles start at +18m above the detector?\n",
    "print(df_mc_primary['mc_starty'].value_counts().values[0]/len(df_mc_primary))\n",
    "# Yes!"
   ]
  },
  {
   "cell_type": "code",
   "execution_count": 21,
   "metadata": {},
   "outputs": [
    {
     "name": "stderr",
     "output_type": "stream",
     "text": [
      "/home/wouter/Binaries/miniconda3/envs/uprootenv/lib/python3.5/site-packages/ipykernel_launcher.py:18: RuntimeWarning: invalid value encountered in true_divide\n"
     ]
    },
    {
     "data": {
      "image/png": "[encoded data removed]",
      "text/plain": [
       "<Figure size 540x252 with 2 Axes>"
      ]
     },
     "metadata": {
      "needs_background": "light"
     },
     "output_type": "display_data"
    }
   ],
   "source": [
    "# make a plot of the muon kinetic energy and the fraction of stopping muons in function of that!\n",
    "fig, ax = plt.subplots(1, 2, figsize=(7.5, 3.5))\n",
    "N=100\n",
    "edges = np.linspace(0,20,N+1)\n",
    "edges_mid = [ edges[i]+(edges[i+1]-edges[i])/2 for i in range(N)]\n",
    "\n",
    "bins,_,_ = ax[0].hist(df_mc_muon_cross['Kinetic Energy'], bins=edges, density=1)\n",
    "ax[0].set_xlim(0,20)\n",
    "ax[0].set_xlabel(r'True muon $E_{kin}$ [GeV]')\n",
    "ax[0].set_ylabel('Area normalised')\n",
    "ax[0].set_title('Muon Kinetic Energy')\n",
    "\n",
    "N=98\n",
    "edges = np.linspace(0.1,2.5,N+1)\n",
    "edges_mid = [ edges[i]+(edges[i+1]-edges[i])/2 for i in range(N)]\n",
    "denom,_ = np.histogram(df_mc_muon_cross['Kinetic Energy'], bins=edges)\n",
    "nom,_ = np.histogram(df_mc_muon_cross.query('mc_end_inside')['Kinetic Energy'], bins=edges)\n",
    "fraq = nom/denom\n",
    "\n",
    "err = np.sqrt( fraq*(1-fraq)/denom )\n",
    "ax[1].step(edges_mid, fraq, where='mid', label = r'Total fraction: {0:.2f}%'.format(stopping_fraction*100))\n",
    "ax[1].fill_between(edges_mid, fraq - err, fraq + err, alpha=0.3, step='mid', color='C0')\n",
    "ax[1].set_xlim(0.1,2.5)\n",
    "ax[1].set_ylim(0,1)\n",
    "ax[1].set_xlabel(r'True muon $E_{kin}$ [GeV]')\n",
    "ax[1].set_ylabel('Fraction')\n",
    "ax[1].set_title('Stopping Muon Fraction')\n",
    "ax[1].legend(loc='upper right')\n",
    "\n",
    "fig.tight_layout()\n",
    "plt.savefig(\"./Output/SimpleCosmicFlash/mc_muon_E.pdf\", bbox_inches=\"tight\")"
   ]
  },
  {
   "cell_type": "code",
   "execution_count": 22,
   "metadata": {},
   "outputs": [
    {
     "data": {
      "text/plain": [
       "1036.8990000000001"
      ]
     },
     "execution_count": 22,
     "metadata": {},
     "output_type": "execute_result"
    }
   ],
   "source": [
    "z_safe = det_z-eps\n",
    "z_safe[1]"
   ]
  },
  {
   "cell_type": "code",
   "execution_count": 23,
   "metadata": {},
   "outputs": [
    {
     "name": "stdout",
     "output_type": "stream",
     "text": [
      "Muon flux: 138.82 muons/(m*s)\n"
     ]
    },
    {
     "data": {
      "image/png": "[encoded data removed]",
      "text/plain": [
       "<Figure size 720x230.4 with 2 Axes>"
      ]
     },
     "metadata": {
      "needs_background": "light"
     },
     "output_type": "display_data"
    }
   ],
   "source": [
    "# Make a plot of the muon density at TPC entrance!\n",
    "fig, ax = plt.subplots(1, 1, figsize=(10, 3.2))\n",
    "\n",
    "np.full((2, 2), np.inf)\n",
    "\n",
    "x_bin = 10\n",
    "z_bin = 40\n",
    "z_safe = det_z-eps\n",
    "x_safe = det_x-eps\n",
    "\n",
    "# Time in seconds of the sample\n",
    "total_time = (max(df_mc_muon_cross['mc_time'])-min(df_mc_muon_cross['mc_time']))*1e-9*len(df_event_mc) \n",
    "# Area in m*m\n",
    "total_area = (det_x[1]-det_x[0])*(det_z[1]-det_z[0])/1e4\n",
    "weights = np.full((len(df_mc_muon_cross[\"mc_startz_tpc\"])), (x_bin*z_bin)/total_area/total_time)\n",
    "\n",
    "c = ax.hist2d(df_mc_muon_cross[\"mc_startz_tpc\"],df_mc_muon_cross[\"mc_startx_tpc\"], \n",
    "              range=((z_safe[0], z_safe[1]), (x_safe[0], x_safe[1])), \n",
    "              cmap='coolwarm', bins=(z_bin,x_bin), weights=weights, vmin=50,vmax=200)\n",
    "\n",
    "clb = fig.colorbar(c[3], ax=ax)\n",
    "clb.set_label(r'Integrated muon flux [m$^{-2}$ s$^{-1}$]')\n",
    "\n",
    "ax.set_ylabel(r'Muon $x$ at TPC entrance [cm]')\n",
    "ax.set_xlabel(r'Muon $z$ at TPC entrance [cm]')\n",
    "ax.set_title('TPC entering position of muons from the top')\n",
    "\n",
    "fig.tight_layout()\n",
    "plt.savefig(\"./Output/SimpleCosmicFlash/startxz_crossing.pdf\", bbox_inches=\"tight\")\n",
    "\n",
    "loc_query = '(mc_startz_tpc>@z_safe[0]) & (mc_startz_tpc< @z_safe[1]) & \\\n",
    "             (mc_startx_tpc>@x_safe[0]) & (mc_startx_tpc< @x_safe[1])'\n",
    "rate = len(df_mc_muon_cross.query(loc_query)[\"mc_startz_tpc\"])/total_area/total_time\n",
    "print('Muon flux: {0:.2f} muons/(m*s)'.format(rate))"
   ]
  },
  {
   "cell_type": "code",
   "execution_count": 24,
   "metadata": {},
   "outputs": [
    {
     "data": {
      "text/plain": [
       "579.99986"
      ]
     },
     "execution_count": 24,
     "metadata": {},
     "output_type": "execute_result"
    }
   ],
   "source": [
    "# What is the total time of the MC sample in seconds?\n",
    "(max(df_mc_muon_cross['mc_time'])-min(df_mc_muon_cross['mc_time']))*1e-9*len(df_event_mc)"
   ]
  },
  {
   "cell_type": "code",
   "execution_count": 42,
   "metadata": {},
   "outputs": [
    {
     "data": {
      "text/plain": [
       "(array([133., 121., 125., 133., 132., 135., 135., 121., 131., 116., 119.,\n",
       "        131., 123., 146., 132., 130., 140., 109., 125., 135., 141., 122.,\n",
       "        142., 114., 139., 134., 148., 126., 119.,   4.,   0.,   0.,   0.,\n",
       "          0.,   0.,   0.,   0.,   0.,   0.,   0.,   0.,   0.,   0.,   0.,\n",
       "          0.,   0.,   0.,   0.,   0.,   0.,   0.,   0.,   0.,   0.,   0.,\n",
       "          0.,   0.,   0.,   0.,   0.,   0.,   0.,  56., 118., 126., 133.,\n",
       "        109., 130., 127., 139., 132., 126., 140., 123., 131., 126., 129.,\n",
       "        109., 103., 122., 119., 147., 107., 123., 132., 127., 137., 147.,\n",
       "        141., 131., 120., 154., 140., 133., 131., 158., 131., 137., 118.,\n",
       "        137.]),\n",
       " array([-0.02  , -0.0193, -0.0186, -0.0179, -0.0172, -0.0165, -0.0158,\n",
       "        -0.0151, -0.0144, -0.0137, -0.013 , -0.0123, -0.0116, -0.0109,\n",
       "        -0.0102, -0.0095, -0.0088, -0.0081, -0.0074, -0.0067, -0.006 ,\n",
       "        -0.0053, -0.0046, -0.0039, -0.0032, -0.0025, -0.0018, -0.0011,\n",
       "        -0.0004,  0.0003,  0.001 ,  0.0017,  0.0024,  0.0031,  0.0038,\n",
       "         0.0045,  0.0052,  0.0059,  0.0066,  0.0073,  0.008 ,  0.0087,\n",
       "         0.0094,  0.0101,  0.0108,  0.0115,  0.0122,  0.0129,  0.0136,\n",
       "         0.0143,  0.015 ,  0.0157,  0.0164,  0.0171,  0.0178,  0.0185,\n",
       "         0.0192,  0.0199,  0.0206,  0.0213,  0.022 ,  0.0227,  0.0234,\n",
       "         0.0241,  0.0248,  0.0255,  0.0262,  0.0269,  0.0276,  0.0283,\n",
       "         0.029 ,  0.0297,  0.0304,  0.0311,  0.0318,  0.0325,  0.0332,\n",
       "         0.0339,  0.0346,  0.0353,  0.036 ,  0.0367,  0.0374,  0.0381,\n",
       "         0.0388,  0.0395,  0.0402,  0.0409,  0.0416,  0.0423,  0.043 ,\n",
       "         0.0437,  0.0444,  0.0451,  0.0458,  0.0465,  0.0472,  0.0479,\n",
       "         0.0486,  0.0493,  0.05  ], dtype=float32),\n",
       " <a list of 100 Patch objects>)"
      ]
     },
     "execution_count": 42,
     "metadata": {},
     "output_type": "execute_result"
    },
    {
     "data": {
      "image/png": "[encoded data removed]",
      "text/plain": [
       "<Figure size 432x288 with 1 Axes>"
      ]
     },
     "metadata": {
      "needs_background": "light"
     },
     "output_type": "display_data"
    }
   ],
   "source": [
    "plt.hist(df_flash_data['flash_time']/1000, bins=100, range=(-0.02,0.05))"
   ]
  },
  {
   "cell_type": "code",
   "execution_count": 25,
   "metadata": {},
   "outputs": [
    {
     "data": {
      "image/png": "[encoded data removed]",
      "text/plain": [
       "<Figure size 648x252 with 3 Axes>"
      ]
     },
     "metadata": {
      "needs_background": "light"
     },
     "output_type": "display_data"
    }
   ],
   "source": [
    "# number of flashes per event, PE of flashes, time of flashes\n",
    "# data vs MC\n",
    "# before and after timing cut\n",
    "\n",
    "fig, ax = plt.subplots(1, 3, figsize=(9, 3.5))\n",
    "\n",
    "mc_scale = len(df_event_data)/len(df_event_mc) \n",
    "\n",
    "\n",
    "N=60\n",
    "#Num flashes\n",
    "edges=np.linspace(0,60,N+1)\n",
    "bins_mc,_,_ = ax[0].hist(df_event_mc['num_simplecosmicflashes'], bins=edges, histtype='step', lw=2,\n",
    "                         label='CORSIKA open', color='C0', weights=[mc_scale]*len(df_event_mc))\n",
    "\n",
    "temp = np.append(bins_mc, bins_mc[-1]) # padding with the same value in the end\n",
    "temp_err = np.sqrt(temp*mc_scale)\n",
    "ax[0].fill_between(edges, temp - temp_err, temp + temp_err, alpha=0.3, step='post', color='C0')\n",
    "        \n",
    "bins_data,_,_ = ax[0].hist(df_event_data['num_simplecosmicflashes'], bins=edges, histtype='step', lw=2,\n",
    "                         label='BNB Off Unbiased', color='C1')\n",
    "temp = np.append(bins_data, bins_data[-1])\n",
    "ax[0].fill_between(edges, temp - np.sqrt(temp), temp + np.sqrt(temp), alpha=0.3, step='post', color='C1')\n",
    "ax[0].legend(bbox_to_anchor=(0., 1.0, 1, 0.2), title='Number of Flashes', loc='lower center', mode='expand')\n",
    "ax[0].set_ylabel('Events per bin')\n",
    "ax[0].set_xlabel('Flashes in event')\n",
    "\n",
    "#Time flashes\n",
    "edges=np.linspace(-4,5,N+1)\n",
    "bins_mc,_,_ = ax[1].hist(df_flash_mc['flash_time']/1000, bins=edges, histtype='step', lw=2,\n",
    "                         label='CORSIKA open', color='C0', weights=[mc_scale]*len(df_flash_mc))\n",
    "\n",
    "temp = np.append(bins_mc, bins_mc[-1]) # padding with the same value in the end\n",
    "temp_err = np.sqrt(temp*mc_scale)\n",
    "ax[1].fill_between(edges, temp - temp_err, temp + temp_err, alpha=0.3, step='post', color='C0')\n",
    "        \n",
    "bins_data,_,_ = ax[1].hist(df_flash_data['flash_time']/1000, bins=edges, histtype='step', lw=2,\n",
    "                         label='BNB Off Unbiased', color='C1')\n",
    "temp = np.append(bins_data, bins_data[-1])\n",
    "ax[1].fill_between(edges, temp - np.sqrt(temp), temp + np.sqrt(temp), alpha=0.3, step='post', color='C1')\n",
    "ax[1].legend(bbox_to_anchor=(0., 1.0, 1, 0.2), title='Time of Flashes', loc='lower center', mode='expand')\n",
    "ax[1].set_ylabel('Flashes per bin')\n",
    "ax[1].set_xlabel(r'Flash time [ms]')\n",
    "\n",
    "#PE flashes\n",
    "edges=np.logspace(np.log10(30),np.log10(10000),N+1)\n",
    "bins_mc,_,_ = ax[2].hist(df_flash_mc['flash_totalPE'], bins=edges, histtype='step', lw=2,\n",
    "                         label='CORSIKA open', color='C0', weights=[mc_scale]*len(df_flash_mc))\n",
    "\n",
    "temp = np.append(bins_mc, bins_mc[-1]) # padding with the same value in the end\n",
    "temp_err = np.sqrt(temp*mc_scale)\n",
    "ax[2].fill_between(edges, temp - temp_err, temp + temp_err, alpha=0.3, step='post', color='C0')\n",
    "        \n",
    "bins_data,_,_ = ax[2].hist(df_flash_data['flash_totalPE'], bins=edges, histtype='step', lw=2,\n",
    "                         label='BNB Off Unbiased', color='C1')\n",
    "temp = np.append(bins_data, bins_data[-1])\n",
    "ax[2].fill_between(edges, temp - np.sqrt(temp), temp + np.sqrt(temp), alpha=0.3, step='post', color='C1')\n",
    "ax[2].legend(bbox_to_anchor=(0., 1.0, 1, 0.2), title='Total PE of Flashes', loc='lower center', mode='expand')\n",
    "ax[2].set_ylabel('Flashes per bin')\n",
    "ax[2].set_xlabel(r'Flash Intensity [PE]')\n",
    "ax[2].set_xscale(\"log\", nonposx='clip')\n",
    "\n",
    "fig.tight_layout()\n",
    "plt.savefig(\"./Output/SimpleCosmicFlash/flash_beforetime.pdf\", bbox_inches=\"tight\")"
   ]
  },
  {
   "cell_type": "code",
   "execution_count": 26,
   "metadata": {},
   "outputs": [
    {
     "data": {
      "text/plain": [
       "count    2.074785e+06\n",
       "mean    -5.054723e+01\n",
       "std      1.390793e+03\n",
       "min     -2.449922e+03\n",
       "25%     -1.258859e+03\n",
       "50%     -6.150000e+01\n",
       "75%      1.158891e+03\n",
       "max      2.350094e+03\n",
       "Name: flash_time, dtype: float64"
      ]
     },
     "execution_count": 26,
     "metadata": {},
     "output_type": "execute_result"
    }
   ],
   "source": [
    "df_flash_mc['flash_time'].describe()"
   ]
  },
  {
   "cell_type": "code",
   "execution_count": 28,
   "metadata": {},
   "outputs": [
    {
     "name": "stdout",
     "output_type": "stream",
     "text": [
      "0.9816303857990105\n"
     ]
    }
   ],
   "source": [
    "# Assume a light yield of 0.8 in data, how would this look in MC?\n",
    "print(sum(df_flash_mc['flash_totalPE']>42.5)/len(df_flash_mc))\n",
    "#print(np.mean(num_flash_mc))"
   ]
  },
  {
   "cell_type": "code",
   "execution_count": 29,
   "metadata": {},
   "outputs": [
    {
     "data": {
      "image/png": "[encoded data removed]",
      "text/plain": [
       "<Figure size 792x288 with 3 Axes>"
      ]
     },
     "metadata": {
      "needs_background": "light"
     },
     "output_type": "display_data"
    }
   ],
   "source": [
    "#mc_bounds = [25,2350,-900,-2450]\n",
    "mc_bounds = [25,2350,-0,-2450]\n",
    "time_query_mc= '((flash_time>@mc_bounds[0]) & (flash_time<@mc_bounds[1])) | \\\n",
    "                ((flash_time<@mc_bounds[2]) & (flash_time>@mc_bounds[3]))' \n",
    "time_mc = (4800-25)*1e-6\n",
    "\n",
    "data_bounds = [25,3200,-0,-1600]\n",
    "time_query_data= '((flash_time>@data_bounds[0]) & (flash_time<@data_bounds[1])) | \\\n",
    "                  ((flash_time<@data_bounds[2]) & (flash_time>@data_bounds[3]))'\n",
    "time_data = (4800-25)*1e-6\n",
    "\n",
    "df_flash_mc_time = df_flash_mc.query(time_query_mc)\n",
    "df_flash_data_time = df_flash_data.query(time_query_data)\n",
    "\n",
    "mc_rate = len(df_flash_mc_time)/(len(df_event_mc)*time_mc)/1000\n",
    "data_rate = len(df_flash_data_time)/(len(df_event_data)*time_data)/1000\n",
    "\n",
    "\n",
    "num_flash_mc = df_flash_mc_time.groupby(['run', 'subrun', 'event', 'num_mcp']).size()\n",
    "num_flash_data = df_flash_data_time.groupby(['run', 'subrun', 'event']).size()\n",
    "\n",
    "fig, ax = plt.subplots(1, 3, figsize=(11, 4))\n",
    "mc_scale = len(df_event_data)/len(df_event_mc) \n",
    "\n",
    "\n",
    "N=60\n",
    "#Num flashes\n",
    "edges=np.linspace(0,60,N+1)\n",
    "bins_mc,_,_ = ax[0].hist(num_flash_mc, bins=edges, histtype='step', lw=2,\n",
    "                         label='CORSIKA open ({0:.1f} kHz)'.format(mc_rate), color='C0', \n",
    "                         weights=[mc_scale]*len(num_flash_mc))\n",
    "\n",
    "temp = np.append(bins_mc, bins_mc[-1]) # padding with the same value in the end\n",
    "temp_err = np.sqrt(temp*mc_scale)\n",
    "ax[0].fill_between(edges, temp - temp_err, temp + temp_err, alpha=0.3, step='post', color='C0')\n",
    "        \n",
    "bins_data,_,_ = ax[0].hist(num_flash_data, bins=edges, histtype='step', lw=2,\n",
    "                           label='BNB Off Unbiased ({0:.1f} kHz)'.format(data_rate), color='C1')\n",
    "temp = np.append(bins_data, bins_data[-1])\n",
    "ax[0].fill_between(edges, temp - np.sqrt(temp), temp + np.sqrt(temp), alpha=0.3, step='post', color='C1')\n",
    "ax[0].legend(bbox_to_anchor=(0., 1.0, 1, 0.2), title='Number of Flashes', loc='lower center', mode='expand')\n",
    "ax[0].set_ylabel('Events per bin')\n",
    "ax[0].set_xlabel('Flashes in event')\n",
    "\n",
    "#Time flashes\n",
    "N=60\n",
    "edges=np.linspace(-2,3.5,N+1)\n",
    "bins_mc,_,_ = ax[1].hist(df_flash_mc_time['flash_time']/1000, bins=edges, histtype='step', lw=2,\n",
    "                         label='CORSIKA open ({0:.1f} kHz)'.format(mc_rate), color='C0', weights=[mc_scale]*len(df_flash_mc_time))\n",
    "\n",
    "temp = np.append(bins_mc, bins_mc[-1]) # padding with the same value in the end\n",
    "temp_err = np.sqrt(temp*mc_scale)\n",
    "ax[1].fill_between(edges, temp - temp_err, temp + temp_err, alpha=0.3, step='post', color='C0')\n",
    "        \n",
    "bins_data,_,_ = ax[1].hist(df_flash_data_time['flash_time']/1000, bins=edges, histtype='step', lw=2,\n",
    "                         label='BNB Off Unbiased ({0:.1f} kHz)'.format(data_rate), color='C1')\n",
    "temp = np.append(bins_data, bins_data[-1])\n",
    "ax[1].fill_between(edges, temp - np.sqrt(temp), temp + np.sqrt(temp), alpha=0.3, step='post', color='C1')\n",
    "ax[1].legend(bbox_to_anchor=(0., 1.0, 1, 0.2), title='Time of Flashes', loc='lower center', mode='expand')\n",
    "ax[1].set_ylabel('Flashes per bin')\n",
    "ax[1].set_xlabel(r'Flash time [ms]')\n",
    "\n",
    "#PE flashes\n",
    "edges=np.logspace(np.log10(30),np.log10(10000),N+1)\n",
    "bins_mc,_,_ = ax[2].hist(df_flash_mc_time['flash_totalPE'], bins=edges, histtype='step', lw=2,\n",
    "                         label='CORSIKA open ({0:.1f} kHz)'.format(mc_rate), color='C0', weights=[mc_scale*time_data/time_mc]*len(df_flash_mc_time))\n",
    "\n",
    "temp = np.append(bins_mc, bins_mc[-1]) # padding with the same value in the end\n",
    "temp_err = np.sqrt(temp*mc_scale)\n",
    "ax[2].fill_between(edges, temp - temp_err, temp + temp_err, alpha=0.3, step='post', color='C0')\n",
    "        \n",
    "bins_data,_,_ = ax[2].hist(df_flash_data_time['flash_totalPE'], bins=edges, histtype='step', lw=2,\n",
    "                         label='BNB Off Unbiased ({0:.1f} kHz)'.format(data_rate), color='C1')\n",
    "temp = np.append(bins_data, bins_data[-1])\n",
    "ax[2].fill_between(edges, temp - np.sqrt(temp), temp + np.sqrt(temp), alpha=0.3, step='post', color='C1')\n",
    "ax[2].legend(bbox_to_anchor=(0., 1.0, 1, 0.2), title='Total PE of Flashes', loc='lower center', mode='expand')\n",
    "ax[2].set_ylabel('Flashes per bin')\n",
    "ax[2].set_xlabel(r'Flash Intensity [PE]')\n",
    "ax[2].set_xscale(\"log\", nonposx='clip')\n",
    "\n",
    "fig.tight_layout()\n",
    "plt.savefig(\"./Output/SimpleCosmicFlash/flash_aftertime.pdf\", bbox_inches=\"tight\")"
   ]
  },
  {
   "cell_type": "code",
   "execution_count": 30,
   "metadata": {},
   "outputs": [
    {
     "name": "stdout",
     "output_type": "stream",
     "text": [
      "79998\n",
      "80000\n",
      "382.0\n",
      "234.170775\n"
     ]
    }
   ],
   "source": [
    "# Event run and subrun are not unique in MC:\n",
    "print(len(df_flash_mc_time.groupby(['run', 'subrun', 'event', 'num_mcp'])))\n",
    "print(len(df_event_mc))\n",
    "\n",
    "print(len(df_event_mc)*time_mc)\n",
    "\n",
    "print(len(df_event_data)*time_data)\n"
   ]
  },
  {
   "cell_type": "code",
   "execution_count": 31,
   "metadata": {},
   "outputs": [
    {
     "name": "stdout",
     "output_type": "stream",
     "text": [
      "3.772767972433793 0.0031426670120742292\n"
     ]
    }
   ],
   "source": [
    "print(data_rate, 1/np.sqrt(data_rate*1000*382)*data_rate)"
   ]
  },
  {
   "cell_type": "code",
   "execution_count": 32,
   "metadata": {},
   "outputs": [
    {
     "data": {
      "image/png": "[encoded data removed]",
      "text/plain": [
       "<Figure size 734.4x288 with 2 Axes>"
      ]
     },
     "metadata": {
      "needs_background": "light"
     },
     "output_type": "display_data"
    }
   ],
   "source": [
    "fig, ax = plt.subplots(1, 2, figsize=(10.2, 4))\n",
    "mc_scale = len(df_event_data)/len(df_event_mc) \n",
    "\n",
    "\n",
    "N=60\n",
    "\n",
    "#Time flashes\n",
    "edges=np.linspace(0,1036.8,N+1)\n",
    "bins_mc,_,_ = ax[0].hist(df_flash_mc_time['flash_z'], bins=edges, histtype='step', lw=2,\n",
    "                         label='CORSIKA open ({0:.1f} kHz)'.format(mc_rate), color='C0', weights=[mc_scale*time_data/time_mc]*len(df_flash_mc_time))\n",
    "\n",
    "temp = np.append(bins_mc, bins_mc[-1]) # padding with the same value in the end\n",
    "temp_err = np.sqrt(temp*mc_scale)\n",
    "ax[0].fill_between(edges, temp - temp_err, temp + temp_err, alpha=0.3, step='post', color='C0')\n",
    "        \n",
    "bins_data,_,_ = ax[0].hist(df_flash_data_time['flash_z'], bins=edges, histtype='step', lw=2,\n",
    "                         label='BNB Off Unbiased ({0:.1f} kHz)'.format(data_rate), color='C1')\n",
    "temp = np.append(bins_data, bins_data[-1])\n",
    "ax[0].fill_between(edges, temp - np.sqrt(temp), temp + np.sqrt(temp), alpha=0.3, step='post', color='C1')\n",
    "ax[0].legend(bbox_to_anchor=(0., 1.0, 1, 0.2), title=r'$z$ center of the flash', loc='lower center', mode='expand')\n",
    "ax[0].set_ylabel('Flashes per bin')\n",
    "ax[0].set_xlabel(r'Flash $z$ [cm]')\n",
    "\n",
    "#PE flashes\n",
    "edges=np.linspace(-70,70,N+1)\n",
    "bins_mc,_,_ = ax[1].hist(df_flash_mc_time['flash_y'], bins=edges, histtype='step', lw=2,\n",
    "                         label='CORSIKA open ({0:.1f} kHz)'.format(mc_rate), color='C0', weights=[mc_scale*time_data/time_mc]*len(df_flash_mc_time))\n",
    "\n",
    "temp = np.append(bins_mc, bins_mc[-1]) # padding with the same value in the end\n",
    "temp_err = np.sqrt(temp*mc_scale)\n",
    "ax[1].fill_between(edges, temp - temp_err, temp + temp_err, alpha=0.3, step='post', color='C0')\n",
    "        \n",
    "bins_data,_,_ = ax[1].hist(df_flash_data_time['flash_y'], bins=edges, histtype='step', lw=2,\n",
    "                         label='BNB Off Unbiased ({0:.1f} kHz)'.format(data_rate), color='C1')\n",
    "temp = np.append(bins_data, bins_data[-1])\n",
    "ax[1].fill_between(edges, temp - np.sqrt(temp), temp + np.sqrt(temp), alpha=0.3, step='post', color='C1')\n",
    "ax[1].legend(bbox_to_anchor=(0., 1.0, 1, 0.2), title=r'$y$ center of the flash', loc='lower center', mode='expand')\n",
    "ax[1].set_ylabel('Flashes per bin')\n",
    "ax[1].set_xlabel(r'Flash $y$ [cm]')\n",
    "\n",
    "fig.tight_layout()\n",
    "plt.savefig(\"./Output/SimpleCosmicFlash/flash_aftertime_yz.pdf\", bbox_inches=\"tight\")"
   ]
  },
  {
   "cell_type": "code",
   "execution_count": 33,
   "metadata": {},
   "outputs": [
    {
     "name": "stderr",
     "output_type": "stream",
     "text": [
      "/home/wouter/Binaries/miniconda3/envs/uprootenv/lib/python3.5/site-packages/ipykernel_launcher.py:27: RuntimeWarning: invalid value encountered in true_divide\n",
      "/home/wouter/Binaries/miniconda3/envs/uprootenv/lib/python3.5/site-packages/ipykernel_launcher.py:28: RuntimeWarning: divide by zero encountered in true_divide\n"
     ]
    },
    {
     "data": {
      "image/png": "[encoded data removed]",
      "text/plain": [
       "<Figure size 504x288 with 2 Axes>"
      ]
     },
     "metadata": {
      "needs_background": "light"
     },
     "output_type": "display_data"
    }
   ],
   "source": [
    "clean = False\n",
    "\n",
    "t_data_r1 = 773.26\n",
    "r_data_r1 = 4.373\n",
    "\n",
    "scale = [mc_scale*time_data/time_mc, 1]\n",
    "scale = [773.26/382, 773.26/234.170775*4.373/data_rate]\n",
    "\n",
    "x_min = 0\n",
    "x_max = 1036.8\n",
    "N = 60\n",
    "\n",
    "fig, ax = plt.subplots(nrows = 2, sharex=True, figsize=(7,4), gridspec_kw = {'height_ratios':[3, 1]})\n",
    "data = [df_flash_mc_time['flash_z'], df_flash_data_time['flash_z']]\n",
    "edges, edges_mid, bins, err, max_y = histHelper(N, x_min, x_max, data)\n",
    "labs=['CORSIKA', 'Cosmic Data']\n",
    "for bins_i, err_i, lab_i, scale_i in zip(bins,err,labs,scale):\n",
    "    ax[0].step(edges_mid,bins_i*scale_i,lw=2, label=lab_i, where='mid', alpha=0.8)\n",
    "    ax[0].fill_between(edges_mid, (bins_i - err_i)*scale_i, (bins_i + err_i)*scale_i, alpha=0.3, step='mid')\n",
    "\n",
    "#ax[0].set_ylim(0,max_y*1.4*mc_scale)\n",
    "ax[0].set_ylim(0,250000)\n",
    "ax[0].set_ylabel(\"Flashes per bin\")\n",
    "ax[0].set_xlim(x_min,x_max)\n",
    "ax[0].legend(loc='upper center')\n",
    "\n",
    "ratio = (bins[1]*scale[1])/(bins[0]*scale[0])\n",
    "ratio_err = 1/np.sqrt(bins[1]) #only do the error on data, mc error is super tiny\n",
    "ax[1].errorbar(edges_mid, ratio, xerr= edges[1:]-edges_mid, yerr=ratio_err, fmt='none', color='k')\n",
    "ax[1].axhline(y=1,color=\"k\",alpha=0.25)\n",
    "ax[1].axhline(y=0.8,color=\"r\",alpha=0.25)\n",
    "ax[1].set_xlabel(r'Flash $z$ [cm]')\n",
    "ax[1].set_ylabel(\"Data/MC\")\n",
    "ax[1].set_ylim(0.5,1.1)\n",
    "fig.tight_layout()\n",
    "fig.savefig(outdir+\"_flash_center_run_31_datamc.pdf\")"
   ]
  },
  {
   "cell_type": "code",
   "execution_count": 34,
   "metadata": {},
   "outputs": [
    {
     "name": "stdout",
     "output_type": "stream",
     "text": [
      "[103.68 120.96 138.24 155.52 172.8  190.08 207.36 224.64 241.92 259.2\n",
      " 276.48 293.76 311.04 328.32 345.6  362.88 380.16 397.44 414.72 432.\n",
      " 449.28 466.56 483.84 501.12 518.4  535.68 552.96 570.24 587.52 604.8\n",
      " 622.08 639.36 656.64 673.92 691.2  708.48 725.76 743.04 760.32 777.6\n",
      " 794.88 812.16 829.44 846.72 864.   881.28 898.56 915.84 933.12]\n",
      "[117875.59246073  95552.26450262  73945.51780105  65115.77926702\n",
      "  57915.55460733  54105.93335079  50875.24497382  54992.5508377\n",
      "  61595.62445026  64589.47664921  77052.72748691  83269.17109948\n",
      "  83726.6495288   73030.56094241  64939.67031414  62996.39910995\n",
      "  55375.13235602  51476.44450262  51543.24445026  55126.15073298\n",
      "  62263.6239267   63919.45293194  73605.44534031  84981.67884817\n",
      "  85109.20602094  78394.7991623   65696.73638743  63196.79895288\n",
      "  55684.84120419  51974.40774869  51778.05638743  54753.69041885\n",
      "  61164.46115183  63970.05895288  70623.73858639  82299.55973822\n",
      "  82813.71691099  78931.22298429  65870.82109948  62634.06\n",
      "  57421.63984293  54421.71492147  56745.54340314  63563.1865445\n",
      "  71735.04680628  78445.40518325  97819.41424084 117541.59272251]\n",
      "0.8143865969146621\n"
     ]
    }
   ],
   "source": [
    "print(edges[6:-6])\n",
    "print(bins[0][6:-6]*scale[0])\n",
    "print((sum(bins[1][6:-6])*scale[1])/(sum(bins[0][6:-6])*scale[0]))"
   ]
  },
  {
   "cell_type": "code",
   "execution_count": 35,
   "metadata": {},
   "outputs": [
    {
     "name": "stdout",
     "output_type": "stream",
     "text": [
      "5681.814922836645\n",
      "3892.087484608937\n",
      "0.2018655403027103\n"
     ]
    }
   ],
   "source": [
    "# Correct for 8us dead time after each flash!\n",
    "from scipy.optimize import fsolve\n",
    "func = lambda x : R - x*np.exp(-8e-6*x)\n",
    "a_initial_guess = 5000\n",
    "\n",
    "R= mc_rate*1000\n",
    "print(fsolve(func, a_initial_guess)[0])\n",
    "R= data_rate*1000\n",
    "print(fsolve(func, a_initial_guess)[0])\n",
    "\n",
    "print(1-4535/5682)"
   ]
  },
  {
   "cell_type": "markdown",
   "metadata": {},
   "source": [
    "## Below this: muon flash matching! Only MC"
   ]
  },
  {
   "cell_type": "code",
   "execution_count": 36,
   "metadata": {},
   "outputs": [],
   "source": [
    "# A flash is matched to a particle if it is in this interval\n",
    "fl_diff_start = 0.05 \n",
    "fl_diff_end = 0.3\n",
    "max_events = 10000\n",
    "\n",
    "df_mc_primary = df_mc_primary[df_mc_primary['mc_time'].between(-2450000,2350000)].reset_index(drop=True)\n",
    "df_mc_muon_cross = df_mc_muon_cross[df_mc_muon_cross['mc_time'].between(-2450000,2350000)].reset_index(drop=True)\n",
    "df_mc_muon_cross['mc_avgx_tpc'] = (df_mc_muon_cross['mc_startx_tpc']+df_mc_muon_cross['mc_endx_tpc'])/2\n",
    "\n",
    "# choose if we want to match with crossing muons or with all primaries\n",
    "mcp_df = df_mc_primary #df_mc_muon_cross\n",
    "\n",
    "# Make a run, subrun, event frame (df_events has a bug currently)\n",
    "df_event=df_flash_mc[['event','run','subrun','num_mcp']].drop_duplicates().reset_index(drop=True)"
   ]
  },
  {
   "cell_type": "code",
   "execution_count": 37,
   "metadata": {},
   "outputs": [
    {
     "name": "stdout",
     "output_type": "stream",
     "text": [
      "index 4 mc_times 36 simple_times 28\n"
     ]
    },
    {
     "ename": "KeyboardInterrupt",
     "evalue": "",
     "output_type": "error",
     "traceback": [
      "\u001b[0;31m---------------------------------------------------------------------------\u001b[0m",
      "\u001b[0;31mKeyboardInterrupt\u001b[0m                         Traceback (most recent call last)",
      "\u001b[0;32m<ipython-input-37-358bcf96279c>\u001b[0m in \u001b[0;36m<module>\u001b[0;34m()\u001b[0m\n\u001b[1;32m     41\u001b[0m         \u001b[0mtemp_bool\u001b[0m \u001b[0;34m=\u001b[0m \u001b[0;32mFalse\u001b[0m\u001b[0;34m\u001b[0m\u001b[0m\n\u001b[1;32m     42\u001b[0m         \u001b[0;32mif\u001b[0m \u001b[0;32mnot\u001b[0m \u001b[0mtemp_bool\u001b[0m\u001b[0;34m:\u001b[0m\u001b[0;34m\u001b[0m\u001b[0m\n\u001b[0;32m---> 43\u001b[0;31m             \u001b[0mtemp\u001b[0m \u001b[0;34m=\u001b[0m \u001b[0msimple_times\u001b[0m\u001b[0;34m-\u001b[0m\u001b[0mmc_time\u001b[0m\u001b[0;34m\u001b[0m\u001b[0m\n\u001b[0m\u001b[1;32m     44\u001b[0m             \u001b[0;32mif\u001b[0m\u001b[0;34m(\u001b[0m\u001b[0mlen\u001b[0m\u001b[0;34m(\u001b[0m\u001b[0mtemp\u001b[0m\u001b[0;34m[\u001b[0m\u001b[0mtemp\u001b[0m\u001b[0;34m>\u001b[0m\u001b[0;36m0\u001b[0m\u001b[0;34m]\u001b[0m\u001b[0;34m)\u001b[0m\u001b[0;34m>\u001b[0m\u001b[0;36m0\u001b[0m\u001b[0;34m)\u001b[0m\u001b[0;34m:\u001b[0m  \u001b[0;31m# if (temp>0).any()\u001b[0m\u001b[0;34m\u001b[0m\u001b[0m\n\u001b[1;32m     45\u001b[0m                 \u001b[0mtemp_diff\u001b[0m \u001b[0;34m=\u001b[0m \u001b[0mmin\u001b[0m\u001b[0;34m(\u001b[0m\u001b[0mtemp\u001b[0m\u001b[0;34m[\u001b[0m\u001b[0mtemp\u001b[0m\u001b[0;34m>\u001b[0m\u001b[0;36m0\u001b[0m\u001b[0;34m]\u001b[0m\u001b[0;34m)\u001b[0m\u001b[0;34m\u001b[0m\u001b[0m\n",
      "\u001b[0;32m~/Binaries/miniconda3/envs/uprootenv/lib/python3.5/site-packages/pandas/core/ops.py\u001b[0m in \u001b[0;36mwrapper\u001b[0;34m(left, right)\u001b[0m\n\u001b[1;32m   1067\u001b[0m             \u001b[0mrvalues\u001b[0m \u001b[0;34m=\u001b[0m \u001b[0mrvalues\u001b[0m\u001b[0;34m.\u001b[0m\u001b[0mvalues\u001b[0m\u001b[0;34m\u001b[0m\u001b[0m\n\u001b[1;32m   1068\u001b[0m \u001b[0;34m\u001b[0m\u001b[0m\n\u001b[0;32m-> 1069\u001b[0;31m         \u001b[0mresult\u001b[0m \u001b[0;34m=\u001b[0m \u001b[0msafe_na_op\u001b[0m\u001b[0;34m(\u001b[0m\u001b[0mlvalues\u001b[0m\u001b[0;34m,\u001b[0m \u001b[0mrvalues\u001b[0m\u001b[0;34m)\u001b[0m\u001b[0;34m\u001b[0m\u001b[0m\n\u001b[0m\u001b[1;32m   1070\u001b[0m         return construct_result(left, result,\n\u001b[1;32m   1071\u001b[0m                                 index=left.index, name=res_name, dtype=None)\n",
      "\u001b[0;32m~/Binaries/miniconda3/envs/uprootenv/lib/python3.5/site-packages/pandas/core/ops.py\u001b[0m in \u001b[0;36msafe_na_op\u001b[0;34m(lvalues, rvalues)\u001b[0m\n\u001b[1;32m   1031\u001b[0m         \u001b[0;32mtry\u001b[0m\u001b[0;34m:\u001b[0m\u001b[0;34m\u001b[0m\u001b[0m\n\u001b[1;32m   1032\u001b[0m             \u001b[0;32mwith\u001b[0m \u001b[0mnp\u001b[0m\u001b[0;34m.\u001b[0m\u001b[0merrstate\u001b[0m\u001b[0;34m(\u001b[0m\u001b[0mall\u001b[0m\u001b[0;34m=\u001b[0m\u001b[0;34m'ignore'\u001b[0m\u001b[0;34m)\u001b[0m\u001b[0;34m:\u001b[0m\u001b[0;34m\u001b[0m\u001b[0m\n\u001b[0;32m-> 1033\u001b[0;31m                 \u001b[0;32mreturn\u001b[0m \u001b[0mna_op\u001b[0m\u001b[0;34m(\u001b[0m\u001b[0mlvalues\u001b[0m\u001b[0;34m,\u001b[0m \u001b[0mrvalues\u001b[0m\u001b[0;34m)\u001b[0m\u001b[0;34m\u001b[0m\u001b[0m\n\u001b[0m\u001b[1;32m   1034\u001b[0m         \u001b[0;32mexcept\u001b[0m \u001b[0mException\u001b[0m\u001b[0;34m:\u001b[0m\u001b[0;34m\u001b[0m\u001b[0m\n\u001b[1;32m   1035\u001b[0m             \u001b[0;32mif\u001b[0m \u001b[0mis_object_dtype\u001b[0m\u001b[0;34m(\u001b[0m\u001b[0mlvalues\u001b[0m\u001b[0;34m)\u001b[0m\u001b[0;34m:\u001b[0m\u001b[0;34m\u001b[0m\u001b[0m\n",
      "\u001b[0;32m~/Binaries/miniconda3/envs/uprootenv/lib/python3.5/site-packages/pandas/core/ops.py\u001b[0m in \u001b[0;36mna_op\u001b[0;34m(x, y)\u001b[0m\n\u001b[1;32m   1010\u001b[0m \u001b[0;34m\u001b[0m\u001b[0m\n\u001b[1;32m   1011\u001b[0m         \u001b[0;32mtry\u001b[0m\u001b[0;34m:\u001b[0m\u001b[0;34m\u001b[0m\u001b[0m\n\u001b[0;32m-> 1012\u001b[0;31m             \u001b[0mresult\u001b[0m \u001b[0;34m=\u001b[0m \u001b[0mexpressions\u001b[0m\u001b[0;34m.\u001b[0m\u001b[0mevaluate\u001b[0m\u001b[0;34m(\u001b[0m\u001b[0mop\u001b[0m\u001b[0;34m,\u001b[0m \u001b[0mstr_rep\u001b[0m\u001b[0;34m,\u001b[0m \u001b[0mx\u001b[0m\u001b[0;34m,\u001b[0m \u001b[0my\u001b[0m\u001b[0;34m,\u001b[0m \u001b[0;34m**\u001b[0m\u001b[0meval_kwargs\u001b[0m\u001b[0;34m)\u001b[0m\u001b[0;34m\u001b[0m\u001b[0m\n\u001b[0m\u001b[1;32m   1013\u001b[0m         \u001b[0;32mexcept\u001b[0m \u001b[0mTypeError\u001b[0m\u001b[0;34m:\u001b[0m\u001b[0;34m\u001b[0m\u001b[0m\n\u001b[1;32m   1014\u001b[0m             \u001b[0;32mif\u001b[0m \u001b[0misinstance\u001b[0m\u001b[0;34m(\u001b[0m\u001b[0my\u001b[0m\u001b[0;34m,\u001b[0m \u001b[0;34m(\u001b[0m\u001b[0mnp\u001b[0m\u001b[0;34m.\u001b[0m\u001b[0mndarray\u001b[0m\u001b[0;34m,\u001b[0m \u001b[0mABCSeries\u001b[0m\u001b[0;34m,\u001b[0m \u001b[0mpd\u001b[0m\u001b[0;34m.\u001b[0m\u001b[0mIndex\u001b[0m\u001b[0;34m)\u001b[0m\u001b[0;34m)\u001b[0m\u001b[0;34m:\u001b[0m\u001b[0;34m\u001b[0m\u001b[0m\n",
      "\u001b[0;32m~/Binaries/miniconda3/envs/uprootenv/lib/python3.5/site-packages/pandas/core/computation/expressions.py\u001b[0m in \u001b[0;36mevaluate\u001b[0;34m(op, op_str, a, b, use_numexpr, **eval_kwargs)\u001b[0m\n\u001b[1;32m    203\u001b[0m     \u001b[0muse_numexpr\u001b[0m \u001b[0;34m=\u001b[0m \u001b[0muse_numexpr\u001b[0m \u001b[0;32mand\u001b[0m \u001b[0m_bool_arith_check\u001b[0m\u001b[0;34m(\u001b[0m\u001b[0mop_str\u001b[0m\u001b[0;34m,\u001b[0m \u001b[0ma\u001b[0m\u001b[0;34m,\u001b[0m \u001b[0mb\u001b[0m\u001b[0;34m)\u001b[0m\u001b[0;34m\u001b[0m\u001b[0m\n\u001b[1;32m    204\u001b[0m     \u001b[0;32mif\u001b[0m \u001b[0muse_numexpr\u001b[0m\u001b[0;34m:\u001b[0m\u001b[0;34m\u001b[0m\u001b[0m\n\u001b[0;32m--> 205\u001b[0;31m         \u001b[0;32mreturn\u001b[0m \u001b[0m_evaluate\u001b[0m\u001b[0;34m(\u001b[0m\u001b[0mop\u001b[0m\u001b[0;34m,\u001b[0m \u001b[0mop_str\u001b[0m\u001b[0;34m,\u001b[0m \u001b[0ma\u001b[0m\u001b[0;34m,\u001b[0m \u001b[0mb\u001b[0m\u001b[0;34m,\u001b[0m \u001b[0;34m**\u001b[0m\u001b[0meval_kwargs\u001b[0m\u001b[0;34m)\u001b[0m\u001b[0;34m\u001b[0m\u001b[0m\n\u001b[0m\u001b[1;32m    206\u001b[0m     \u001b[0;32mreturn\u001b[0m \u001b[0m_evaluate_standard\u001b[0m\u001b[0;34m(\u001b[0m\u001b[0mop\u001b[0m\u001b[0;34m,\u001b[0m \u001b[0mop_str\u001b[0m\u001b[0;34m,\u001b[0m \u001b[0ma\u001b[0m\u001b[0;34m,\u001b[0m \u001b[0mb\u001b[0m\u001b[0;34m)\u001b[0m\u001b[0;34m\u001b[0m\u001b[0m\n\u001b[1;32m    207\u001b[0m \u001b[0;34m\u001b[0m\u001b[0m\n",
      "\u001b[0;32m~/Binaries/miniconda3/envs/uprootenv/lib/python3.5/site-packages/pandas/core/computation/expressions.py\u001b[0m in \u001b[0;36m_evaluate_standard\u001b[0;34m(op, op_str, a, b, **eval_kwargs)\u001b[0m\n\u001b[1;32m     63\u001b[0m         \u001b[0m_store_test_result\u001b[0m\u001b[0;34m(\u001b[0m\u001b[0;32mFalse\u001b[0m\u001b[0;34m)\u001b[0m\u001b[0;34m\u001b[0m\u001b[0m\n\u001b[1;32m     64\u001b[0m     \u001b[0;32mwith\u001b[0m \u001b[0mnp\u001b[0m\u001b[0;34m.\u001b[0m\u001b[0merrstate\u001b[0m\u001b[0;34m(\u001b[0m\u001b[0mall\u001b[0m\u001b[0;34m=\u001b[0m\u001b[0;34m'ignore'\u001b[0m\u001b[0;34m)\u001b[0m\u001b[0;34m:\u001b[0m\u001b[0;34m\u001b[0m\u001b[0m\n\u001b[0;32m---> 65\u001b[0;31m         \u001b[0;32mreturn\u001b[0m \u001b[0mop\u001b[0m\u001b[0;34m(\u001b[0m\u001b[0ma\u001b[0m\u001b[0;34m,\u001b[0m \u001b[0mb\u001b[0m\u001b[0;34m)\u001b[0m\u001b[0;34m\u001b[0m\u001b[0m\n\u001b[0m\u001b[1;32m     66\u001b[0m \u001b[0;34m\u001b[0m\u001b[0m\n\u001b[1;32m     67\u001b[0m \u001b[0;34m\u001b[0m\u001b[0m\n",
      "\u001b[0;32m~/Binaries/miniconda3/envs/uprootenv/lib/python3.5/site-packages/numpy/core/numeric.py\u001b[0m in \u001b[0;36m__exit__\u001b[0;34m(self, *exc_info)\u001b[0m\n\u001b[1;32m   2895\u001b[0m \u001b[0;34m\u001b[0m\u001b[0m\n\u001b[1;32m   2896\u001b[0m     \u001b[0;32mdef\u001b[0m \u001b[0m__exit__\u001b[0m\u001b[0;34m(\u001b[0m\u001b[0mself\u001b[0m\u001b[0;34m,\u001b[0m \u001b[0;34m*\u001b[0m\u001b[0mexc_info\u001b[0m\u001b[0;34m)\u001b[0m\u001b[0;34m:\u001b[0m\u001b[0;34m\u001b[0m\u001b[0m\n\u001b[0;32m-> 2897\u001b[0;31m         \u001b[0mseterr\u001b[0m\u001b[0;34m(\u001b[0m\u001b[0;34m**\u001b[0m\u001b[0mself\u001b[0m\u001b[0;34m.\u001b[0m\u001b[0moldstate\u001b[0m\u001b[0;34m)\u001b[0m\u001b[0;34m\u001b[0m\u001b[0m\n\u001b[0m\u001b[1;32m   2898\u001b[0m         \u001b[0;32mif\u001b[0m \u001b[0mself\u001b[0m\u001b[0;34m.\u001b[0m\u001b[0mcall\u001b[0m \u001b[0;32mis\u001b[0m \u001b[0;32mnot\u001b[0m \u001b[0m_Unspecified\u001b[0m\u001b[0;34m:\u001b[0m\u001b[0;34m\u001b[0m\u001b[0m\n\u001b[1;32m   2899\u001b[0m             \u001b[0mseterrcall\u001b[0m\u001b[0;34m(\u001b[0m\u001b[0mself\u001b[0m\u001b[0;34m.\u001b[0m\u001b[0moldcall\u001b[0m\u001b[0;34m)\u001b[0m\u001b[0;34m\u001b[0m\u001b[0m\n",
      "\u001b[0;32m~/Binaries/miniconda3/envs/uprootenv/lib/python3.5/site-packages/numpy/core/numeric.py\u001b[0m in \u001b[0;36mseterr\u001b[0;34m(all, divide, over, under, invalid)\u001b[0m\n\u001b[1;32m   2489\u001b[0m \u001b[0;34m\u001b[0m\u001b[0m\n\u001b[1;32m   2490\u001b[0m \u001b[0;34m\u001b[0m\u001b[0m\n\u001b[0;32m-> 2491\u001b[0;31m \u001b[0;32mdef\u001b[0m \u001b[0mseterr\u001b[0m\u001b[0;34m(\u001b[0m\u001b[0mall\u001b[0m\u001b[0;34m=\u001b[0m\u001b[0;32mNone\u001b[0m\u001b[0;34m,\u001b[0m \u001b[0mdivide\u001b[0m\u001b[0;34m=\u001b[0m\u001b[0;32mNone\u001b[0m\u001b[0;34m,\u001b[0m \u001b[0mover\u001b[0m\u001b[0;34m=\u001b[0m\u001b[0;32mNone\u001b[0m\u001b[0;34m,\u001b[0m \u001b[0munder\u001b[0m\u001b[0;34m=\u001b[0m\u001b[0;32mNone\u001b[0m\u001b[0;34m,\u001b[0m \u001b[0minvalid\u001b[0m\u001b[0;34m=\u001b[0m\u001b[0;32mNone\u001b[0m\u001b[0;34m)\u001b[0m\u001b[0;34m:\u001b[0m\u001b[0;34m\u001b[0m\u001b[0m\n\u001b[0m\u001b[1;32m   2492\u001b[0m     \"\"\"\n\u001b[1;32m   2493\u001b[0m     \u001b[0mSet\u001b[0m \u001b[0mhow\u001b[0m \u001b[0mfloating\u001b[0m\u001b[0;34m-\u001b[0m\u001b[0mpoint\u001b[0m \u001b[0merrors\u001b[0m \u001b[0mare\u001b[0m \u001b[0mhandled\u001b[0m\u001b[0;34m.\u001b[0m\u001b[0;34m\u001b[0m\u001b[0m\n",
      "\u001b[0;31mKeyboardInterrupt\u001b[0m: "
     ]
    }
   ],
   "source": [
    "simple_diff_times=[]\n",
    "\n",
    "n_muons=0\n",
    "n_simple=0\n",
    "\n",
    "index_mcp_good=[]\n",
    "index_mcp_all=[]\n",
    "index_simple_good=[]\n",
    "index_simple_all=[]\n",
    "\n",
    "time_dif_all = []\n",
    "time_dif_matched = []\n",
    "\n",
    "\n",
    "for index, row in df_event.head(max_events).iterrows():\n",
    "    event,run,subrun, num_mcp = row[['event','run','subrun', 'num_mcp']]\n",
    "    selection_string = 'event==@event & run==@run & subrun==@subrun & num_mcp==@num_mcp'\n",
    "    \n",
    "    t_prevmu = 99999\n",
    "    \n",
    "    df_temp = mcp_df.query(selection_string)\n",
    "    mc_indexes = df_temp.index.values\n",
    "    mc_times = df_temp['mc_time']/1000\n",
    "    \n",
    "    df_temp = df_flash_mc.query(selection_string)\n",
    "    simple_indexes = df_temp.index.values \n",
    "    simple_times = df_temp['flash_time']\n",
    "    \n",
    "    clear_output(wait=True)\n",
    "    print('index',index,'mc_times', len(mc_times), 'simple_times',len(simple_times))\n",
    "\n",
    "    n_muons+=len(mc_times)\n",
    "    n_simple+=len(simple_times)\n",
    "    \n",
    "    # Store the all indices:\n",
    "    index_simple_all.extend(simple_indexes)\n",
    "    index_mcp_all.extend(mc_indexes)\n",
    "    \n",
    "    # Do the matching based on time only\n",
    "    for mc_index, mc_time in zip(mc_indexes, mc_times):\n",
    "        temp_bool = False\n",
    "        if not temp_bool: \n",
    "            temp = simple_times-mc_time\n",
    "            if(len(temp[temp>0])>0):  # if (temp>0).any()\n",
    "                temp_diff = min(temp[temp>0])\n",
    "                simple_diff_times.append(temp_diff)\n",
    "                if fl_diff_start < temp_diff < fl_diff_end:             \n",
    "                    index = simple_indexes[np.where(temp == temp_diff)]    \n",
    "                    index_simple_good.extend(index)\n",
    "                    index_mcp_good.append(mc_index)\n",
    "                    time_dif_matched.append(mc_time-t_prevmu)\n",
    "                    temp_bool=True \n",
    "        \n",
    "        # Add time diff\n",
    "        time_dif_all.append(mc_time-t_prevmu)\n",
    "        t_prevmu = mc_time\n",
    "            \n",
    "index_mcp_bad = np.setdiff1d(index_mcp_all,index_mcp_good)\n",
    "index_simple_bad = np.setdiff1d(index_simple_all,index_simple_good)\n",
    "\n",
    "print('Number of muons we tried to match:',n_muons,', matched: '\n",
    "      ,len(index_mcp_good), ', failed: ', len(index_mcp_bad),', Efficiency: ',\n",
    "      (round(len(index_mcp_good)/n_muons*1000)/10),'%.')\n",
    "print('Number of simpleflashes we tried to match:',n_simple,', matched: '\n",
    "      ,len(index_simple_good), ', failed: ', len(index_simple_bad),', Efficiency: ',\n",
    "      (round(len(index_simple_good)/n_simple*1000))/10,'%.')\n"
   ]
  },
  {
   "cell_type": "code",
   "execution_count": null,
   "metadata": {},
   "outputs": [],
   "source": []
  },
  {
   "cell_type": "code",
   "execution_count": null,
   "metadata": {},
   "outputs": [],
   "source": [
    "if 0:\n",
    "    index_mcp_good_mu = index_mcp_good\n",
    "    index_mcp_all_mu = index_mcp_all\n",
    "    index_mcp_bad_mu = index_mcp_bad\n",
    "    \n",
    "    index_simple_good_mu = index_simple_good\n",
    "    index_simple_all_mu = index_simple_all\n",
    "    index_simple_bad_mu = index_simple_bad\n",
    "\n",
    "    time_dif_all_mu = time_dif_all\n",
    "    time_dif_matched_mu = time_dif_matched\n",
    "    \n",
    "    simple_diff_times_mu = simple_diff_times\n",
    "    \n",
    "    #Number of muons we tried to match: 261179 , matched:  212286 , failed:  48893 , Efficiency:  81.3 %.\n",
    "    #Number of simpleflashes we tried to match: 259482 , matched:  212286 , failed:  47436 , Efficiency:  81.8 %."
   ]
  },
  {
   "cell_type": "code",
   "execution_count": null,
   "metadata": {},
   "outputs": [],
   "source": [
    "# Only if we are matchign with all primaries\n",
    "# Which primary particles do create flashes \n",
    "print(mcp_df.iloc[index_mcp_good]['mc_pdg_code'].value_counts()/len(index_mcp_good)*0.977)\n",
    "# Which flashes are casued by tpc crossing particles\n",
    "print(mcp_df.iloc[index_mcp_good]['mc_part_inside'].value_counts()/len(index_mcp_good)*0.977)"
   ]
  },
  {
   "cell_type": "code",
   "execution_count": null,
   "metadata": {},
   "outputs": [],
   "source": [
    "# end process of neutrons creatign flashes is inelestic scattering\n",
    "mcp_df.iloc[index_mcp_good].query('mc_pdg_code==2112')['mc_end_process'].value_counts()"
   ]
  },
  {
   "cell_type": "code",
   "execution_count": null,
   "metadata": {},
   "outputs": [],
   "source": [
    "# make a plot of flash muon time difference and the flashmatch PE efficiency:\n",
    "\n",
    "fig, ax = plt.subplots(1, 2, figsize=(6, 3))\n",
    "N=70\n",
    "edges = np.linspace(0,0.35,N+1)\n",
    "edges_mid = [ edges[i]+(edges[i+1]-edges[i])/2 for i in range(N)]\n",
    "\n",
    "bins,_,_ = ax[0].hist(np.array(simple_diff_times), bins=edges)\n",
    "bins_mu,_,_ = ax[0].hist(np.array(simple_diff_times_mu), bins=edges)\n",
    "\n",
    "ax[0].set_xlabel(r'$t_{flash}$-$t_{mcmuon}$ [$\\mu$s]')\n",
    "ax[0].set_ylabel('Entries per bin')\n",
    "ax[0].set_title('Flash-muon matching')\n",
    "ax[0].axvspan(0,0.05, alpha=0.1, color=\"red\")\n",
    "ax[0].axvspan(0.05,0.35, alpha=0.05, color=\"green\")\n",
    "ax[0].axvspan(0.3,0.35, alpha=0.1, color=\"red\")\n",
    "ax[0].set_xlim(0,0.35)\n",
    "#ax[0].set_ylim(0,1000)\n",
    "\n",
    "N=19\n",
    "edges=np.logspace(np.log10(30),np.log10(10000),N+1)\n",
    "edges_mid = [ edges[i]+(edges[i+1]-edges[i])/2 for i in range(N)]\n",
    "\n",
    "# For all mcp\n",
    "denom,_ = np.histogram(df_flash_mc.iloc[index_simple_all]['flash_totalPE'], bins=edges)\n",
    "nom,_ = np.histogram(df_flash_mc.iloc[index_simple_good]['flash_totalPE'], bins=edges)\n",
    "fraq = nom/denom\n",
    "ratio = len(df_flash_mc.iloc[index_simple_good])/len(df_flash_mc.iloc[index_simple_all])\n",
    "err = np.sqrt( fraq*(1-fraq)/denom )\n",
    "ax[1].step(edges_mid, fraq, where='mid', label = r'All CORSIKA: {0:.1f}%'.format(ratio*100))\n",
    "ax[1].fill_between(edges_mid, fraq - err, fraq + err, alpha=0.3, step='mid', color='C0')\n",
    "\n",
    "# For crossing muons\n",
    "denom,_ = np.histogram(df_flash_mc.iloc[index_simple_all_mu]['flash_totalPE'], bins=edges)\n",
    "nom,_ = np.histogram(df_flash_mc.iloc[index_simple_good_mu]['flash_totalPE'], bins=edges)\n",
    "fraq = nom/denom\n",
    "ratio = len(df_flash_mc.iloc[index_simple_good_mu])/len(df_flash_mc.iloc[index_simple_all_mu])\n",
    "err = np.sqrt( fraq*(1-fraq)/denom )\n",
    "ax[1].step(edges_mid, fraq, where='mid', label = r'Crossing $\\mu^\\pm$: {0:.1f}%'.format(ratio*100))\n",
    "ax[1].fill_between(edges_mid, fraq - err, fraq + err, alpha=0.3, step='mid', color='C1')\n",
    "\n",
    "ax[1].set_ylim(0.,1.)\n",
    "ax[1].set_xlabel(r'Flash intensity [PE]')\n",
    "ax[1].set_ylabel('Fraction')\n",
    "ax[1].set_title('Matched flash fraction')\n",
    "ax[1].set_xscale(\"log\", nonposx='clip')\n",
    "ax[1].legend()\n",
    "\n",
    "fig.tight_layout()\n",
    "plt.savefig(\"./Output/SimpleCosmicFlash/flash_muon_matching.pdf\", bbox_inches=\"tight\")"
   ]
  },
  {
   "cell_type": "code",
   "execution_count": null,
   "metadata": {},
   "outputs": [],
   "source": []
  },
  {
   "cell_type": "code",
   "execution_count": null,
   "metadata": {
    "scrolled": true
   },
   "outputs": [],
   "source": [
    "# The flashes arer sorted using PE, so we need to recalculate the time diff.\n",
    "df_flash_mc_sorted = df_flash_mc.sort_values(by=['event','run','subrun','flash_time'])\n",
    "df_flash_mc_sorted['flash_difftime2'] = df_flash_mc_sorted['flash_time']-np.roll(df_flash_mc_sorted['flash_time'],1) \n",
    "\n",
    "fig, ax = plt.subplots(1, 2, figsize=(6, 3))\n",
    "labs = ['Matched flashes','Not matched']\n",
    "\n",
    "data = [df_flash_mc_sorted[df_flash_mc_sorted.index.isin(index_simple_good)]['flash_difftime2'],\n",
    "        df_flash_mc_sorted[df_flash_mc_sorted.index.isin(index_simple_bad)]['flash_difftime2']]\n",
    "ax[0].hist(data, histtype='step', density=1,bins=30,range=(0,750),lw=2, label=labs)\n",
    "data = [df_flash_mc_sorted[df_flash_mc_sorted.index.isin(index_simple_good)]['flash_totalPE'],\n",
    "        df_flash_mc_sorted[df_flash_mc_sorted.index.isin(index_simple_bad)]['flash_totalPE']]\n",
    "ax[1].hist(data, histtype='step', density=1,bins=30,range=(0,1000),lw=2)\n",
    "ax[0].legend()\n",
    "ax[0].set_xlabel(\"Time after previous flash [$\\mu$s]\")\n",
    "ax[1].set_xlabel(\"Flash intensity [PE]\")\n",
    "ax[0].set_ylabel(\"Area normalised\")\n",
    "\n",
    "fig.tight_layout()\n",
    "plt.savefig(\"./Output/SimpleCosmicFlash/flash_latelightcheck.pdf\", bbox_inches=\"tight\")"
   ]
  },
  {
   "cell_type": "code",
   "execution_count": null,
   "metadata": {},
   "outputs": [],
   "source": [
    "df_flash_mc.columns"
   ]
  },
  {
   "cell_type": "code",
   "execution_count": null,
   "metadata": {},
   "outputs": [],
   "source": [
    "#print(index_simple_good)\n",
    "data_fl = df_flash_mc.iloc[index_simple_good_mu]['flash_totalPE']\n",
    "data_mc_avgx = df_mc_muon_cross.iloc[index_mcp_good_mu]['mc_avgx_tpc']\n",
    "\n",
    "fig, ax = plt.subplots(1, 1, figsize=(4, 3))\n",
    "\n",
    "c = ax.hist2d(data_mc_avgx, data_fl, range=((0,250),(30,2500)), cmap='coolwarm', bins=(50,50))\n",
    "plt.colorbar(c[3], ax=ax)\n",
    "ax.set_xlabel('Muon average $x$ in TPC [cm]')\n",
    "ax.set_ylabel('Matched flash intensity [PE]')\n",
    "fig.tight_layout()\n",
    "plt.savefig(\"./Output/SimpleCosmicFlash/mux_flashPE.pdf\", bbox_inches=\"tight\")"
   ]
  },
  {
   "cell_type": "code",
   "execution_count": null,
   "metadata": {},
   "outputs": [],
   "source": [
    "df_mc_muon_cross['mc_avgy_tpc'] = (df_mc_muon_cross['mc_starty_tpc']+df_mc_muon_cross['mc_endy_tpc'])/2\n",
    "df_mc_muon_cross['mc_avgz_tpc'] = (df_mc_muon_cross['mc_startz_tpc']+df_mc_muon_cross['mc_endz_tpc'])/2\n",
    "\n",
    "df_mc_muon_cross['mc_mom_x_yz'] = df_mc_muon_cross['mc_startmomentumx'] / (df_mc_muon_cross['mc_startmomentumy']**2+df_mc_muon_cross['mc_startmomentumz']**2)**0.5\n",
    "df_mc_muon_cross['mc_mom_z_xy'] = df_mc_muon_cross['mc_startmomentumz'] / (df_mc_muon_cross['mc_startmomentumx']**2+df_mc_muon_cross['mc_startmomentumy']**2)**0.5\n",
    "df_mc_muon_cross['mc_mom_y_zx'] = df_mc_muon_cross['mc_startmomentumy'] / (df_mc_muon_cross['mc_startmomentumz']**2+df_mc_muon_cross['mc_startmomentumx']**2)**0.5"
   ]
  },
  {
   "cell_type": "code",
   "execution_count": null,
   "metadata": {},
   "outputs": [],
   "source": [
    "fig, ax = plt.subplots(2, 3, figsize=(10.5, 7))\n",
    "\n",
    "field = 'mc_avgx_tpc'\n",
    "data1 = [df_mc_muon_cross.iloc[index_mcp_good_mu][field], df_mc_muon_cross.iloc[index_mcp_bad_mu][field], df_mc_muon_cross.iloc[index_mcp_all_mu][field]]\n",
    "\n",
    "field = 'mc_avgy_tpc'\n",
    "data2 = [df_mc_muon_cross.iloc[index_mcp_good_mu][field], df_mc_muon_cross.iloc[index_mcp_bad_mu][field], df_mc_muon_cross.iloc[index_mcp_all_mu][field]]\n",
    "field = 'mc_avgz_tpc'\n",
    "data3 = [df_mc_muon_cross.iloc[index_mcp_good_mu][field], df_mc_muon_cross.iloc[index_mcp_bad_mu][field], df_mc_muon_cross.iloc[index_mcp_all_mu][field]]\n",
    "\n",
    "field = 'mc_mom_x_yz'\n",
    "data4 = [df_mc_muon_cross.iloc[index_mcp_good_mu][field], df_mc_muon_cross.iloc[index_mcp_bad_mu][field], df_mc_muon_cross.iloc[index_mcp_all_mu][field]]\n",
    "field = 'mc_mom_z_xy'\n",
    "data5 = [df_mc_muon_cross.iloc[index_mcp_good_mu][field], df_mc_muon_cross.iloc[index_mcp_bad_mu][field], df_mc_muon_cross.iloc[index_mcp_all_mu][field]]\n",
    "field = 'mc_mom_y_zx'\n",
    "data6 = [df_mc_muon_cross.iloc[index_mcp_good_mu][field], df_mc_muon_cross.iloc[index_mcp_bad_mu][field], df_mc_muon_cross.iloc[index_mcp_all_mu][field]]\n",
    "\n",
    "labs = ['Muons with flash', 'Muons without flash', 'All muons']\n",
    "\n",
    "ax[0][0].hist(data1,label=labs,histtype='step',lw=2,bins=50,range=(0,256))\n",
    "ax[0][0].set_ylim(0,1.4*ax[0][0].get_ylim()[1])\n",
    "ax[0][1].hist(data2,label=labs,histtype='step',lw=2,bins=50,range=(-125,125))\n",
    "ax[0][2].hist(data3,label=labs,histtype='step',lw=2,bins=50,range=(0,1040))\n",
    "\n",
    "ax[1][0].hist(data4,label=labs,histtype='step',lw=2,bins=50,density=0,range=(-3,3))\n",
    "ax[1][1].hist(data5,label=labs,histtype='step',lw=2,bins=50,density=0,range=(-3,3))\n",
    "ax[1][2].hist(data6,label=labs,histtype='step',lw=2,bins=50,density=0,range=(-8,2))\n",
    "\n",
    "ax[0][0].set_xlabel(r'Average $x$ in TPC [cm]')\n",
    "ax[0][1].set_xlabel(r'Average $y$ in TPC [cm]')\n",
    "ax[0][2].set_xlabel(r'Average $z$ in TPC [cm]')\n",
    "ax[0][1].set_yscale('log')\n",
    "\n",
    "ax[1][0].set_xlabel(r'$p_x \\:/ \\sqrt{p_y^2+p_z^2}$')\n",
    "ax[1][1].set_xlabel(r'$p_y \\:/ \\sqrt{p_x^2+p_z^2}$')\n",
    "ax[1][2].set_xlabel(r'$p_z \\:/ \\sqrt{p_x^2+p_y^2}$')\n",
    "\n",
    "ax[0][0].set_ylabel('Entries per bin')\n",
    "ax[1][0].set_ylabel('Entries per bin')\n",
    "ax[0][0].legend(loc='upper left')\n",
    "\n",
    "fig.tight_layout()\n",
    "plt.savefig(\"./Output/SimpleCosmicFlash/mc_muons2.pdf\", bbox_inches=\"tight\")"
   ]
  },
  {
   "cell_type": "code",
   "execution_count": null,
   "metadata": {
    "scrolled": false
   },
   "outputs": [],
   "source": [
    "fig, ax = plt.subplots(1, 2, figsize=(7.6, 3.5))\n",
    "\n",
    "field = 'mc_length_tpc'\n",
    "data1 = [df_mc_muon_cross.iloc[index_mcp_good_mu][field], df_mc_muon_cross.iloc[index_mcp_bad_mu][field], df_mc_muon_cross.iloc[index_mcp_all_mu][field]]\n",
    "field = 'Kinetic Energy'\n",
    "data2 = [df_mc_muon_cross.iloc[index_mcp_good_mu][field], df_mc_muon_cross.iloc[index_mcp_bad_mu][field], df_mc_muon_cross.iloc[index_mcp_all_mu][field]]\n",
    "\n",
    "ax[0].hist(data1,label=labs,histtype='step',lw=2,bins=50,density=0,range=(0,400))\n",
    "ax[1].hist(data2,label=labs,histtype='step',lw=2,bins=50,density=0,range=(0,10))\n",
    "ax[1].set_ylim(0,1.4*ax[1].get_ylim()[1])\n",
    "ax[0].set_xlim(0,400)\n",
    "ax[1].set_xlim(0,10)\n",
    "\n",
    "ax[0].set_xlabel('Length inside the TPC [cm]')\n",
    "ax[1].set_xlabel('Muon start kinetic energy [GeV]')\n",
    "\n",
    "ax[0].set_ylabel('Entries per bin')\n",
    "ax[1].legend(loc='upper right')\n",
    "\n",
    "fig.tight_layout()\n",
    "plt.savefig(\"./Output/SimpleCosmicFlash/mc_muons1.pdf\", bbox_inches=\"tight\")"
   ]
  },
  {
   "cell_type": "code",
   "execution_count": null,
   "metadata": {},
   "outputs": [],
   "source": [
    "# We match 94% of all muons if they are x<200 and z inside [50,990] and energy of 1GeV. Good!\n",
    "query_easy_muons = '(mc_avgx_tpc < 205) & (mc_avgz_tpc > 50) & (mc_avgz_tpc < 990)' #  \\\n",
    "                  #& (mc_energy>1) & (mc_length_tpc>50)' \n",
    "len(df_mc_muon_cross.iloc[index_mcp_good_mu].query(query_easy_muons))/len(df_mc_muon_cross.iloc[index_mcp_all_mu].query(query_easy_muons))"
   ]
  },
  {
   "cell_type": "code",
   "execution_count": null,
   "metadata": {},
   "outputs": [],
   "source": [
    "df_easy_muons = mcp_df.query(query_easy_muons)\n",
    "\n",
    "# The flashes arer sorted using PE, so we need to recalculate the time diff.\n",
    "df_muons_sorted = mcp_df.sort_values(by=['event','run','subrun','mc_time'])\n",
    "df_muons_sorted['mc_difftime'] = df_muons_sorted['mc_time']-np.roll(df_muons_sorted['mc_time'],1) \n",
    "df_easy_muons_sorted = df_muons_sorted.query(query_easy_muons)\n",
    "\n",
    "fig, ax = plt.subplots(1, 2, figsize=(7.5, 3.5))\n",
    "labs = ['Matched flashes','Not matched']\n",
    "\n",
    "data = [df_easy_muons_sorted[df_easy_muons_sorted.index.isin(index_mcp_good)]['mc_difftime']/1000,\n",
    "        df_easy_muons_sorted[df_easy_muons_sorted.index.isin(index_mcp_bad)]['mc_difftime']/1000]\n",
    "ax[0].hist(data, histtype='step', density=1,bins=30,range=(0,20),lw=2, label=labs)\n",
    "data = [df_easy_muons_sorted[df_easy_muons_sorted.index.isin(index_mcp_good_simple)]['mc_length_tpc'],\n",
    "        df_easy_muons_sorted[df_easy_muons_sorted.index.isin(index_mcp_bad)]['mc_length_tpc']]\n",
    "ax[1].hist(data, histtype='step', density=1,bins=30,range=(0,400),lw=2)\n",
    "ax[0].legend()\n",
    "ax[0].set_xlabel(\"Time after previous muon [$\\mu$s]\")\n",
    "ax[1].set_xlabel(\"Flash intensity [PE]\")\n",
    "ax[0].set_ylabel(\"Area normalised\")\n",
    "\n",
    "fig.tight_layout()\n",
    "plt.savefig(\"./Output/SimpleCosmicFlash/sequentialmuoncheck.pdf\", bbox_inches=\"tight\")\n"
   ]
  },
  {
   "cell_type": "code",
   "execution_count": null,
   "metadata": {},
   "outputs": [],
   "source": [
    "# Find the easy muons that did not trigger a flash because of another flash:\n",
    "diff_time = []\n",
    "\n",
    "muon_df = mcp_df.iloc[index_mcp_bad].query(query_easy_muons)\n",
    "print(len(muon_df))\n",
    "for index, row in muon_df.iterrows():\n",
    "    event,run,subrun, num_mcp = row[['event','run','subrun', 'num_mcp']]\n",
    "    selection_string = 'event==@event & run==@run & subrun==@subrun & num_mcp==@num_mcp'\n",
    "    flash_times = df_flash_mc.query(selection_string)['flash_time'].values\n",
    "    mc_time = row['mc_time']/1000\n",
    "    temp = flash_times-mc_time\n",
    "    if(len(temp[temp<0.05])>0):\n",
    "        temp_diff = max(temp[temp<0.05])\n",
    "        diff_time.append(temp_diff)\n",
    "        \n",
    "print(sum(np.array(diff_time)>-8))"
   ]
  },
  {
   "cell_type": "code",
   "execution_count": null,
   "metadata": {},
   "outputs": [],
   "source": [
    "plt.hist(abs(np.array(diff_time)), bins=20, range=(0,160))"
   ]
  },
  {
   "cell_type": "code",
   "execution_count": null,
   "metadata": {},
   "outputs": [],
   "source": []
  }
 ],
 "metadata": {
  "anaconda-cloud": {},
  "kernelspec": {
   "display_name": "Uproot Env",
   "language": "python",
   "name": "uprootenv"
  },
  "language_info": {
   "codemirror_mode": {
    "name": "ipython",
    "version": 3
   },
   "file_extension": ".py",
   "mimetype": "text/x-python",
   "name": "python",
   "nbconvert_exporter": "python",
   "pygments_lexer": "ipython3",
   "version": "3.5.6"
  }
 },
 "nbformat": 4,
 "nbformat_minor": 2
}
