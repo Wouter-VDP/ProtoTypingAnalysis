{
 "cells": [
  {
   "cell_type": "markdown",
   "metadata": {},
   "source": [
    "# PMT based Cosmic Rate measurement\n",
    "This notebook does only use the event/flash trees"
   ]
  },
  {
   "cell_type": "markdown",
   "metadata": {},
   "source": [
    "## Imports"
   ]
  },
  {
   "cell_type": "code",
   "execution_count": 1,
   "metadata": {},
   "outputs": [],
   "source": [
    "import uproot\n",
    "import matplotlib.pyplot as plt\n",
    "import numpy as np\n",
    "import pandas as pd\n",
    "import helpfunction as helper"
   ]
  },
  {
   "cell_type": "code",
   "execution_count": 2,
   "metadata": {},
   "outputs": [],
   "source": [
    "%matplotlib inline"
   ]
  },
  {
   "cell_type": "markdown",
   "metadata": {},
   "source": [
    "## Constants"
   ]
  },
  {
   "cell_type": "code",
   "execution_count": 3,
   "metadata": {},
   "outputs": [],
   "source": [
    "main_tree_name = 'cosmicstudies'\n",
    "flash_name = 'SimpleCosmicFlashes'\n",
    "\n",
    "outdir = './Output/Paper/'\n",
    "\n",
    "# Input file lists\n",
    "file_name_mc = './input/corsika_p_ddsce_8k.root'\n",
    "file_name_data = './input/extunbiased_run1_temp.root'\n",
    "\n",
    "mc_lab = 'CORSIKA'\n",
    "data_lab = 'Cosmic data (Run 1)'\n",
    "\n",
    "ub_tag = \"MicroBooNE, In Progress\""
   ]
  },
  {
   "cell_type": "markdown",
   "metadata": {},
   "source": [
    "## Load the data"
   ]
  },
  {
   "cell_type": "code",
   "execution_count": 4,
   "metadata": {},
   "outputs": [],
   "source": [
    "file_mc = uproot.open(file_name_mc)[main_tree_name]\n",
    "file_data = uproot.open(file_name_data)[main_tree_name]"
   ]
  },
  {
   "cell_type": "code",
   "execution_count": 5,
   "metadata": {},
   "outputs": [],
   "source": [
    "data_n = file_data['Event'].numentries\n",
    "mc_n = file_mc['Event'].numentries\n",
    "mc_scale = data_n/mc_n"
   ]
  },
  {
   "cell_type": "code",
   "execution_count": 6,
   "metadata": {},
   "outputs": [],
   "source": [
    "df_flash_mc = file_mc[flash_name].pandas.df()\n",
    "df_flash_data = file_data[flash_name].pandas.df()"
   ]
  },
  {
   "cell_type": "code",
   "execution_count": 7,
   "metadata": {},
   "outputs": [
    {
     "data": {
      "text/html": [
       "<div>\n",
       "<style scoped>\n",
       "    .dataframe tbody tr th:only-of-type {\n",
       "        vertical-align: middle;\n",
       "    }\n",
       "\n",
       "    .dataframe tbody tr th {\n",
       "        vertical-align: top;\n",
       "    }\n",
       "\n",
       "    .dataframe thead th {\n",
       "        text-align: right;\n",
       "    }\n",
       "</style>\n",
       "<table border=\"1\" class=\"dataframe\">\n",
       "  <thead>\n",
       "    <tr style=\"text-align: right;\">\n",
       "      <th></th>\n",
       "      <th>event</th>\n",
       "      <th>run</th>\n",
       "      <th>subrun</th>\n",
       "      <th>num_mcp</th>\n",
       "      <th>dataset_prescale_factor</th>\n",
       "      <th>num_flashes</th>\n",
       "      <th>flash_time</th>\n",
       "      <th>flash_difftime</th>\n",
       "      <th>flash_totalPE</th>\n",
       "      <th>flash_z</th>\n",
       "      <th>flash_sz</th>\n",
       "      <th>flash_y</th>\n",
       "      <th>flash_sy</th>\n",
       "      <th>flash_width</th>\n",
       "      <th>flash_abstime</th>\n",
       "      <th>flash_num_PMT10percent</th>\n",
       "    </tr>\n",
       "  </thead>\n",
       "  <tbody>\n",
       "    <tr>\n",
       "      <th>0</th>\n",
       "      <td>2381</td>\n",
       "      <td>1</td>\n",
       "      <td>120</td>\n",
       "      <td>20347</td>\n",
       "      <td>1.0</td>\n",
       "      <td>31</td>\n",
       "      <td>1066.984375</td>\n",
       "      <td>1066.984375</td>\n",
       "      <td>4935</td>\n",
       "      <td>927.171265</td>\n",
       "      <td>39.926048</td>\n",
       "      <td>1.214966</td>\n",
       "      <td>52.156780</td>\n",
       "      <td>0.28125</td>\n",
       "      <td>5116.953125</td>\n",
       "      <td>0</td>\n",
       "    </tr>\n",
       "    <tr>\n",
       "      <th>1</th>\n",
       "      <td>2381</td>\n",
       "      <td>1</td>\n",
       "      <td>120</td>\n",
       "      <td>20347</td>\n",
       "      <td>1.0</td>\n",
       "      <td>31</td>\n",
       "      <td>-1165.765625</td>\n",
       "      <td>-2232.750000</td>\n",
       "      <td>3584</td>\n",
       "      <td>800.226746</td>\n",
       "      <td>64.660500</td>\n",
       "      <td>-1.771773</td>\n",
       "      <td>32.726578</td>\n",
       "      <td>0.28125</td>\n",
       "      <td>2884.203125</td>\n",
       "      <td>0</td>\n",
       "    </tr>\n",
       "    <tr>\n",
       "      <th>2</th>\n",
       "      <td>2381</td>\n",
       "      <td>1</td>\n",
       "      <td>120</td>\n",
       "      <td>20347</td>\n",
       "      <td>1.0</td>\n",
       "      <td>31</td>\n",
       "      <td>-1464.921875</td>\n",
       "      <td>-299.156250</td>\n",
       "      <td>3386</td>\n",
       "      <td>874.497253</td>\n",
       "      <td>52.113621</td>\n",
       "      <td>-2.001283</td>\n",
       "      <td>31.064079</td>\n",
       "      <td>0.28125</td>\n",
       "      <td>2585.046875</td>\n",
       "      <td>0</td>\n",
       "    </tr>\n",
       "    <tr>\n",
       "      <th>3</th>\n",
       "      <td>2381</td>\n",
       "      <td>1</td>\n",
       "      <td>120</td>\n",
       "      <td>20347</td>\n",
       "      <td>1.0</td>\n",
       "      <td>31</td>\n",
       "      <td>168.203125</td>\n",
       "      <td>1633.125000</td>\n",
       "      <td>3141</td>\n",
       "      <td>965.817139</td>\n",
       "      <td>31.043896</td>\n",
       "      <td>32.596157</td>\n",
       "      <td>27.388439</td>\n",
       "      <td>0.28125</td>\n",
       "      <td>4218.171875</td>\n",
       "      <td>0</td>\n",
       "    </tr>\n",
       "    <tr>\n",
       "      <th>4</th>\n",
       "      <td>2381</td>\n",
       "      <td>1</td>\n",
       "      <td>120</td>\n",
       "      <td>20347</td>\n",
       "      <td>1.0</td>\n",
       "      <td>31</td>\n",
       "      <td>159.671875</td>\n",
       "      <td>-8.531250</td>\n",
       "      <td>2955</td>\n",
       "      <td>692.463074</td>\n",
       "      <td>62.390778</td>\n",
       "      <td>7.139974</td>\n",
       "      <td>42.543320</td>\n",
       "      <td>0.28125</td>\n",
       "      <td>4209.640625</td>\n",
       "      <td>0</td>\n",
       "    </tr>\n",
       "  </tbody>\n",
       "</table>\n",
       "</div>"
      ],
      "text/plain": [
       "   event  run  subrun  num_mcp  dataset_prescale_factor  num_flashes  \\\n",
       "0   2381    1     120    20347                      1.0           31   \n",
       "1   2381    1     120    20347                      1.0           31   \n",
       "2   2381    1     120    20347                      1.0           31   \n",
       "3   2381    1     120    20347                      1.0           31   \n",
       "4   2381    1     120    20347                      1.0           31   \n",
       "\n",
       "    flash_time  flash_difftime  flash_totalPE     flash_z   flash_sz  \\\n",
       "0  1066.984375     1066.984375           4935  927.171265  39.926048   \n",
       "1 -1165.765625    -2232.750000           3584  800.226746  64.660500   \n",
       "2 -1464.921875     -299.156250           3386  874.497253  52.113621   \n",
       "3   168.203125     1633.125000           3141  965.817139  31.043896   \n",
       "4   159.671875       -8.531250           2955  692.463074  62.390778   \n",
       "\n",
       "     flash_y   flash_sy  flash_width  flash_abstime  flash_num_PMT10percent  \n",
       "0   1.214966  52.156780      0.28125    5116.953125                       0  \n",
       "1  -1.771773  32.726578      0.28125    2884.203125                       0  \n",
       "2  -2.001283  31.064079      0.28125    2585.046875                       0  \n",
       "3  32.596157  27.388439      0.28125    4218.171875                       0  \n",
       "4   7.139974  42.543320      0.28125    4209.640625                       0  "
      ]
     },
     "execution_count": 7,
     "metadata": {},
     "output_type": "execute_result"
    }
   ],
   "source": [
    "df_flash_mc.head()"
   ]
  },
  {
   "cell_type": "code",
   "execution_count": 8,
   "metadata": {},
   "outputs": [],
   "source": [
    "data_num_flashes = file_data[b'Event'].array('num_simplecosmicflashes')\n",
    "mc_num_flashes = file_mc[b'Event'].array('num_simplecosmicflashes')"
   ]
  },
  {
   "cell_type": "markdown",
   "metadata": {},
   "source": [
    "## Plots"
   ]
  },
  {
   "cell_type": "code",
   "execution_count": 9,
   "metadata": {},
   "outputs": [
    {
     "data": {
      "image/png": "[encoded data removed]",
      "text/plain": [
       "<Figure size 684x252 with 3 Axes>"
      ]
     },
     "metadata": {
      "needs_background": "light"
     },
     "output_type": "display_data"
    }
   ],
   "source": [
    "# number of flashes per event, PE of flashes, time of flashes\n",
    "# data vs MC\n",
    "# before and after timing cut\n",
    "\n",
    "fig, ax = plt.subplots(ncols = 3, sharey=False, figsize=(9.5,3.5))\n",
    "N=50\n",
    "\n",
    "#Num flashes\n",
    "x_min = 0\n",
    "x_max = 50\n",
    "data = [mc_num_flashes, data_num_flashes]\n",
    "edges, edges_mid, bins, err, max_y = helper.histHelper(N, x_min, x_max, data, weights=[mc_scale,1])\n",
    "ax[0].step(edges_mid, bins[0], lw=1, label=mc_lab, where='mid', color='C1')\n",
    "ax[0].fill_between(edges_mid, bins[0] - err[0], bins[0] + err[0], alpha=0.3, step='mid', color='C1')\n",
    "ax[0].errorbar(edges_mid, bins[1], yerr=err[1], xerr=edges[:-1]-edges_mid, fmt='none', c='C0', \n",
    "               zorder=3, label=data_lab)\n",
    "ax[0].legend(bbox_to_anchor=(0., 1.0, 1, 0.2), title='Number of Flashes', loc='lower center', mode='expand')\n",
    "ax[0].set_ylim(0, max(max_y)*1.2)\n",
    "ax[0].set_xlabel(\"Flashes in event\")\n",
    "ax[0].set_ylabel(\"Events per bin\")\n",
    "ax[0].text(0, ax[0].get_ylim()[1]*0.9, ub_tag, size=12)\n",
    "\n",
    "\n",
    "#Time flashes\n",
    "x_min = -3.5\n",
    "x_max = 5\n",
    "data = [df_flash_mc['flash_time']/1000, df_flash_data['flash_time']/1000]\n",
    "edges, edges_mid, bins, err, max_y = helper.histHelper(N, x_min, x_max, data, weights=[mc_scale,1])\n",
    "ax[1].step(edges_mid, bins[0], lw=1, label=mc_lab, where='mid', color='C1')\n",
    "ax[1].fill_between(edges_mid, bins[0] - err[0], bins[0] + err[0], alpha=0.3, step='mid', color='C1')\n",
    "ax[1].errorbar(edges_mid, bins[1], yerr=err[1], xerr=edges[:-1]-edges_mid, fmt='none', c='C0', \n",
    "               zorder=3, label=data_lab)\n",
    "ax[1].legend(bbox_to_anchor=(0., 1.0, 1, 0.2), title='Time of Flashes', loc='lower center', mode='expand')\n",
    "ax[1].set_ylim(0, max(max_y)*1.1)\n",
    "ax[1].set_ylabel('Flashes per bin')\n",
    "ax[1].set_xlabel(r'Flash time [ms]')\n",
    "\n",
    "\n",
    "#PE flashes\n",
    "x_min = 30\n",
    "x_max = 10000\n",
    "data = [df_flash_mc['flash_totalPE'], df_flash_data['flash_totalPE']]\n",
    "edges, edges_mid, bins, err, max_y = helper.histHelper(N, x_min, x_max, data, weights=[mc_scale,1], log=True)\n",
    "ax[2].step(edges_mid, bins[0], lw=1, label=mc_lab, where='mid', color='C1')\n",
    "ax[2].fill_between(edges_mid, bins[0] - err[0], bins[0] + err[0], alpha=0.3, step='mid', color='C1')\n",
    "ax[2].errorbar(edges_mid, bins[1], yerr=err[1], xerr=edges[:-1]-edges_mid, fmt='none', c='C0', \n",
    "               zorder=3, label=data_lab)\n",
    "ax[2].legend(bbox_to_anchor=(0., 1.0, 1, 0.2), title='Total PE of Flashes', loc='lower center', mode='expand')\n",
    "ax[2].set_ylim(0, max(max_y)*1.1)\n",
    "ax[2].set_ylabel('Flashes per bin')\n",
    "ax[2].set_xlabel(r'Flash Intensity [PE]')\n",
    "ax[2].set_xscale(\"log\", nonposx='clip')\n",
    "\n",
    "fig.tight_layout()\n",
    "fig.savefig(outdir+\"flash_beforetime.pdf\", bbox_inches=\"tight\")"
   ]
  },
  {
   "cell_type": "code",
   "execution_count": 10,
   "metadata": {},
   "outputs": [
    {
     "data": {
      "text/plain": [
       "count    168336.000000\n",
       "mean        -48.354027\n",
       "std        1387.357666\n",
       "min       -2449.906250\n",
       "25%       -1251.609375\n",
       "50%         -58.843750\n",
       "75%        1153.468750\n",
       "max        2350.046875\n",
       "Name: flash_time, dtype: float64"
      ]
     },
     "execution_count": 10,
     "metadata": {},
     "output_type": "execute_result"
    }
   ],
   "source": [
    "df_flash_mc['flash_time'].describe()"
   ]
  },
  {
   "cell_type": "code",
   "execution_count": 11,
   "metadata": {},
   "outputs": [
    {
     "name": "stdout",
     "output_type": "stream",
     "text": [
      "0.9862536831099705\n"
     ]
    }
   ],
   "source": [
    "# Assume a light yield of 0.8 in data, how would this look in MC?\n",
    "print(sum(df_flash_mc['flash_totalPE']>42.5)/len(df_flash_mc))\n",
    "#print(np.mean(num_flash_mc))"
   ]
  },
  {
   "cell_type": "code",
   "execution_count": 12,
   "metadata": {},
   "outputs": [
    {
     "data": {
      "image/png": "[encoded data removed]",
      "text/plain": [
       "<Figure size 684x252 with 3 Axes>"
      ]
     },
     "metadata": {
      "needs_background": "light"
     },
     "output_type": "display_data"
    }
   ],
   "source": [
    "mc_bounds = [25,2350,-0,-2450]\n",
    "time_query_mc= '((flash_time>@mc_bounds[0]) & (flash_time<@mc_bounds[1])) | \\\n",
    "                ((flash_time<@mc_bounds[2]) & (flash_time>@mc_bounds[3]))' \n",
    "time_mc = (4800-25)*1e-6\n",
    "\n",
    "data_bounds = [25,3200,-0,-1600]\n",
    "time_query_data= '((flash_time>@data_bounds[0]) & (flash_time<@data_bounds[1])) | \\\n",
    "                  ((flash_time<@data_bounds[2]) & (flash_time>@data_bounds[3]))'\n",
    "time_data = (4800-25)*1e-6\n",
    "\n",
    "df_flash_mc_time = df_flash_mc.query(time_query_mc)\n",
    "df_flash_data_time = df_flash_data.query(time_query_data)\n",
    "mc_rate = len(df_flash_mc_time)/(mc_n*time_mc)/1000\n",
    "data_rate = len(df_flash_data_time)/(data_n*time_data)/1000\n",
    "num_flash_mc = df_flash_mc_time.groupby(['run', 'subrun', 'event', 'num_mcp']).size()\n",
    "num_flash_data = df_flash_data_time.groupby(['run', 'subrun', 'event']).size()\n",
    "\n",
    "fig, ax = plt.subplots(ncols = 3, sharey=False, figsize=(9.5,3.5))\n",
    "N=50\n",
    "\n",
    "#Num flashes\n",
    "x_min = 0\n",
    "x_max = 50\n",
    "data = [num_flash_mc, num_flash_data]\n",
    "edges, edges_mid, bins, err, max_y = helper.histHelper(N, x_min, x_max, data, weights=[mc_scale,1])\n",
    "ax[0].step(edges_mid, bins[0], lw=1, label=mc_lab+' ({0:.1f} kHz)'.format(mc_rate), where='mid', color='C1')\n",
    "ax[0].fill_between(edges_mid, bins[0] - err[0], bins[0] + err[0], alpha=0.3, step='mid', color='C1')\n",
    "ax[0].errorbar(edges_mid, bins[1], yerr=err[1], xerr=edges[:-1]-edges_mid, fmt='none', c='C0', \n",
    "               zorder=3, label='Cosmic data ({0:.1f} kHz)'.format(data_rate))\n",
    "ax[0].legend(bbox_to_anchor=(0., 1.0, 1, 0.2), title='Number of Flashes', loc='lower center', mode='expand')\n",
    "ax[0].set_ylim(0, max(max_y)*1.2)\n",
    "ax[0].set_xlabel(\"Flashes in event\")\n",
    "ax[0].set_ylabel(\"Events per bin\")\n",
    "ax[0].text(0, ax[0].get_ylim()[1]*0.9, ub_tag, size=12)\n",
    "\n",
    "\n",
    "#Time flashes\n",
    "x_min = -3.5\n",
    "x_max = 5\n",
    "data = [df_flash_mc_time['flash_time']/1000, df_flash_data_time['flash_time']/1000]\n",
    "edges, edges_mid, bins, err, max_y = helper.histHelper(N, x_min, x_max, data, weights=[mc_scale,1])\n",
    "ax[1].step(edges_mid, bins[0], lw=1, label=mc_lab, where='mid', color='C1')\n",
    "ax[1].fill_between(edges_mid, bins[0] - err[0], bins[0] + err[0], alpha=0.3, step='mid', color='C1')\n",
    "ax[1].errorbar(edges_mid, bins[1], yerr=err[1], xerr=edges[:-1]-edges_mid, fmt='none', c='C0', \n",
    "               zorder=3, label=data_lab)\n",
    "ax[1].legend(bbox_to_anchor=(0., 1.0, 1, 0.2), title='Time of Flashes', loc='lower center', mode='expand')\n",
    "ax[1].set_ylim(0, max(max_y)*1.1)\n",
    "ax[1].set_ylabel('Flashes per bin')\n",
    "ax[1].set_xlabel(r'Flash time [ms]')\n",
    "\n",
    "\n",
    "#PE flashes\n",
    "x_min = 30\n",
    "x_max = 10000\n",
    "data = [df_flash_mc_time['flash_totalPE'], df_flash_data_time['flash_totalPE']]\n",
    "edges, edges_mid, bins, err, max_y = helper.histHelper(N, x_min, x_max, data, weights=[mc_scale,1], log=True)\n",
    "ax[2].step(edges_mid, bins[0], lw=1, label=mc_lab, where='mid', color='C1')\n",
    "ax[2].fill_between(edges_mid, bins[0] - err[0], bins[0] + err[0], alpha=0.3, step='mid', color='C1')\n",
    "ax[2].errorbar(edges_mid, bins[1], yerr=err[1], xerr=edges[:-1]-edges_mid, fmt='none', c='C0', \n",
    "               zorder=3, label=data_lab)\n",
    "ax[2].legend(bbox_to_anchor=(0., 1.0, 1, 0.2), title='Total PE of Flashes', loc='lower center', mode='expand')\n",
    "ax[2].set_ylim(0, max(max_y)*1.1)\n",
    "ax[2].set_ylabel('Flashes per bin')\n",
    "ax[2].set_xlabel(r'Flash Intensity [PE]')\n",
    "ax[2].set_xscale(\"log\", nonposx='clip')\n",
    "\n",
    "fig.tight_layout()\n",
    "fig.savefig(outdir+\"flash_aftertime.pdf\", bbox_inches=\"tight\")"
   ]
  },
  {
   "cell_type": "code",
   "execution_count": 13,
   "metadata": {},
   "outputs": [
    {
     "name": "stderr",
     "output_type": "stream",
     "text": [
      "/home/wouter/Binaries/miniconda3/envs/uprootenv/lib/python3.5/site-packages/ipykernel_launcher.py:1: RuntimeWarning: invalid value encountered in true_divide\n",
      "  \"\"\"Entry point for launching an IPython kernel.\n"
     ]
    },
    {
     "data": {
      "image/png": "[encoded data removed]",
      "text/plain": [
       "<Figure size 432x288 with 1 Axes>"
      ]
     },
     "metadata": {
      "needs_background": "light"
     },
     "output_type": "display_data"
    }
   ],
   "source": [
    "plt.plot(edges[:-1], bins[1]/bins[0])\n",
    "plt.show()"
   ]
  },
  {
   "cell_type": "code",
   "execution_count": 14,
   "metadata": {},
   "outputs": [
    {
     "name": "stdout",
     "output_type": "stream",
     "text": [
      "4.4723469848778805 0.010902295487857592\n",
      "4.427069032599539 0.006432784237972944\n"
     ]
    }
   ],
   "source": [
    "print(mc_rate, 1/np.sqrt(mc_rate*1000*mc_n*time_mc)*mc_rate)\n",
    "print(data_rate, 1/np.sqrt(data_rate*1000*data_n*time_data)*data_rate)"
   ]
  },
  {
   "cell_type": "code",
   "execution_count": 19,
   "metadata": {},
   "outputs": [
    {
     "name": "stdout",
     "output_type": "stream",
     "text": [
      "\n",
      "MC: 4642+-11\n",
      "Data: 4593+-7\n",
      "Data/MC: 0.9895+-0.0028\n"
     ]
    }
   ],
   "source": [
    "# Correct for 8us dead time after each flash!\n",
    "from scipy.optimize import fsolve\n",
    "func = lambda x : R - x*np.exp(-8e-6*x)\n",
    "a_initial_guess = 5000\n",
    "\n",
    "R= mc_rate*1000\n",
    "mc_rate_corr = fsolve(func, a_initial_guess)[0]\n",
    "R= data_rate*1000\n",
    "data_rate_corr = fsolve(func, a_initial_guess)[0]\n",
    "\n",
    "mc_err = 1/np.sqrt(mc_rate*1000*mc_n*time_mc)*mc_rate_corr\n",
    "data_err = 1/np.sqrt(data_rate*1000*data_n*time_data)*data_rate_corr\n",
    "print('\\nMC: {0:0.0f}+-{1:0.0f}'.format(mc_rate_corr, mc_err))\n",
    "print('Data: {0:0.0f}+-{1:0.0f}'.format(data_rate_corr, data_err))\n",
    "ratio = data_rate_corr/mc_rate_corr\n",
    "r_err = np.sqrt((data_err/data_rate_corr)**2 + (mc_err/mc_rate_corr)**2)*ratio\n",
    "print('Data/MC: {0:.4f}+-{1:0.4f}'.format(ratio,r_err))"
   ]
  },
  {
   "cell_type": "code",
   "execution_count": 16,
   "metadata": {},
   "outputs": [
    {
     "name": "stderr",
     "output_type": "stream",
     "text": [
      "/home/wouter/Binaries/miniconda3/envs/uprootenv/lib/python3.5/site-packages/ipykernel_launcher.py:20: RuntimeWarning: invalid value encountered in true_divide\n",
      "/home/wouter/Binaries/miniconda3/envs/uprootenv/lib/python3.5/site-packages/ipykernel_launcher.py:21: RuntimeWarning: divide by zero encountered in true_divide\n"
     ]
    },
    {
     "data": {
      "image/png": "[encoded data removed]",
      "text/plain": [
       "<Figure size 720x288 with 4 Axes>"
      ]
     },
     "metadata": {
      "needs_background": "light"
     },
     "output_type": "display_data"
    }
   ],
   "source": [
    "fig, axes = plt.subplots(nrows = 2, ncols=2, sharex='col', figsize=(10,4), gridspec_kw = {'height_ratios':[3, 1]})\n",
    "axes = [[axes[0][0], axes[1][0]], [axes[0][1], axes[1][1]] ]\n",
    "fields = ['flash_z', 'flash_y']\n",
    "lab = [r'$z$', r'$y$']\n",
    "x_min = [0, -70]\n",
    "x_max = [1040, 70]\n",
    "N=55\n",
    "\n",
    "for ax, field, l, xmin, xmax in zip(axes, fields, lab, x_min, x_max):\n",
    "    data = [df_flash_mc_time[field], df_flash_data_time[field]]\n",
    "    edges, edges_mid, bins, err, max_y = helper.histHelper(N, xmin, xmax, data, weights=[mc_scale,1])\n",
    "    ax[0].step(edges_mid, bins[0], lw=1, label=mc_lab+' ({0:.1f} kHz)'.format(mc_rate), where='mid', color='C1')\n",
    "    ax[0].fill_between(edges_mid, bins[0] - err[0], bins[0] + err[0], alpha=0.3, step='mid', color='C1')\n",
    "    ax[0].errorbar(edges_mid, bins[1], yerr=err[1], xerr=edges[:-1]-edges_mid, fmt='none', c='C0', \n",
    "                   zorder=3, label='Cosmic data, Run 1 ({0:.1f} kHz)'.format(data_rate))\n",
    "    ax[0].set_ylabel(\"Flashes per bin\")\n",
    "    ax[0].legend(bbox_to_anchor=(0., 1.0, 1, 0.2), title=l+' center of the flash', loc='lower center', mode='expand')\n",
    "    ax[0].set_ylim(0, max(max_y)*1.1)\n",
    "\n",
    "    ratio = bins[1]/(bins[0])\n",
    "    ratio_err = np.sqrt(1/bins[1]+1/ (bins[0]/mc_scale))*ratio\n",
    "    ax[1].errorbar(edges_mid, ratio, xerr= edges[1:]-edges_mid, yerr=ratio_err, fmt='none', color='k')\n",
    "\n",
    "    ax[1].axhline(y=1,color=\"k\",alpha=0.25)\n",
    "    ax[1].set_xlabel('Flash '+l+' [cm]')\n",
    "    ax[1].set_ylabel(\"Data/MC\")\n",
    "    ax[1].set_ylim(0.5,1.5)\n",
    "    \n",
    "fig.tight_layout()    \n",
    "fig.savefig(outdir+\"flashxz.pdf\")"
   ]
  }
 ],
 "metadata": {
  "anaconda-cloud": {},
  "kernelspec": {
   "display_name": "Uproot Env",
   "language": "python",
   "name": "uprootenv"
  },
  "language_info": {
   "codemirror_mode": {
    "name": "ipython",
    "version": 3
   },
   "file_extension": ".py",
   "mimetype": "text/x-python",
   "name": "python",
   "nbconvert_exporter": "python",
   "pygments_lexer": "ipython3",
   "version": "3.5.6"
  }
 },
 "nbformat": 4,
 "nbformat_minor": 2
}
