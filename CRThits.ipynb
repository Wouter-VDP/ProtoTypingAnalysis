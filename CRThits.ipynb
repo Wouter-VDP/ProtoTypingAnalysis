{
 "cells": [
  {
   "cell_type": "markdown",
   "metadata": {},
   "source": [
    "# CRT hit analysis"
   ]
  },
  {
   "cell_type": "code",
   "execution_count": 47,
   "metadata": {},
   "outputs": [],
   "source": [
    "import uproot\n",
    "import matplotlib.pyplot as plt\n",
    "import numpy as np\n",
    "import pandas as pd\n",
    "from scipy.optimize import curve_fit\n",
    "from scipy.stats import linregress\n",
    "import numpy.polynomial.polynomial as poly\n",
    "import matplotlib.patches as patches\n"
   ]
  },
  {
   "cell_type": "code",
   "execution_count": 2,
   "metadata": {},
   "outputs": [],
   "source": [
    "%matplotlib inline"
   ]
  },
  {
   "cell_type": "markdown",
   "metadata": {},
   "source": [
    "## Load the data"
   ]
  },
  {
   "cell_type": "code",
   "execution_count": 5,
   "metadata": {},
   "outputs": [],
   "source": [
    "file_name_mc = './input/CosmicStudies_mc_100k.root'\n",
    "file_name_data = './input/CRTdata_on_26k.root'\n",
    "outdir = './Output/CRThits/'"
   ]
  },
  {
   "cell_type": "code",
   "execution_count": 6,
   "metadata": {},
   "outputs": [],
   "source": [
    "file_mc = uproot.open(file_name_mc)['cosmicstudies']\n",
    "file_data = uproot.open(file_name_data)['crtdata/CRT']"
   ]
  },
  {
   "cell_type": "code",
   "execution_count": 7,
   "metadata": {},
   "outputs": [
    {
     "name": "stdout",
     "output_type": "stream",
     "text": [
      "[b'event', b'run', b'subrun', b'nhits', b'plane', b'time', b'pe', b'x', b'x_err', b'y', b'y_err', b'z', b'z_err', b't0_ns', b't1_ns']\n"
     ]
    }
   ],
   "source": [
    "df_crt = file_data.pandas.df()\n",
    "print(file_data.keys())\n",
    "\n",
    "num_crt_per_event = df_crt.groupby(['run', 'subrun', 'event']).size()\n",
    "num_crt_per_event_bottom = df_crt.query('plane==0').groupby(['run', 'subrun', 'event']).size()\n",
    "num_events_data = len(num_crt_per_event)"
   ]
  },
  {
   "cell_type": "code",
   "execution_count": 39,
   "metadata": {},
   "outputs": [
    {
     "name": "stdout",
     "output_type": "stream",
     "text": [
      "[b'event', b'run', b'subrun', b'cross_x', b'cross_y', b'cross_z', b'cross_time', b'cross_E', b'mc_time', b'mc_pdg_code', b'mc_process']\n"
     ]
    }
   ],
   "source": [
    "df_crt_mc = file_mc[b'CRTcross'].pandas.df()\n",
    "num_crt_per_event_mc = df_crt_mc.groupby(['run', 'subrun', 'event']).size()\n",
    "num_events_mc = len(num_crt_per_event_mc)\n",
    "print(file_mc[b'CRTcross'].keys())"
   ]
  },
  {
   "cell_type": "code",
   "execution_count": 9,
   "metadata": {},
   "outputs": [],
   "source": [
    "event_scale = num_events_data/num_events_mc"
   ]
  },
  {
   "cell_type": "markdown",
   "metadata": {},
   "source": [
    "## Plots data/MC"
   ]
  },
  {
   "cell_type": "code",
   "execution_count": 10,
   "metadata": {},
   "outputs": [
    {
     "data": {
      "image/png": "[encoded data removed]",
      "text/plain": [
       "<Figure size 792x360 with 6 Axes>"
      ]
     },
     "metadata": {
      "needs_background": "light"
     },
     "output_type": "display_data"
    }
   ],
   "source": [
    "fig, ax = plt.subplots(2, 3, figsize=(11, 5), sharex = False)\n",
    "\n",
    "ax[0][0].hist(num_crt_per_event, bins=100, range=(0,200), \n",
    "              label = r\"$\\lambda =$ {0:.1f}\".format(np.mean(num_crt_per_event)))\n",
    "ax[0][0].set_xlabel(\"Number CRT hits per event\")\n",
    "ax[0][0].set_title(\"BNB On\", loc='left')\n",
    "ax[0][0].set_title(\"All panels\", loc='right')\n",
    "ax[0][0].set_ylabel('Entries per bin')\n",
    "ax[0][0].legend()\n",
    "ax[0][1].hist(num_crt_per_event_bottom, bins=31, range=(0,30),\n",
    "              label = r\"$\\lambda =$ {0:.1f}\".format(np.mean(num_crt_per_event_bottom)))\n",
    "ax[0][1].set_xlabel(\"Number CRT hits per event\")\n",
    "ax[0][1].set_title(\"BNB On\", loc='left')\n",
    "ax[0][1].set_title(\"Bottom panel\", loc='right')\n",
    "ax[0][1].set_ylabel('Entries per bin')\n",
    "ax[0][1].legend()\n",
    "\n",
    "ax[0][2].hist(num_crt_per_event_mc, bins=31, range=(0,30), color='C1',\n",
    "              label = r\"$\\lambda =$ {0:.1f}\".format(np.mean(num_crt_per_event_mc)))\n",
    "ax[0][2].set_title(\"CORSIKA\", loc='left')\n",
    "ax[0][2].set_title(\"Bottom panel\", loc='right')\n",
    "ax[0][2].set_ylabel('Entries per bin')\n",
    "ax[0][2].legend()\n",
    "\n",
    "ax[1][0].hist(df_crt['time']/1000, bins=67, range=(-2.5,4.2))\n",
    "ax[1][0].set_ylabel('CRT hits per bin')\n",
    "ax[1][0].set_xlabel('Hit time wrt trigger [ms]')\n",
    "ax[1][1].hist(df_crt.query('plane==0')['time']/1000, bins=67, range=(-2.5,4.2))\n",
    "ax[1][1].set_ylabel('CRT hits per bin')\n",
    "ax[1][1].set_xlabel('Hit time wrt trigger [ms]')\n",
    "\n",
    "ax[1][2].hist(df_crt_mc['cross_time']/1e6, bins=77, range=(-4.5,3.5), color='C1')\n",
    "ax[1][2].set_ylabel('CRT hits per bin')\n",
    "ax[1][2].set_xlabel('Hit time wrt trigger [ms]')\n",
    "\n",
    "fig.tight_layout()\n",
    "plt.savefig(outdir+\"num_time_bottom_hits.pdf\", bbox_inches=\"tight\")"
   ]
  },
  {
   "cell_type": "code",
   "execution_count": 11,
   "metadata": {},
   "outputs": [
    {
     "data": {
      "text/html": [
       "<div>\n",
       "<style scoped>\n",
       "    .dataframe tbody tr th:only-of-type {\n",
       "        vertical-align: middle;\n",
       "    }\n",
       "\n",
       "    .dataframe tbody tr th {\n",
       "        vertical-align: top;\n",
       "    }\n",
       "\n",
       "    .dataframe thead th {\n",
       "        text-align: right;\n",
       "    }\n",
       "</style>\n",
       "<table border=\"1\" class=\"dataframe\">\n",
       "  <thead>\n",
       "    <tr style=\"text-align: right;\">\n",
       "      <th></th>\n",
       "      <th>event</th>\n",
       "      <th>run</th>\n",
       "      <th>subrun</th>\n",
       "      <th>nhits</th>\n",
       "      <th>plane</th>\n",
       "      <th>time</th>\n",
       "      <th>pe</th>\n",
       "      <th>x</th>\n",
       "      <th>x_err</th>\n",
       "      <th>y</th>\n",
       "      <th>y_err</th>\n",
       "      <th>z</th>\n",
       "      <th>z_err</th>\n",
       "      <th>t0_ns</th>\n",
       "      <th>t1_ns</th>\n",
       "    </tr>\n",
       "  </thead>\n",
       "  <tbody>\n",
       "    <tr>\n",
       "      <th>98</th>\n",
       "      <td>687</td>\n",
       "      <td>15427</td>\n",
       "      <td>13</td>\n",
       "      <td>112</td>\n",
       "      <td>0</td>\n",
       "      <td>-1559.418945</td>\n",
       "      <td>176.206207</td>\n",
       "      <td>295.576538</td>\n",
       "      <td>2.575507</td>\n",
       "      <td>-261.605988</td>\n",
       "      <td>2.575507</td>\n",
       "      <td>544.189331</td>\n",
       "      <td>2.575507</td>\n",
       "      <td>305969773.0</td>\n",
       "      <td>-1600191.0</td>\n",
       "    </tr>\n",
       "    <tr>\n",
       "      <th>99</th>\n",
       "      <td>687</td>\n",
       "      <td>15427</td>\n",
       "      <td>13</td>\n",
       "      <td>112</td>\n",
       "      <td>0</td>\n",
       "      <td>-1062.938965</td>\n",
       "      <td>248.573303</td>\n",
       "      <td>255.869476</td>\n",
       "      <td>2.590883</td>\n",
       "      <td>-261.605988</td>\n",
       "      <td>2.590883</td>\n",
       "      <td>508.903595</td>\n",
       "      <td>2.590883</td>\n",
       "      <td>306466253.0</td>\n",
       "      <td>-1103711.0</td>\n",
       "    </tr>\n",
       "    <tr>\n",
       "      <th>100</th>\n",
       "      <td>687</td>\n",
       "      <td>15427</td>\n",
       "      <td>13</td>\n",
       "      <td>112</td>\n",
       "      <td>0</td>\n",
       "      <td>-716.184021</td>\n",
       "      <td>31.366541</td>\n",
       "      <td>70.599907</td>\n",
       "      <td>2.541263</td>\n",
       "      <td>-261.605988</td>\n",
       "      <td>2.541263</td>\n",
       "      <td>333.726837</td>\n",
       "      <td>2.541263</td>\n",
       "      <td>306813008.0</td>\n",
       "      <td>-756957.0</td>\n",
       "    </tr>\n",
       "    <tr>\n",
       "      <th>101</th>\n",
       "      <td>687</td>\n",
       "      <td>15427</td>\n",
       "      <td>13</td>\n",
       "      <td>112</td>\n",
       "      <td>0</td>\n",
       "      <td>-285.502014</td>\n",
       "      <td>201.598709</td>\n",
       "      <td>-8.492566</td>\n",
       "      <td>2.463776</td>\n",
       "      <td>-261.605988</td>\n",
       "      <td>2.463776</td>\n",
       "      <td>355.515289</td>\n",
       "      <td>2.463776</td>\n",
       "      <td>307243690.0</td>\n",
       "      <td>-326275.0</td>\n",
       "    </tr>\n",
       "    <tr>\n",
       "      <th>102</th>\n",
       "      <td>687</td>\n",
       "      <td>15427</td>\n",
       "      <td>13</td>\n",
       "      <td>112</td>\n",
       "      <td>0</td>\n",
       "      <td>-33.174999</td>\n",
       "      <td>333.675140</td>\n",
       "      <td>-42.102203</td>\n",
       "      <td>2.586627</td>\n",
       "      <td>-261.605988</td>\n",
       "      <td>2.586627</td>\n",
       "      <td>598.639282</td>\n",
       "      <td>2.586627</td>\n",
       "      <td>307496017.0</td>\n",
       "      <td>-73948.0</td>\n",
       "    </tr>\n",
       "  </tbody>\n",
       "</table>\n",
       "</div>"
      ],
      "text/plain": [
       "     event    run  subrun  nhits  plane         time          pe           x  \\\n",
       "98     687  15427      13    112      0 -1559.418945  176.206207  295.576538   \n",
       "99     687  15427      13    112      0 -1062.938965  248.573303  255.869476   \n",
       "100    687  15427      13    112      0  -716.184021   31.366541   70.599907   \n",
       "101    687  15427      13    112      0  -285.502014  201.598709   -8.492566   \n",
       "102    687  15427      13    112      0   -33.174999  333.675140  -42.102203   \n",
       "\n",
       "        x_err           y     y_err           z     z_err        t0_ns  \\\n",
       "98   2.575507 -261.605988  2.575507  544.189331  2.575507  305969773.0   \n",
       "99   2.590883 -261.605988  2.590883  508.903595  2.590883  306466253.0   \n",
       "100  2.541263 -261.605988  2.541263  333.726837  2.541263  306813008.0   \n",
       "101  2.463776 -261.605988  2.463776  355.515289  2.463776  307243690.0   \n",
       "102  2.586627 -261.605988  2.586627  598.639282  2.586627  307496017.0   \n",
       "\n",
       "         t1_ns  \n",
       "98  -1600191.0  \n",
       "99  -1103711.0  \n",
       "100  -756957.0  \n",
       "101  -326275.0  \n",
       "102   -73948.0  "
      ]
     },
     "execution_count": 11,
     "metadata": {},
     "output_type": "execute_result"
    }
   ],
   "source": [
    "df_crt.query('plane==0').head()"
   ]
  },
  {
   "cell_type": "code",
   "execution_count": 87,
   "metadata": {},
   "outputs": [
    {
     "name": "stdout",
     "output_type": "stream",
     "text": [
      "((276.73822021484375, 776.7431030273438), (-132.88726806640625, 389.6159973144531))\n",
      "((275.00006103515625, 799.9999389648438), (-129.99948120117188, 399.9998474121094))\n"
     ]
    },
    {
     "data": {
      "image/png": "[encoded data removed]",
      "text/plain": [
       "<Figure size 504x252 with 2 Axes>"
      ]
     },
     "metadata": {
      "needs_background": "light"
     },
     "output_type": "display_data"
    }
   ],
   "source": [
    "fig, ax = plt.subplots(1, 2, figsize=(7, 3.5), sharex = False)\n",
    "\n",
    "# y = -261.6\n",
    "xz_data = ((min(df_crt.query('plane==0')['z']),max(df_crt.query('plane==0')['z'])),\n",
    "           (min(df_crt.query('plane==0')['x']),max(df_crt.query('plane==0')['x'])))\n",
    "print(xz_data)\n",
    "ax[0].hist2d(df_crt.query('plane==0')['z'],df_crt.query('plane==0')['x'],\n",
    "             cmap='coolwarm', bins=(50,52), range = xz_data)\n",
    "ax[0].set_title(\"BNB On\", loc='left')\n",
    "ax[0].set_title(\"Bottom panel\", loc='right')\n",
    "ax[0].set_xlabel(r'$z$-position [cm]')\n",
    "ax[0].set_ylabel(r'$x$-position [cm]')\n",
    "\n",
    "# y = -258\n",
    "xz_data = ((min(df_crt_mc['cross_z']),max(df_crt_mc['cross_z'])),\n",
    "           (min(df_crt_mc['cross_x']),max(df_crt_mc['cross_x'])))\n",
    "print(xz_data)\n",
    "ax[1].hist2d(df_crt_mc['cross_z'],df_crt_mc['cross_x'],\n",
    "             cmap='coolwarm', bins=(52,53), range = xz_data)\n",
    "ax[1].set_title(\"CORSIKA\", loc='left')\n",
    "ax[1].set_title(\"Bottom panel\", loc='right')\n",
    "ax[1].set_xlabel(r'$z$-position [cm]')\n",
    "ax[1].set_ylabel(r'$x$-position [cm]')\n",
    "\n",
    "\n",
    "rect = patches.Rectangle((280,-130),320,515,\n",
    "                         linewidth=2,edgecolor='C2',facecolor='none', label='TPC')\n",
    "ax[0].add_patch(rect)\n",
    "rect = patches.Rectangle((280,0),515,250,\n",
    "                         linewidth=2,edgecolor='C2',facecolor='none', label='TPC')\n",
    "ax[1].add_patch(rect)\n",
    "\n",
    "fig.tight_layout()\n",
    "plt.savefig(outdir+\"bottom_hits2d_rect.pdf\", bbox_inches=\"tight\")"
   ]
  },
  {
   "cell_type": "markdown",
   "metadata": {},
   "source": [
    "## MC only"
   ]
  },
  {
   "cell_type": "code",
   "execution_count": 36,
   "metadata": {},
   "outputs": [
    {
     "name": "stdout",
     "output_type": "stream",
     "text": [
      "-13      53.894898\n",
      " 13      44.586784\n",
      " 11       1.119092\n",
      "-11       0.292187\n",
      " 2212     0.080923\n",
      "-211      0.013537\n",
      " 211      0.012459\n",
      "-2212     0.000120\n",
      "Name: mc_pdg_code, dtype: float64\n"
     ]
    }
   ],
   "source": [
    "print(df_crt_mc['mc_pdg_code'].value_counts()/len(df_crt_mc)*100)"
   ]
  },
  {
   "cell_type": "code",
   "execution_count": 73,
   "metadata": {},
   "outputs": [
    {
     "name": "stdout",
     "output_type": "stream",
     "text": [
      "994735\n",
      "92.92261397368233\n"
     ]
    }
   ],
   "source": [
    "## Do also the 2 ways of estimating the rate using MC:\n",
    "x_min = 0#-130\n",
    "x_max = 250#400\n",
    "x_q = '(cross_x<@x_max) & (cross_x>@x_min)'\n",
    "#print(df_crt_mc['cross_z'].describe())\n",
    "total_time = (4.05e-3+3.2e-3)*num_events_mc\n",
    "area = (x_max-x_min)*(800-275)*1e-4 # in m*m\n",
    "total_hits = len(df_crt_mc.query(x_q))\n",
    "print(total_hits)\n",
    "rate = total_hits/(total_time)/area\n",
    "print(rate)"
   ]
  },
  {
   "cell_type": "code",
   "execution_count": 74,
   "metadata": {},
   "outputs": [
    {
     "data": {
      "text/html": [
       "<div>\n",
       "<style scoped>\n",
       "    .dataframe tbody tr th:only-of-type {\n",
       "        vertical-align: middle;\n",
       "    }\n",
       "\n",
       "    .dataframe tbody tr th {\n",
       "        vertical-align: top;\n",
       "    }\n",
       "\n",
       "    .dataframe thead th {\n",
       "        text-align: right;\n",
       "    }\n",
       "</style>\n",
       "<table border=\"1\" class=\"dataframe\">\n",
       "  <thead>\n",
       "    <tr style=\"text-align: right;\">\n",
       "      <th></th>\n",
       "      <th>event</th>\n",
       "      <th>run</th>\n",
       "      <th>subrun</th>\n",
       "      <th>cross_time</th>\n",
       "      <th>dt_prev</th>\n",
       "      <th>dt_next</th>\n",
       "      <th>cross_z</th>\n",
       "    </tr>\n",
       "  </thead>\n",
       "  <tbody>\n",
       "    <tr>\n",
       "      <th>1224180</th>\n",
       "      <td>1</td>\n",
       "      <td>2</td>\n",
       "      <td>1</td>\n",
       "      <td>-4.004932e+06</td>\n",
       "      <td>-6299.411133</td>\n",
       "      <td>-1123.252441</td>\n",
       "      <td>394.837555</td>\n",
       "    </tr>\n",
       "    <tr>\n",
       "      <th>1224179</th>\n",
       "      <td>1</td>\n",
       "      <td>2</td>\n",
       "      <td>1</td>\n",
       "      <td>-2.881680e+06</td>\n",
       "      <td>1123.252441</td>\n",
       "      <td>-405.339752</td>\n",
       "      <td>676.957336</td>\n",
       "    </tr>\n",
       "    <tr>\n",
       "      <th>1224181</th>\n",
       "      <td>1</td>\n",
       "      <td>2</td>\n",
       "      <td>1</td>\n",
       "      <td>-2.476340e+06</td>\n",
       "      <td>405.339752</td>\n",
       "      <td>-2157.716064</td>\n",
       "      <td>404.662750</td>\n",
       "    </tr>\n",
       "    <tr>\n",
       "      <th>1224185</th>\n",
       "      <td>1</td>\n",
       "      <td>2</td>\n",
       "      <td>1</td>\n",
       "      <td>-3.186242e+05</td>\n",
       "      <td>2157.716064</td>\n",
       "      <td>-596.570007</td>\n",
       "      <td>647.924744</td>\n",
       "    </tr>\n",
       "    <tr>\n",
       "      <th>1224178</th>\n",
       "      <td>1</td>\n",
       "      <td>2</td>\n",
       "      <td>1</td>\n",
       "      <td>2.779458e+05</td>\n",
       "      <td>596.570007</td>\n",
       "      <td>-1268.487305</td>\n",
       "      <td>554.742981</td>\n",
       "    </tr>\n",
       "  </tbody>\n",
       "</table>\n",
       "</div>"
      ],
      "text/plain": [
       "         event  run  subrun    cross_time      dt_prev      dt_next  \\\n",
       "1224180      1    2       1 -4.004932e+06 -6299.411133 -1123.252441   \n",
       "1224179      1    2       1 -2.881680e+06  1123.252441  -405.339752   \n",
       "1224181      1    2       1 -2.476340e+06   405.339752 -2157.716064   \n",
       "1224185      1    2       1 -3.186242e+05  2157.716064  -596.570007   \n",
       "1224178      1    2       1  2.779458e+05   596.570007 -1268.487305   \n",
       "\n",
       "            cross_z  \n",
       "1224180  394.837555  \n",
       "1224179  676.957336  \n",
       "1224181  404.662750  \n",
       "1224185  647.924744  \n",
       "1224178  554.742981  "
      ]
     },
     "execution_count": 74,
     "metadata": {},
     "output_type": "execute_result"
    }
   ],
   "source": [
    "# Can I see the dead time between panels? -> Time between hits plots!\n",
    "df_crt_sorted_mc = df_crt_mc.query(x_q).sort_values(by=['event','run','subrun','cross_time']).copy()\n",
    "df_crt_sorted_mc['dt_prev'] = (df_crt_sorted_mc['cross_time']-np.roll(df_crt_sorted_mc['cross_time'],1))/1000 \n",
    "df_crt_sorted_mc['dt_next'] = (df_crt_sorted_mc['cross_time']-np.roll(df_crt_sorted_mc['cross_time'],-1))/1000 \n",
    "df_crt_sorted_mc[['event','run','subrun','cross_time','dt_prev','dt_next','cross_z']].head(5)"
   ]
  },
  {
   "cell_type": "code",
   "execution_count": 79,
   "metadata": {},
   "outputs": [
    {
     "name": "stdout",
     "output_type": "stream",
     "text": [
      "-1.3963067725745708 10.797576666983138\n",
      "0.00310021221798568\n",
      "[-1.39630677 10.79757672]\n",
      "0.0013125\n",
      "1396.306772574571\n",
      "Rate = 106.4 +/- 0.2 [/m*m*s]\n"
     ]
    },
    {
     "data": {
      "image/png": "[encoded data removed]",
      "text/plain": [
       "<Figure size 504x252 with 2 Axes>"
      ]
     },
     "metadata": {
      "needs_background": "light"
     },
     "output_type": "display_data"
    }
   ],
   "source": [
    "fig, ax = plt.subplots(1, 2, figsize=(7, 3.5), sharex = False)\n",
    "\n",
    "N=100\n",
    "skip_bins = 2\n",
    "x_max = 4000\n",
    "x_max_zoom = 100\n",
    "zoom = x_max/x_max_zoom\n",
    "\n",
    "bins, edges, _ = ax[0].hist(df_crt_sorted_mc['dt_prev']/1000, bins=N, \n",
    "                            range=(0,x_max/1000), label='CORSIKA, bottom panel')\n",
    "centers = edges[:-1] + np.diff(edges)/2\n",
    "\n",
    "#--fit--------------------------------------------------------------------------------------\n",
    "slope, intercept, r_value, p_value, std_err = linregress(centers[skip_bins:], np.log(bins[skip_bins:]))\n",
    "coefs = np.polyfit( centers[skip_bins:],np.log(bins[skip_bins:]),1)\n",
    "ffit = poly.polyval(centers, [intercept,slope])\n",
    "print(slope, intercept)\n",
    "print(std_err)\n",
    "print(coefs)\n",
    "#--------------------------------------------------------------------------------------------\n",
    "\n",
    "ax[0].plot(centers[skip_bins:],np.exp(ffit[skip_bins:]), lw=2,\n",
    "           label = r\"Fit: {0:.1f}$\\pm${1:.1f} [1/(m$^2$s)]\".format(slope*-1000/area, std_err*1000/area ))\n",
    "ax[0].set_xlabel(r'Time since the previous flash [ms]')\n",
    "ax[0].set_ylabel('CRT hits per bin')\n",
    "ax[0].legend()\n",
    "\n",
    "bins, edges, _ = ax[1].hist(df_crt_sorted_mc['dt_prev'], bins=N, range=(0,x_max_zoom))\n",
    "centers = edges[:-1] + np.diff(edges)/2\n",
    "ffit = poly.polyval(centers, [intercept,slope/1000])\n",
    "ax[1].plot(centers,np.exp(ffit)/zoom, label = 'exp fit', lw=2)\n",
    "ax[1].set_xlabel(r'Time since the previous flash [$\\mu$s]')\n",
    "ax[1].set_yscale(\"log\", nonposy='clip')\n",
    "ax[1].set_ylabel('CRT hits per bin')\n",
    "ax[1].text(10,5e3,r'Zoom: [0 $\\mu$s, 40 $\\mu$s]', fontsize=12)\n",
    "\n",
    "fig.tight_layout()\n",
    "\n",
    "# Final rate of CRT hits per m*m*s:\n",
    "print(area*1e-4)\n",
    "print(-slope*1000)\n",
    "print(r\"Rate = {0:.1f} +/- {1:.1f} [/m*m*s]\".format(slope*-1000/area, std_err*1000/area ) )\n",
    "\n",
    "plt.savefig(outdir+\"exp_fit_bottom_mc.pdf\", bbox_inches=\"tight\")"
   ]
  },
  {
   "cell_type": "markdown",
   "metadata": {},
   "source": [
    "## Data only"
   ]
  },
  {
   "cell_type": "code",
   "execution_count": 66,
   "metadata": {},
   "outputs": [
    {
     "data": {
      "text/plain": [
       "3    54.792723\n",
       "2    21.516487\n",
       "1    12.614122\n",
       "0    11.076667\n",
       "Name: plane, dtype: float64"
      ]
     },
     "execution_count": 66,
     "metadata": {},
     "output_type": "execute_result"
    }
   ],
   "source": [
    "# Fraction of hits in the bottom plane\n",
    "df_crt['plane'].value_counts()/len(df_crt)*100"
   ]
  },
  {
   "cell_type": "code",
   "execution_count": 67,
   "metadata": {},
   "outputs": [],
   "source": [
    "# Area used to do the rate measurement\n",
    "z_max = 600\n",
    "area = (z_max-276.73)*(400+129.95)*1e-4 #in m*m\n",
    "z_q = 'z<@z_max'"
   ]
  },
  {
   "cell_type": "code",
   "execution_count": 68,
   "metadata": {},
   "outputs": [
    {
     "name": "stdout",
     "output_type": "stream",
     "text": [
      "95.1021760329593\n"
     ]
    }
   ],
   "source": [
    "# Rate from totel hits / total time: \n",
    "total_hits = len(df_crt.query('plane==0').query(z_q))\n",
    "total_time = (4068.6+1931.4)*num_events_data/1e6   # in seconds\n",
    "rate = total_hits/(total_time)/area\n",
    "print(rate)"
   ]
  },
  {
   "cell_type": "code",
   "execution_count": 69,
   "metadata": {
    "scrolled": false
   },
   "outputs": [
    {
     "data": {
      "text/plain": [
       "count    251265.000000\n",
       "mean       1053.748291\n",
       "std        1728.893677\n",
       "min       -1931.394043\n",
       "25%        -422.606995\n",
       "50%        1031.171997\n",
       "75%        2553.177979\n",
       "max        4068.593994\n",
       "Name: time, dtype: float64"
      ]
     },
     "execution_count": 69,
     "metadata": {},
     "output_type": "execute_result"
    }
   ],
   "source": [
    "time_min = -2.5e5 \n",
    "time_max = -1*time_min\n",
    "mask = df_crt.query('plane==0').query(z_q)['time'].between(time_min,time_max)\n",
    "sum(mask)/len(mask)\n",
    "df_crt.query('plane==0').query(z_q)['time'][mask].describe()"
   ]
  },
  {
   "cell_type": "code",
   "execution_count": 70,
   "metadata": {},
   "outputs": [
    {
     "data": {
      "text/html": [
       "<div>\n",
       "<style scoped>\n",
       "    .dataframe tbody tr th:only-of-type {\n",
       "        vertical-align: middle;\n",
       "    }\n",
       "\n",
       "    .dataframe tbody tr th {\n",
       "        vertical-align: top;\n",
       "    }\n",
       "\n",
       "    .dataframe thead th {\n",
       "        text-align: right;\n",
       "    }\n",
       "</style>\n",
       "<table border=\"1\" class=\"dataframe\">\n",
       "  <thead>\n",
       "    <tr style=\"text-align: right;\">\n",
       "      <th></th>\n",
       "      <th>event</th>\n",
       "      <th>run</th>\n",
       "      <th>subrun</th>\n",
       "      <th>time</th>\n",
       "      <th>dt_prev</th>\n",
       "      <th>dt_next</th>\n",
       "      <th>z</th>\n",
       "    </tr>\n",
       "  </thead>\n",
       "  <tbody>\n",
       "    <tr>\n",
       "      <th>993219</th>\n",
       "      <td>1</td>\n",
       "      <td>15356</td>\n",
       "      <td>0</td>\n",
       "      <td>-1306.281982</td>\n",
       "      <td>-5045.534180</td>\n",
       "      <td>-340.898010</td>\n",
       "      <td>543.558899</td>\n",
       "    </tr>\n",
       "    <tr>\n",
       "      <th>993221</th>\n",
       "      <td>1</td>\n",
       "      <td>15356</td>\n",
       "      <td>0</td>\n",
       "      <td>-965.383972</td>\n",
       "      <td>340.898010</td>\n",
       "      <td>-1125.824951</td>\n",
       "      <td>411.647156</td>\n",
       "    </tr>\n",
       "    <tr>\n",
       "      <th>993222</th>\n",
       "      <td>1</td>\n",
       "      <td>15356</td>\n",
       "      <td>0</td>\n",
       "      <td>160.440994</td>\n",
       "      <td>1125.824951</td>\n",
       "      <td>-219.048996</td>\n",
       "      <td>511.656342</td>\n",
       "    </tr>\n",
       "    <tr>\n",
       "      <th>993223</th>\n",
       "      <td>1</td>\n",
       "      <td>15356</td>\n",
       "      <td>0</td>\n",
       "      <td>379.489990</td>\n",
       "      <td>219.048996</td>\n",
       "      <td>-188.595032</td>\n",
       "      <td>519.301331</td>\n",
       "    </tr>\n",
       "    <tr>\n",
       "      <th>993224</th>\n",
       "      <td>1</td>\n",
       "      <td>15356</td>\n",
       "      <td>0</td>\n",
       "      <td>568.085022</td>\n",
       "      <td>188.595032</td>\n",
       "      <td>-761.549011</td>\n",
       "      <td>512.177917</td>\n",
       "    </tr>\n",
       "  </tbody>\n",
       "</table>\n",
       "</div>"
      ],
      "text/plain": [
       "        event    run  subrun         time      dt_prev      dt_next  \\\n",
       "993219      1  15356       0 -1306.281982 -5045.534180  -340.898010   \n",
       "993221      1  15356       0  -965.383972   340.898010 -1125.824951   \n",
       "993222      1  15356       0   160.440994  1125.824951  -219.048996   \n",
       "993223      1  15356       0   379.489990   219.048996  -188.595032   \n",
       "993224      1  15356       0   568.085022   188.595032  -761.549011   \n",
       "\n",
       "                 z  \n",
       "993219  543.558899  \n",
       "993221  411.647156  \n",
       "993222  511.656342  \n",
       "993223  519.301331  \n",
       "993224  512.177917  "
      ]
     },
     "execution_count": 70,
     "metadata": {},
     "output_type": "execute_result"
    }
   ],
   "source": [
    "# Can I see the dead time between panels? -> Time between hits plots!\n",
    "df_crt_sorted = df_crt.query('plane==0').query(z_q).sort_values(by=['event','run','subrun','time']).copy()\n",
    "df_crt_sorted['dt_prev'] = df_crt_sorted['time']-np.roll(df_crt_sorted['time'],1) \n",
    "df_crt_sorted['dt_next'] = df_crt_sorted['time']-np.roll(df_crt_sorted['time'],-1) \n",
    "df_crt_sorted[['event','run','subrun','time','dt_prev','dt_next','z']].head(5)"
   ]
  },
  {
   "cell_type": "code",
   "execution_count": 71,
   "metadata": {
    "scrolled": false
   },
   "outputs": [
    {
     "name": "stdout",
     "output_type": "stream",
     "text": [
      "-1.803200718875283 8.989823972891282\n",
      "0.005998511225064941\n",
      "[-1.80320072  8.98982401]\n",
      "0.0017131693650000003\n",
      "1803.200718875283\n",
      "Rate = 105.3 +/- 0.4 [/m*m*s]\n"
     ]
    },
    {
     "data": {
      "image/png": "[encoded data removed]",
      "text/plain": [
       "<Figure size 504x252 with 2 Axes>"
      ]
     },
     "metadata": {
      "needs_background": "light"
     },
     "output_type": "display_data"
    }
   ],
   "source": [
    "fig, ax = plt.subplots(1, 2, figsize=(7, 3.5), sharex = False)\n",
    "\n",
    "N=100\n",
    "skip_bins = 2\n",
    "x_max = 2000\n",
    "x_max_zoom = 40\n",
    "zoom = x_max/x_max_zoom\n",
    "\n",
    "bins, edges, _ = ax[0].hist(df_crt_sorted['dt_prev']/1000, bins=N, \n",
    "                            range=(0,x_max/1000), label='BNB On, bottom panel')\n",
    "centers = edges[:-1] + np.diff(edges)/2\n",
    "\n",
    "#--fit--------------------------------------------------------------------------------------\n",
    "slope, intercept, r_value, p_value, std_err = linregress(centers[skip_bins:], np.log(bins[skip_bins:]))\n",
    "coefs = np.polyfit( centers[skip_bins:],np.log(bins[skip_bins:]),1)\n",
    "ffit = poly.polyval(centers, [intercept,slope])\n",
    "print(slope, intercept)\n",
    "print(std_err)\n",
    "print(coefs)\n",
    "#--------------------------------------------------------------------------------------------\n",
    "\n",
    "ax[0].plot(centers[skip_bins:],np.exp(ffit[skip_bins:]), lw=2,\n",
    "           label = r\"Fit: {0:.1f}$\\pm${1:.1f} [1/(m$^2$s)]\".format(slope*-1000/area, std_err*1000/area ))\n",
    "ax[0].set_xlabel(r'Time since the previous flash [ms]')\n",
    "ax[0].set_ylabel('CRT hits per bin')\n",
    "ax[0].legend()\n",
    "\n",
    "bins, edges, _ = ax[1].hist(df_crt_sorted['dt_prev'], bins=N, range=(0,x_max_zoom))\n",
    "centers = edges[:-1] + np.diff(edges)/2\n",
    "ffit = poly.polyval(centers, [intercept,slope/1000])\n",
    "ax[1].plot(centers,np.exp(ffit)/zoom, label = 'exp fit', lw=2)\n",
    "ax[1].set_xlabel(r'Time since the previous flash [$\\mu$s]')\n",
    "ax[1].set_yscale(\"log\", nonposy='clip')\n",
    "ax[1].set_ylabel('CRT hits per bin')\n",
    "ax[1].text(10,5e3,r'Zoom: [0 $\\mu$s, 40 $\\mu$s]', fontsize=12)\n",
    "\n",
    "fig.tight_layout()\n",
    "\n",
    "# Final rate of CRT hits per m*m*s:\n",
    "print(area*1e-4)\n",
    "print(-slope*1000)\n",
    "print(r\"Rate = {0:.1f} +/- {1:.1f} [/m*m*s]\".format(-1*slope*1000/area, std_err*1000/area ) )\n",
    "\n",
    "plt.savefig(outdir+\"exp_fit_bottom.pdf\", bbox_inches=\"tight\")"
   ]
  },
  {
   "cell_type": "code",
   "execution_count": 72,
   "metadata": {},
   "outputs": [
    {
     "data": {
      "image/png": "[encoded data removed]",
      "text/plain": [
       "<Figure size 504x216 with 2 Axes>"
      ]
     },
     "metadata": {
      "needs_background": "light"
     },
     "output_type": "display_data"
    }
   ],
   "source": [
    "fig, ax = plt.subplots(1, 2, figsize=(7, 3), sharex = True)\n",
    "\n",
    "ax[0].hist(df_crt['pe'], range=(0,439), bins=220,\n",
    "           label = r\"$\\lambda =$ {0:.1f}\".format(df_crt['pe'].mean()))\n",
    "ax[0].set_title(\"BNB On\", loc='left')\n",
    "ax[0].set_title(\"Alls panels\", loc='right')\n",
    "ax[0].set_xlabel(r'CRT hit intensity [PE]')\n",
    "ax[0].set_ylabel(r'CRT hits per bin')\n",
    "ax[0].legend()\n",
    "\n",
    "ax[1].hist(df_crt.query('plane==0')['pe'], range=(0,439), bins=220,\n",
    "           label = r\"$\\lambda =$ {0:.1f}\".format(df_crt.query('plane==0')['pe'].mean()))\n",
    "ax[1].set_title(\"BNB On\", loc='left')\n",
    "ax[1].set_title(\"Bottom panel\", loc='right')\n",
    "ax[1].set_xlabel(r'CRT hit intensity [PE]')\n",
    "ax[1].set_ylabel(r'CRT hits per bin')\n",
    "ax[1].legend()\n",
    "\n",
    "fig.tight_layout()\n",
    "plt.savefig(outdir+\"pe_hits.pdf\", bbox_inches=\"tight\")"
   ]
  },
  {
   "cell_type": "code",
   "execution_count": null,
   "metadata": {},
   "outputs": [],
   "source": []
  }
 ],
 "metadata": {
  "kernelspec": {
   "display_name": "Uproot Env",
   "language": "python",
   "name": "uprootenv"
  },
  "language_info": {
   "codemirror_mode": {
    "name": "ipython",
    "version": 3
   },
   "file_extension": ".py",
   "mimetype": "text/x-python",
   "name": "python",
   "nbconvert_exporter": "python",
   "pygments_lexer": "ipython3",
   "version": "3.5.6"
  }
 },
 "nbformat": 4,
 "nbformat_minor": 2
}
